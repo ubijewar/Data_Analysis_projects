{
 "cells": [
  {
   "cell_type": "code",
   "execution_count": 1,
   "id": "2257880c",
   "metadata": {},
   "outputs": [],
   "source": [
    "import pandas as pd\n",
    "import numpy as np\n",
    "import matplotlib.pyplot as plt\n",
    "import seaborn as sns"
   ]
  },
  {
   "cell_type": "code",
   "execution_count": 2,
   "id": "425b357d",
   "metadata": {},
   "outputs": [],
   "source": [
    "dtf=pd.read_csv('Uber Request Data.csv')"
   ]
  },
  {
   "cell_type": "code",
   "execution_count": 3,
   "id": "100359d3",
   "metadata": {},
   "outputs": [
    {
     "data": {
      "text/html": [
       "<div>\n",
       "<style scoped>\n",
       "    .dataframe tbody tr th:only-of-type {\n",
       "        vertical-align: middle;\n",
       "    }\n",
       "\n",
       "    .dataframe tbody tr th {\n",
       "        vertical-align: top;\n",
       "    }\n",
       "\n",
       "    .dataframe thead th {\n",
       "        text-align: right;\n",
       "    }\n",
       "</style>\n",
       "<table border=\"1\" class=\"dataframe\">\n",
       "  <thead>\n",
       "    <tr style=\"text-align: right;\">\n",
       "      <th></th>\n",
       "      <th>Request id</th>\n",
       "      <th>Pickup point</th>\n",
       "      <th>Driver id</th>\n",
       "      <th>Status</th>\n",
       "      <th>Request timestamp</th>\n",
       "      <th>Drop timestamp</th>\n",
       "    </tr>\n",
       "  </thead>\n",
       "  <tbody>\n",
       "    <tr>\n",
       "      <th>0</th>\n",
       "      <td>619</td>\n",
       "      <td>Airport</td>\n",
       "      <td>1.0</td>\n",
       "      <td>Trip Completed</td>\n",
       "      <td>11/07/2016 11:51</td>\n",
       "      <td>11/07/2016 13:00</td>\n",
       "    </tr>\n",
       "    <tr>\n",
       "      <th>1</th>\n",
       "      <td>867</td>\n",
       "      <td>Airport</td>\n",
       "      <td>1.0</td>\n",
       "      <td>Trip Completed</td>\n",
       "      <td>11/07/2016 17:57</td>\n",
       "      <td>11/07/2016 18:47</td>\n",
       "    </tr>\n",
       "    <tr>\n",
       "      <th>2</th>\n",
       "      <td>1807</td>\n",
       "      <td>City</td>\n",
       "      <td>1.0</td>\n",
       "      <td>Trip Completed</td>\n",
       "      <td>12/07/2016 09:17</td>\n",
       "      <td>12/07/2016 09:58</td>\n",
       "    </tr>\n",
       "    <tr>\n",
       "      <th>3</th>\n",
       "      <td>2532</td>\n",
       "      <td>Airport</td>\n",
       "      <td>1.0</td>\n",
       "      <td>Trip Completed</td>\n",
       "      <td>12/07/2016 21:08</td>\n",
       "      <td>12/07/2016 22:03</td>\n",
       "    </tr>\n",
       "    <tr>\n",
       "      <th>4</th>\n",
       "      <td>3112</td>\n",
       "      <td>City</td>\n",
       "      <td>1.0</td>\n",
       "      <td>Trip Completed</td>\n",
       "      <td>13/07/2016 08:33</td>\n",
       "      <td>13/07/2016 09:25</td>\n",
       "    </tr>\n",
       "    <tr>\n",
       "      <th>...</th>\n",
       "      <td>...</td>\n",
       "      <td>...</td>\n",
       "      <td>...</td>\n",
       "      <td>...</td>\n",
       "      <td>...</td>\n",
       "      <td>...</td>\n",
       "    </tr>\n",
       "    <tr>\n",
       "      <th>6740</th>\n",
       "      <td>6745</td>\n",
       "      <td>City</td>\n",
       "      <td>NaN</td>\n",
       "      <td>No Cars Available</td>\n",
       "      <td>15/07/2016 23:49</td>\n",
       "      <td>NaN</td>\n",
       "    </tr>\n",
       "    <tr>\n",
       "      <th>6741</th>\n",
       "      <td>6752</td>\n",
       "      <td>Airport</td>\n",
       "      <td>NaN</td>\n",
       "      <td>No Cars Available</td>\n",
       "      <td>15/07/2016 23:50</td>\n",
       "      <td>NaN</td>\n",
       "    </tr>\n",
       "    <tr>\n",
       "      <th>6742</th>\n",
       "      <td>6751</td>\n",
       "      <td>City</td>\n",
       "      <td>NaN</td>\n",
       "      <td>No Cars Available</td>\n",
       "      <td>15/07/2016 23:52</td>\n",
       "      <td>NaN</td>\n",
       "    </tr>\n",
       "    <tr>\n",
       "      <th>6743</th>\n",
       "      <td>6754</td>\n",
       "      <td>City</td>\n",
       "      <td>NaN</td>\n",
       "      <td>No Cars Available</td>\n",
       "      <td>15/07/2016 23:54</td>\n",
       "      <td>NaN</td>\n",
       "    </tr>\n",
       "    <tr>\n",
       "      <th>6744</th>\n",
       "      <td>6753</td>\n",
       "      <td>Airport</td>\n",
       "      <td>NaN</td>\n",
       "      <td>No Cars Available</td>\n",
       "      <td>15/07/2016 23:55</td>\n",
       "      <td>NaN</td>\n",
       "    </tr>\n",
       "  </tbody>\n",
       "</table>\n",
       "<p>6745 rows × 6 columns</p>\n",
       "</div>"
      ],
      "text/plain": [
       "      Request id Pickup point  Driver id             Status Request timestamp  \\\n",
       "0            619      Airport        1.0     Trip Completed  11/07/2016 11:51   \n",
       "1            867      Airport        1.0     Trip Completed  11/07/2016 17:57   \n",
       "2           1807         City        1.0     Trip Completed  12/07/2016 09:17   \n",
       "3           2532      Airport        1.0     Trip Completed  12/07/2016 21:08   \n",
       "4           3112         City        1.0     Trip Completed  13/07/2016 08:33   \n",
       "...          ...          ...        ...                ...               ...   \n",
       "6740        6745         City        NaN  No Cars Available  15/07/2016 23:49   \n",
       "6741        6752      Airport        NaN  No Cars Available  15/07/2016 23:50   \n",
       "6742        6751         City        NaN  No Cars Available  15/07/2016 23:52   \n",
       "6743        6754         City        NaN  No Cars Available  15/07/2016 23:54   \n",
       "6744        6753      Airport        NaN  No Cars Available  15/07/2016 23:55   \n",
       "\n",
       "        Drop timestamp  \n",
       "0     11/07/2016 13:00  \n",
       "1     11/07/2016 18:47  \n",
       "2     12/07/2016 09:58  \n",
       "3     12/07/2016 22:03  \n",
       "4     13/07/2016 09:25  \n",
       "...                ...  \n",
       "6740               NaN  \n",
       "6741               NaN  \n",
       "6742               NaN  \n",
       "6743               NaN  \n",
       "6744               NaN  \n",
       "\n",
       "[6745 rows x 6 columns]"
      ]
     },
     "execution_count": 3,
     "metadata": {},
     "output_type": "execute_result"
    }
   ],
   "source": [
    "dtf"
   ]
  },
  {
   "cell_type": "code",
   "execution_count": 4,
   "id": "b0093f70",
   "metadata": {},
   "outputs": [
    {
     "data": {
      "text/html": [
       "<div>\n",
       "<style scoped>\n",
       "    .dataframe tbody tr th:only-of-type {\n",
       "        vertical-align: middle;\n",
       "    }\n",
       "\n",
       "    .dataframe tbody tr th {\n",
       "        vertical-align: top;\n",
       "    }\n",
       "\n",
       "    .dataframe thead th {\n",
       "        text-align: right;\n",
       "    }\n",
       "</style>\n",
       "<table border=\"1\" class=\"dataframe\">\n",
       "  <thead>\n",
       "    <tr style=\"text-align: right;\">\n",
       "      <th></th>\n",
       "      <th>Request id</th>\n",
       "      <th>Pickup point</th>\n",
       "      <th>Driver id</th>\n",
       "      <th>Status</th>\n",
       "      <th>Request timestamp</th>\n",
       "      <th>Drop timestamp</th>\n",
       "    </tr>\n",
       "  </thead>\n",
       "  <tbody>\n",
       "    <tr>\n",
       "      <th>0</th>\n",
       "      <td>619</td>\n",
       "      <td>Airport</td>\n",
       "      <td>1.0</td>\n",
       "      <td>Trip Completed</td>\n",
       "      <td>11/07/2016 11:51</td>\n",
       "      <td>11/07/2016 13:00</td>\n",
       "    </tr>\n",
       "    <tr>\n",
       "      <th>1</th>\n",
       "      <td>867</td>\n",
       "      <td>Airport</td>\n",
       "      <td>1.0</td>\n",
       "      <td>Trip Completed</td>\n",
       "      <td>11/07/2016 17:57</td>\n",
       "      <td>11/07/2016 18:47</td>\n",
       "    </tr>\n",
       "    <tr>\n",
       "      <th>2</th>\n",
       "      <td>1807</td>\n",
       "      <td>City</td>\n",
       "      <td>1.0</td>\n",
       "      <td>Trip Completed</td>\n",
       "      <td>12/07/2016 09:17</td>\n",
       "      <td>12/07/2016 09:58</td>\n",
       "    </tr>\n",
       "    <tr>\n",
       "      <th>3</th>\n",
       "      <td>2532</td>\n",
       "      <td>Airport</td>\n",
       "      <td>1.0</td>\n",
       "      <td>Trip Completed</td>\n",
       "      <td>12/07/2016 21:08</td>\n",
       "      <td>12/07/2016 22:03</td>\n",
       "    </tr>\n",
       "    <tr>\n",
       "      <th>4</th>\n",
       "      <td>3112</td>\n",
       "      <td>City</td>\n",
       "      <td>1.0</td>\n",
       "      <td>Trip Completed</td>\n",
       "      <td>13/07/2016 08:33</td>\n",
       "      <td>13/07/2016 09:25</td>\n",
       "    </tr>\n",
       "  </tbody>\n",
       "</table>\n",
       "</div>"
      ],
      "text/plain": [
       "   Request id Pickup point  Driver id          Status Request timestamp  \\\n",
       "0         619      Airport        1.0  Trip Completed  11/07/2016 11:51   \n",
       "1         867      Airport        1.0  Trip Completed  11/07/2016 17:57   \n",
       "2        1807         City        1.0  Trip Completed  12/07/2016 09:17   \n",
       "3        2532      Airport        1.0  Trip Completed  12/07/2016 21:08   \n",
       "4        3112         City        1.0  Trip Completed  13/07/2016 08:33   \n",
       "\n",
       "     Drop timestamp  \n",
       "0  11/07/2016 13:00  \n",
       "1  11/07/2016 18:47  \n",
       "2  12/07/2016 09:58  \n",
       "3  12/07/2016 22:03  \n",
       "4  13/07/2016 09:25  "
      ]
     },
     "execution_count": 4,
     "metadata": {},
     "output_type": "execute_result"
    }
   ],
   "source": [
    "#Show the Fast 5 records of the dataset.\n",
    "#dtf[:5] \n",
    "dtf.head()"
   ]
  },
  {
   "cell_type": "code",
   "execution_count": 5,
   "id": "e3c0c822",
   "metadata": {},
   "outputs": [
    {
     "data": {
      "text/html": [
       "<div>\n",
       "<style scoped>\n",
       "    .dataframe tbody tr th:only-of-type {\n",
       "        vertical-align: middle;\n",
       "    }\n",
       "\n",
       "    .dataframe tbody tr th {\n",
       "        vertical-align: top;\n",
       "    }\n",
       "\n",
       "    .dataframe thead th {\n",
       "        text-align: right;\n",
       "    }\n",
       "</style>\n",
       "<table border=\"1\" class=\"dataframe\">\n",
       "  <thead>\n",
       "    <tr style=\"text-align: right;\">\n",
       "      <th></th>\n",
       "      <th>Request id</th>\n",
       "      <th>Pickup point</th>\n",
       "      <th>Driver id</th>\n",
       "      <th>Status</th>\n",
       "      <th>Request timestamp</th>\n",
       "      <th>Drop timestamp</th>\n",
       "    </tr>\n",
       "  </thead>\n",
       "  <tbody>\n",
       "    <tr>\n",
       "      <th>6740</th>\n",
       "      <td>6745</td>\n",
       "      <td>City</td>\n",
       "      <td>NaN</td>\n",
       "      <td>No Cars Available</td>\n",
       "      <td>15/07/2016 23:49</td>\n",
       "      <td>NaN</td>\n",
       "    </tr>\n",
       "    <tr>\n",
       "      <th>6741</th>\n",
       "      <td>6752</td>\n",
       "      <td>Airport</td>\n",
       "      <td>NaN</td>\n",
       "      <td>No Cars Available</td>\n",
       "      <td>15/07/2016 23:50</td>\n",
       "      <td>NaN</td>\n",
       "    </tr>\n",
       "    <tr>\n",
       "      <th>6742</th>\n",
       "      <td>6751</td>\n",
       "      <td>City</td>\n",
       "      <td>NaN</td>\n",
       "      <td>No Cars Available</td>\n",
       "      <td>15/07/2016 23:52</td>\n",
       "      <td>NaN</td>\n",
       "    </tr>\n",
       "    <tr>\n",
       "      <th>6743</th>\n",
       "      <td>6754</td>\n",
       "      <td>City</td>\n",
       "      <td>NaN</td>\n",
       "      <td>No Cars Available</td>\n",
       "      <td>15/07/2016 23:54</td>\n",
       "      <td>NaN</td>\n",
       "    </tr>\n",
       "    <tr>\n",
       "      <th>6744</th>\n",
       "      <td>6753</td>\n",
       "      <td>Airport</td>\n",
       "      <td>NaN</td>\n",
       "      <td>No Cars Available</td>\n",
       "      <td>15/07/2016 23:55</td>\n",
       "      <td>NaN</td>\n",
       "    </tr>\n",
       "  </tbody>\n",
       "</table>\n",
       "</div>"
      ],
      "text/plain": [
       "      Request id Pickup point  Driver id             Status Request timestamp  \\\n",
       "6740        6745         City        NaN  No Cars Available  15/07/2016 23:49   \n",
       "6741        6752      Airport        NaN  No Cars Available  15/07/2016 23:50   \n",
       "6742        6751         City        NaN  No Cars Available  15/07/2016 23:52   \n",
       "6743        6754         City        NaN  No Cars Available  15/07/2016 23:54   \n",
       "6744        6753      Airport        NaN  No Cars Available  15/07/2016 23:55   \n",
       "\n",
       "     Drop timestamp  \n",
       "6740            NaN  \n",
       "6741            NaN  \n",
       "6742            NaN  \n",
       "6743            NaN  \n",
       "6744            NaN  "
      ]
     },
     "execution_count": 5,
     "metadata": {},
     "output_type": "execute_result"
    }
   ],
   "source": [
    "#Show the last 5 records of the dataset.\n",
    "dtf.tail()"
   ]
  },
  {
   "cell_type": "code",
   "execution_count": 6,
   "id": "a4ccc04a",
   "metadata": {},
   "outputs": [
    {
     "data": {
      "text/plain": [
       "(6745, 6)"
      ]
     },
     "execution_count": 6,
     "metadata": {},
     "output_type": "execute_result"
    }
   ],
   "source": [
    "# Total shape of the Dataset.\n",
    "dtf.shape"
   ]
  },
  {
   "cell_type": "code",
   "execution_count": 7,
   "id": "27f02cb6",
   "metadata": {},
   "outputs": [
    {
     "data": {
      "text/plain": [
       "40470"
      ]
     },
     "execution_count": 7,
     "metadata": {},
     "output_type": "execute_result"
    }
   ],
   "source": [
    "#Total size of the Dataset.\n",
    "dtf.size"
   ]
  },
  {
   "cell_type": "code",
   "execution_count": 8,
   "id": "d7501096",
   "metadata": {},
   "outputs": [
    {
     "name": "stdout",
     "output_type": "stream",
     "text": [
      "<class 'pandas.core.frame.DataFrame'>\n",
      "RangeIndex: 6745 entries, 0 to 6744\n",
      "Data columns (total 6 columns):\n",
      " #   Column             Non-Null Count  Dtype  \n",
      "---  ------             --------------  -----  \n",
      " 0   Request id         6745 non-null   int64  \n",
      " 1   Pickup point       6745 non-null   object \n",
      " 2   Driver id          4095 non-null   float64\n",
      " 3   Status             6745 non-null   object \n",
      " 4   Request timestamp  6745 non-null   object \n",
      " 5   Drop timestamp     2831 non-null   object \n",
      "dtypes: float64(1), int64(1), object(4)\n",
      "memory usage: 316.3+ KB\n"
     ]
    }
   ],
   "source": [
    "#All information about the Dataset.\n",
    "dtf.info()"
   ]
  },
  {
   "cell_type": "code",
   "execution_count": 9,
   "id": "c027c958",
   "metadata": {},
   "outputs": [
    {
     "data": {
      "text/plain": [
       "6564"
      ]
     },
     "execution_count": 9,
     "metadata": {},
     "output_type": "execute_result"
    }
   ],
   "source": [
    "#How may missing values are presnt.\n",
    "dtf.isnull().values.sum()"
   ]
  },
  {
   "cell_type": "code",
   "execution_count": 10,
   "id": "cba0eb49",
   "metadata": {},
   "outputs": [
    {
     "data": {
      "text/plain": [
       "Request id              0\n",
       "Pickup point            0\n",
       "Driver id            2650\n",
       "Status                  0\n",
       "Request timestamp       0\n",
       "Drop timestamp       3914\n",
       "dtype: int64"
      ]
     },
     "execution_count": 10,
     "metadata": {},
     "output_type": "execute_result"
    }
   ],
   "source": [
    "#Show the all null values.\n",
    "dtf.isnull().sum()"
   ]
  },
  {
   "cell_type": "code",
   "execution_count": 11,
   "id": "7f909e28",
   "metadata": {},
   "outputs": [
    {
     "data": {
      "text/plain": [
       "Request id            0.000000\n",
       "Pickup point          0.000000\n",
       "Driver id            39.288362\n",
       "Status                0.000000\n",
       "Request timestamp     0.000000\n",
       "Drop timestamp       58.028169\n",
       "dtype: float64"
      ]
     },
     "execution_count": 11,
     "metadata": {},
     "output_type": "execute_result"
    }
   ],
   "source": [
    "dtf.isnull().sum()/len(dtf)*100"
   ]
  },
  {
   "cell_type": "markdown",
   "id": "9cf8ce5f",
   "metadata": {},
   "source": [
    "### Drop the unnecessary columns from dataframe."
   ]
  },
  {
   "cell_type": "code",
   "execution_count": 12,
   "id": "206dd2f2",
   "metadata": {},
   "outputs": [
    {
     "data": {
      "text/html": [
       "<div>\n",
       "<style scoped>\n",
       "    .dataframe tbody tr th:only-of-type {\n",
       "        vertical-align: middle;\n",
       "    }\n",
       "\n",
       "    .dataframe tbody tr th {\n",
       "        vertical-align: top;\n",
       "    }\n",
       "\n",
       "    .dataframe thead th {\n",
       "        text-align: right;\n",
       "    }\n",
       "</style>\n",
       "<table border=\"1\" class=\"dataframe\">\n",
       "  <thead>\n",
       "    <tr style=\"text-align: right;\">\n",
       "      <th></th>\n",
       "      <th>Request id</th>\n",
       "      <th>Pickup point</th>\n",
       "      <th>Driver id</th>\n",
       "      <th>Status</th>\n",
       "      <th>Request timestamp</th>\n",
       "    </tr>\n",
       "  </thead>\n",
       "  <tbody>\n",
       "    <tr>\n",
       "      <th>0</th>\n",
       "      <td>619</td>\n",
       "      <td>Airport</td>\n",
       "      <td>1.0</td>\n",
       "      <td>Trip Completed</td>\n",
       "      <td>11/07/2016 11:51</td>\n",
       "    </tr>\n",
       "    <tr>\n",
       "      <th>1</th>\n",
       "      <td>867</td>\n",
       "      <td>Airport</td>\n",
       "      <td>1.0</td>\n",
       "      <td>Trip Completed</td>\n",
       "      <td>11/07/2016 17:57</td>\n",
       "    </tr>\n",
       "    <tr>\n",
       "      <th>2</th>\n",
       "      <td>1807</td>\n",
       "      <td>City</td>\n",
       "      <td>1.0</td>\n",
       "      <td>Trip Completed</td>\n",
       "      <td>12/07/2016 09:17</td>\n",
       "    </tr>\n",
       "    <tr>\n",
       "      <th>3</th>\n",
       "      <td>2532</td>\n",
       "      <td>Airport</td>\n",
       "      <td>1.0</td>\n",
       "      <td>Trip Completed</td>\n",
       "      <td>12/07/2016 21:08</td>\n",
       "    </tr>\n",
       "    <tr>\n",
       "      <th>4</th>\n",
       "      <td>3112</td>\n",
       "      <td>City</td>\n",
       "      <td>1.0</td>\n",
       "      <td>Trip Completed</td>\n",
       "      <td>13/07/2016 08:33</td>\n",
       "    </tr>\n",
       "  </tbody>\n",
       "</table>\n",
       "</div>"
      ],
      "text/plain": [
       "   Request id Pickup point  Driver id          Status Request timestamp\n",
       "0         619      Airport        1.0  Trip Completed  11/07/2016 11:51\n",
       "1         867      Airport        1.0  Trip Completed  11/07/2016 17:57\n",
       "2        1807         City        1.0  Trip Completed  12/07/2016 09:17\n",
       "3        2532      Airport        1.0  Trip Completed  12/07/2016 21:08\n",
       "4        3112         City        1.0  Trip Completed  13/07/2016 08:33"
      ]
     },
     "execution_count": 12,
     "metadata": {},
     "output_type": "execute_result"
    }
   ],
   "source": [
    "dtf.drop('Drop timestamp', axis=1,inplace=True)\n",
    "dtf.head()"
   ]
  },
  {
   "cell_type": "markdown",
   "id": "e29a6f0a",
   "metadata": {},
   "source": [
    "### Fill the missing value.\n",
    "#(149.0 is missing value number (Driver id))"
   ]
  },
  {
   "cell_type": "code",
   "execution_count": 13,
   "id": "060ea1d2",
   "metadata": {},
   "outputs": [
    {
     "data": {
      "text/html": [
       "<div>\n",
       "<style scoped>\n",
       "    .dataframe tbody tr th:only-of-type {\n",
       "        vertical-align: middle;\n",
       "    }\n",
       "\n",
       "    .dataframe tbody tr th {\n",
       "        vertical-align: top;\n",
       "    }\n",
       "\n",
       "    .dataframe thead th {\n",
       "        text-align: right;\n",
       "    }\n",
       "</style>\n",
       "<table border=\"1\" class=\"dataframe\">\n",
       "  <thead>\n",
       "    <tr style=\"text-align: right;\">\n",
       "      <th></th>\n",
       "      <th>Request id</th>\n",
       "      <th>Pickup point</th>\n",
       "      <th>Driver id</th>\n",
       "      <th>Status</th>\n",
       "      <th>Request timestamp</th>\n",
       "    </tr>\n",
       "  </thead>\n",
       "  <tbody>\n",
       "    <tr>\n",
       "      <th>0</th>\n",
       "      <td>619</td>\n",
       "      <td>Airport</td>\n",
       "      <td>1.0</td>\n",
       "      <td>Trip Completed</td>\n",
       "      <td>11/07/2016 11:51</td>\n",
       "    </tr>\n",
       "    <tr>\n",
       "      <th>1</th>\n",
       "      <td>867</td>\n",
       "      <td>Airport</td>\n",
       "      <td>1.0</td>\n",
       "      <td>Trip Completed</td>\n",
       "      <td>11/07/2016 17:57</td>\n",
       "    </tr>\n",
       "    <tr>\n",
       "      <th>2</th>\n",
       "      <td>1807</td>\n",
       "      <td>City</td>\n",
       "      <td>1.0</td>\n",
       "      <td>Trip Completed</td>\n",
       "      <td>12/07/2016 09:17</td>\n",
       "    </tr>\n",
       "    <tr>\n",
       "      <th>3</th>\n",
       "      <td>2532</td>\n",
       "      <td>Airport</td>\n",
       "      <td>1.0</td>\n",
       "      <td>Trip Completed</td>\n",
       "      <td>12/07/2016 21:08</td>\n",
       "    </tr>\n",
       "    <tr>\n",
       "      <th>4</th>\n",
       "      <td>3112</td>\n",
       "      <td>City</td>\n",
       "      <td>1.0</td>\n",
       "      <td>Trip Completed</td>\n",
       "      <td>13/07/2016 08:33</td>\n",
       "    </tr>\n",
       "  </tbody>\n",
       "</table>\n",
       "</div>"
      ],
      "text/plain": [
       "   Request id Pickup point  Driver id          Status Request timestamp\n",
       "0         619      Airport        1.0  Trip Completed  11/07/2016 11:51\n",
       "1         867      Airport        1.0  Trip Completed  11/07/2016 17:57\n",
       "2        1807         City        1.0  Trip Completed  12/07/2016 09:17\n",
       "3        2532      Airport        1.0  Trip Completed  12/07/2016 21:08\n",
       "4        3112         City        1.0  Trip Completed  13/07/2016 08:33"
      ]
     },
     "execution_count": 13,
     "metadata": {},
     "output_type": "execute_result"
    }
   ],
   "source": [
    "dtf['Driver id']=dtf['Driver id'].fillna(dtf['Driver id'].median())\n",
    "dtf.head()"
   ]
  },
  {
   "cell_type": "markdown",
   "id": "ddda0f48",
   "metadata": {},
   "source": [
    "#### Top 5 Request timestamp "
   ]
  },
  {
   "cell_type": "code",
   "execution_count": 14,
   "id": "12a1f198",
   "metadata": {},
   "outputs": [
    {
     "data": {
      "text/html": [
       "<div>\n",
       "<style scoped>\n",
       "    .dataframe tbody tr th:only-of-type {\n",
       "        vertical-align: middle;\n",
       "    }\n",
       "\n",
       "    .dataframe tbody tr th {\n",
       "        vertical-align: top;\n",
       "    }\n",
       "\n",
       "    .dataframe thead th {\n",
       "        text-align: right;\n",
       "    }\n",
       "</style>\n",
       "<table border=\"1\" class=\"dataframe\">\n",
       "  <thead>\n",
       "    <tr style=\"text-align: right;\">\n",
       "      <th></th>\n",
       "      <th>Request id</th>\n",
       "      <th>Pickup point</th>\n",
       "      <th>Driver id</th>\n",
       "      <th>Status</th>\n",
       "      <th>Request timestamp</th>\n",
       "    </tr>\n",
       "  </thead>\n",
       "  <tbody>\n",
       "    <tr>\n",
       "      <th>1303</th>\n",
       "      <td>1363</td>\n",
       "      <td>Airport</td>\n",
       "      <td>136.0</td>\n",
       "      <td>Trip Completed</td>\n",
       "      <td>11/07/2016 00:00</td>\n",
       "    </tr>\n",
       "    <tr>\n",
       "      <th>4095</th>\n",
       "      <td>1362</td>\n",
       "      <td>City</td>\n",
       "      <td>149.0</td>\n",
       "      <td>No Cars Available</td>\n",
       "      <td>11/07/2016 00:02</td>\n",
       "    </tr>\n",
       "    <tr>\n",
       "      <th>1462</th>\n",
       "      <td>1367</td>\n",
       "      <td>City</td>\n",
       "      <td>155.0</td>\n",
       "      <td>Trip Completed</td>\n",
       "      <td>11/07/2016 00:05</td>\n",
       "    </tr>\n",
       "    <tr>\n",
       "      <th>4096</th>\n",
       "      <td>1364</td>\n",
       "      <td>City</td>\n",
       "      <td>149.0</td>\n",
       "      <td>No Cars Available</td>\n",
       "      <td>11/07/2016 00:06</td>\n",
       "    </tr>\n",
       "    <tr>\n",
       "      <th>4097</th>\n",
       "      <td>1366</td>\n",
       "      <td>City</td>\n",
       "      <td>149.0</td>\n",
       "      <td>No Cars Available</td>\n",
       "      <td>11/07/2016 00:09</td>\n",
       "    </tr>\n",
       "  </tbody>\n",
       "</table>\n",
       "</div>"
      ],
      "text/plain": [
       "      Request id Pickup point  Driver id             Status Request timestamp\n",
       "1303        1363      Airport      136.0     Trip Completed  11/07/2016 00:00\n",
       "4095        1362         City      149.0  No Cars Available  11/07/2016 00:02\n",
       "1462        1367         City      155.0     Trip Completed  11/07/2016 00:05\n",
       "4096        1364         City      149.0  No Cars Available  11/07/2016 00:06\n",
       "4097        1366         City      149.0  No Cars Available  11/07/2016 00:09"
      ]
     },
     "execution_count": 14,
     "metadata": {},
     "output_type": "execute_result"
    }
   ],
   "source": [
    "#start the trip on 11.07.2016 (00.00).\n",
    "d1=dtf.sort_values(by='Request timestamp',ascending=True)\n",
    "d1.head()"
   ]
  },
  {
   "cell_type": "markdown",
   "id": "08a1c946",
   "metadata": {},
   "source": [
    "#### Last 5 Request timestamp in Uber "
   ]
  },
  {
   "cell_type": "code",
   "execution_count": 15,
   "id": "b7593a0a",
   "metadata": {},
   "outputs": [
    {
     "data": {
      "text/html": [
       "<div>\n",
       "<style scoped>\n",
       "    .dataframe tbody tr th:only-of-type {\n",
       "        vertical-align: middle;\n",
       "    }\n",
       "\n",
       "    .dataframe tbody tr th {\n",
       "        vertical-align: top;\n",
       "    }\n",
       "\n",
       "    .dataframe thead th {\n",
       "        text-align: right;\n",
       "    }\n",
       "</style>\n",
       "<table border=\"1\" class=\"dataframe\">\n",
       "  <thead>\n",
       "    <tr style=\"text-align: right;\">\n",
       "      <th></th>\n",
       "      <th>Request id</th>\n",
       "      <th>Pickup point</th>\n",
       "      <th>Driver id</th>\n",
       "      <th>Status</th>\n",
       "      <th>Request timestamp</th>\n",
       "    </tr>\n",
       "  </thead>\n",
       "  <tbody>\n",
       "    <tr>\n",
       "      <th>2401</th>\n",
       "      <td>6757</td>\n",
       "      <td>Airport</td>\n",
       "      <td>251.0</td>\n",
       "      <td>Trip Completed</td>\n",
       "      <td>15/07/2016 23:59</td>\n",
       "    </tr>\n",
       "    <tr>\n",
       "      <th>3339</th>\n",
       "      <td>6759</td>\n",
       "      <td>City</td>\n",
       "      <td>125.0</td>\n",
       "      <td>Cancelled</td>\n",
       "      <td>15/07/2016 23:59</td>\n",
       "    </tr>\n",
       "    <tr>\n",
       "      <th>1095</th>\n",
       "      <td>6755</td>\n",
       "      <td>Airport</td>\n",
       "      <td>113.0</td>\n",
       "      <td>Trip Completed</td>\n",
       "      <td>15/07/2016 23:57</td>\n",
       "    </tr>\n",
       "    <tr>\n",
       "      <th>1319</th>\n",
       "      <td>6756</td>\n",
       "      <td>City</td>\n",
       "      <td>137.0</td>\n",
       "      <td>Trip Completed</td>\n",
       "      <td>15/07/2016 23:57</td>\n",
       "    </tr>\n",
       "    <tr>\n",
       "      <th>6744</th>\n",
       "      <td>6753</td>\n",
       "      <td>Airport</td>\n",
       "      <td>149.0</td>\n",
       "      <td>No Cars Available</td>\n",
       "      <td>15/07/2016 23:55</td>\n",
       "    </tr>\n",
       "  </tbody>\n",
       "</table>\n",
       "</div>"
      ],
      "text/plain": [
       "      Request id Pickup point  Driver id             Status Request timestamp\n",
       "2401        6757      Airport      251.0     Trip Completed  15/07/2016 23:59\n",
       "3339        6759         City      125.0          Cancelled  15/07/2016 23:59\n",
       "1095        6755      Airport      113.0     Trip Completed  15/07/2016 23:57\n",
       "1319        6756         City      137.0     Trip Completed  15/07/2016 23:57\n",
       "6744        6753      Airport      149.0  No Cars Available  15/07/2016 23:55"
      ]
     },
     "execution_count": 15,
     "metadata": {},
     "output_type": "execute_result"
    }
   ],
   "source": [
    "#Last trip on 15.7.2016 (23.59).\n",
    "d1=dtf.sort_values(by='Request timestamp',ascending=False)\n",
    "d1.head()"
   ]
  },
  {
   "cell_type": "code",
   "execution_count": 16,
   "id": "1f44cf94",
   "metadata": {},
   "outputs": [
    {
     "data": {
      "text/plain": [
       "Index(['Request id', 'Pickup point', 'Driver id', 'Status',\n",
       "       'Request timestamp'],\n",
       "      dtype='object')"
      ]
     },
     "execution_count": 16,
     "metadata": {},
     "output_type": "execute_result"
    }
   ],
   "source": [
    "dtf.columns"
   ]
  },
  {
   "cell_type": "code",
   "execution_count": 17,
   "id": "51bdf04c",
   "metadata": {},
   "outputs": [
    {
     "data": {
      "text/plain": [
       "(6745, 5)"
      ]
     },
     "execution_count": 17,
     "metadata": {},
     "output_type": "execute_result"
    }
   ],
   "source": [
    "dtf.shape"
   ]
  },
  {
   "cell_type": "code",
   "execution_count": 18,
   "id": "593a8512",
   "metadata": {},
   "outputs": [
    {
     "data": {
      "text/plain": [
       "array(['Trip Completed', 'Cancelled', 'No Cars Available'], dtype=object)"
      ]
     },
     "execution_count": 18,
     "metadata": {},
     "output_type": "execute_result"
    }
   ],
   "source": [
    "dtf['Status'].unique()"
   ]
  },
  {
   "cell_type": "code",
   "execution_count": 19,
   "id": "e4d84a00",
   "metadata": {},
   "outputs": [
    {
     "data": {
      "text/plain": [
       "0"
      ]
     },
     "execution_count": 19,
     "metadata": {},
     "output_type": "execute_result"
    }
   ],
   "source": [
    "#Finde out Duplicate Value.\n",
    "dtf.duplicated('Request id').sum()"
   ]
  },
  {
   "cell_type": "code",
   "execution_count": 20,
   "id": "c104385e",
   "metadata": {},
   "outputs": [
    {
     "data": {
      "image/png": "[encoded data removed]",
      "text/plain": [
       "<Figure size 432x288 with 1 Axes>"
      ]
     },
     "metadata": {},
     "output_type": "display_data"
    }
   ],
   "source": [
    "dtf['Status'].value_counts().plot(kind='pie',autopct='%1.2f%%',explode=[0,0.1,0.1])\n",
    "plt.title('Status for uber')\n",
    "plt.show()"
   ]
  },
  {
   "cell_type": "markdown",
   "id": "ee11621e",
   "metadata": {},
   "source": [
    "This graph is defin Trip completed Percentage is 41.97%. and No cars availables is 39.29%. cancelled cars percentage is 18.74. \n",
    "we can see the data is mostly cancelled pecentage is higher than trip completed and cancelled."
   ]
  },
  {
   "cell_type": "code",
   "execution_count": 21,
   "id": "400d6f32",
   "metadata": {},
   "outputs": [
    {
     "data": {
      "image/png": "[encoded data removed]",
      "text/plain": [
       "<Figure size 576x576 with 1 Axes>"
      ]
     },
     "metadata": {
      "needs_background": "light"
     },
     "output_type": "display_data"
    }
   ],
   "source": [
    "plt.figure(figsize=(8,8))\n",
    "sns.barplot(data=dtf,y='Request id',x='Status')\n",
    "plt.grid()\n",
    "plt.title('Request id Vs Status')\n",
    "plt.show()"
   ]
  },
  {
   "cell_type": "raw",
   "id": "5e03c254",
   "metadata": {},
   "source": [
    "This Graph show the Trip completed staus is 3000 to 3500 between.\n",
    "cancelled cars staus is more than 3000.And No cars available satus is more than 3500.\n",
    "we can see the data is no cars available Status higher than as comper to both status."
   ]
  },
  {
   "cell_type": "code",
   "execution_count": 22,
   "id": "4226587c",
   "metadata": {},
   "outputs": [
    {
     "data": {
      "image/png": "[encoded data removed]",
      "text/plain": [
       "<Figure size 1296x576 with 1 Axes>"
      ]
     },
     "metadata": {
      "needs_background": "light"
     },
     "output_type": "display_data"
    }
   ],
   "source": [
    "plt.figure(figsize=(18,8))\n",
    "sns.boxplot(data=dtf,x='Request id',y='Pickup point')\n",
    "plt.grid()\n",
    "plt.title('Request Id Vs pickup point');"
   ]
  },
  {
   "cell_type": "markdown",
   "id": "72e4aaca",
   "metadata": {},
   "source": [
    "This Graph show the Request id vs pickup point.The pickup point is defien Airport and city. the City graph shows lower whiskey is o and lower quartilc is 1000 to 2000 between. median is 3000 above. and upper quartilc is less than 5000.not show the outliers. Airport Graph show lower whiskey is 0 and lower quartilc is less than 2000. median is 3000 to 4000 between.and upper quartilc is more than 5000.not show outliers.\n",
    "\n",
    "We can see data looks like thea Airprot data having better Request id as City but also we have to noticed City pickup point is also near by Airplort and it means both are having better in request id."
   ]
  },
  {
   "cell_type": "code",
   "execution_count": 23,
   "id": "b5a6d42c",
   "metadata": {},
   "outputs": [
    {
     "data": {
      "image/png": "[encoded data removed]",
      "text/plain": [
       "<Figure size 576x432 with 1 Axes>"
      ]
     },
     "metadata": {
      "needs_background": "light"
     },
     "output_type": "display_data"
    }
   ],
   "source": [
    "plt.figure(figsize=(8,6))\n",
    "sns.countplot(data=dtf,x='Pickup point',hue='Status')\n",
    "plt.title('Pickup point Vs Status')\n",
    "plt.grid()\n",
    "plt.show()"
   ]
  },
  {
   "cell_type": "raw",
   "id": "e4c32a01",
   "metadata": {},
   "source": [
    "This Graph show the Pickup point and Status.pickup point show the Airport and City. Or Status show the Trip completed,Cancelled and No cars Available.The Airport pickup point show the higher is no cars available count is 1600 above.second is Trip completed this count is 1200 to 1400 between.and third is Cancelled car this count is 200.\n",
    "City Pickup point show the higher we can see the Trip completed this count is above 1400. second is Cancelled car this count is above 1000.And third is No cars available this count is 800 to 1000 between.\n",
    "we can see the data is City is better status count as Comper to Airport. but also we have notice Airport status is also near by City."
   ]
  },
  {
   "cell_type": "code",
   "execution_count": 24,
   "id": "f2040511",
   "metadata": {},
   "outputs": [],
   "source": [
    "def sucecess(pas):\n",
    "    pickup,Status=pas\n",
    "    if pickup=='Airport' and Status=='Trip Completed':\n",
    "        return 'Completed Airport Drop'\n",
    "    else:\n",
    "        return 'others'\n",
    "dtf['Airport']=dtf[['Pickup point','Status']].apply(sucecess,axis=1)"
   ]
  },
  {
   "cell_type": "markdown",
   "id": "72fc0ef9",
   "metadata": {},
   "source": [
    "#### Total Completed Airport Drop is 1327"
   ]
  },
  {
   "cell_type": "code",
   "execution_count": 25,
   "id": "86ec266c",
   "metadata": {},
   "outputs": [
    {
     "data": {
      "text/plain": [
       "others                    5418\n",
       "Completed Airport Drop    1327\n",
       "Name: Airport, dtype: int64"
      ]
     },
     "execution_count": 25,
     "metadata": {},
     "output_type": "execute_result"
    }
   ],
   "source": [
    "dtf['Airport'].value_counts()"
   ]
  },
  {
   "cell_type": "code",
   "execution_count": 26,
   "id": "dc20d3db",
   "metadata": {},
   "outputs": [
    {
     "data": {
      "image/png": "[encoded data removed]",
      "text/plain": [
       "<Figure size 432x288 with 1 Axes>"
      ]
     },
     "metadata": {
      "needs_background": "light"
     },
     "output_type": "display_data"
    }
   ],
   "source": [
    "sns.countplot(data=dtf,x='Airport',hue='Status')\n",
    "plt.title('Completed Airport Drop')\n",
    "plt.show()"
   ]
  },
  {
   "cell_type": "code",
   "execution_count": 27,
   "id": "9447f73c",
   "metadata": {},
   "outputs": [],
   "source": [
    "def success(AA):\n",
    "    Pickup, Status=AA\n",
    "    if Pickup=='City' and Status=='Trip Completed':\n",
    "        return 'Completed City Drop'\n",
    "    else:\n",
    "        return 'Others'\n",
    "dtf['City']=dtf[['Pickup point','Status']].apply(success,axis=1)"
   ]
  },
  {
   "cell_type": "markdown",
   "id": "93f03b1c",
   "metadata": {},
   "source": [
    "#### Total Completed City Drop is 1504"
   ]
  },
  {
   "cell_type": "code",
   "execution_count": 28,
   "id": "0d0c1471",
   "metadata": {},
   "outputs": [
    {
     "data": {
      "text/plain": [
       "Others                 5241\n",
       "Completed City Drop    1504\n",
       "Name: City, dtype: int64"
      ]
     },
     "execution_count": 28,
     "metadata": {},
     "output_type": "execute_result"
    }
   ],
   "source": [
    "dtf['City'].value_counts()"
   ]
  },
  {
   "cell_type": "code",
   "execution_count": 29,
   "id": "de0b86a9",
   "metadata": {},
   "outputs": [
    {
     "data": {
      "image/png": "[encoded data removed]",
      "text/plain": [
       "<Figure size 432x288 with 1 Axes>"
      ]
     },
     "metadata": {
      "needs_background": "light"
     },
     "output_type": "display_data"
    }
   ],
   "source": [
    "sns.countplot(data=dtf,x='City',hue='Status')\n",
    "plt.title('Completed City Drop');"
   ]
  },
  {
   "cell_type": "code",
   "execution_count": null,
   "id": "0a5c15fa",
   "metadata": {},
   "outputs": [],
   "source": []
  },
  {
   "cell_type": "code",
   "execution_count": null,
   "id": "49d11cd3",
   "metadata": {},
   "outputs": [],
   "source": []
  }
 ],
 "metadata": {
  "kernelspec": {
   "display_name": "Python 3 (ipykernel)",
   "language": "python",
   "name": "python3"
  },
  "language_info": {
   "codemirror_mode": {
    "name": "ipython",
    "version": 3
   },
   "file_extension": ".py",
   "mimetype": "text/x-python",
   "name": "python",
   "nbconvert_exporter": "python",
   "pygments_lexer": "ipython3",
   "version": "3.9.12"
  }
 },
 "nbformat": 4,
 "nbformat_minor": 5
}
