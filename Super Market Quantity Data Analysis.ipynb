{
 "cells": [
  {
   "cell_type": "code",
   "execution_count": 1,
   "id": "5665638f",
   "metadata": {},
   "outputs": [],
   "source": [
    "import pandas as pd\n",
    "import numpy as np\n",
    "import matplotlib.pyplot as plt\n",
    "import seaborn as sns\n",
    "import warnings\n",
    "warnings.filterwarnings('ignore')"
   ]
  },
  {
   "cell_type": "markdown",
   "id": "75010539",
   "metadata": {},
   "source": [
    "### Data Analysis"
   ]
  },
  {
   "cell_type": "code",
   "execution_count": 2,
   "id": "c71c0db3",
   "metadata": {},
   "outputs": [],
   "source": [
    "df=pd.read_csv('supermarket_sales - Sheet1.csv')"
   ]
  },
  {
   "cell_type": "code",
   "execution_count": 3,
   "id": "4d93f9ba",
   "metadata": {
    "scrolled": true
   },
   "outputs": [
    {
     "data": {
      "text/html": [
       "<div>\n",
       "<style scoped>\n",
       "    .dataframe tbody tr th:only-of-type {\n",
       "        vertical-align: middle;\n",
       "    }\n",
       "\n",
       "    .dataframe tbody tr th {\n",
       "        vertical-align: top;\n",
       "    }\n",
       "\n",
       "    .dataframe thead th {\n",
       "        text-align: right;\n",
       "    }\n",
       "</style>\n",
       "<table border=\"1\" class=\"dataframe\">\n",
       "  <thead>\n",
       "    <tr style=\"text-align: right;\">\n",
       "      <th></th>\n",
       "      <th>Invoice ID</th>\n",
       "      <th>Branch</th>\n",
       "      <th>City</th>\n",
       "      <th>Customer type</th>\n",
       "      <th>Gender</th>\n",
       "      <th>Product line</th>\n",
       "      <th>Unit price</th>\n",
       "      <th>Quantity</th>\n",
       "      <th>Tax 5%</th>\n",
       "      <th>Total</th>\n",
       "      <th>Date</th>\n",
       "      <th>Time</th>\n",
       "      <th>Payment</th>\n",
       "      <th>cogs</th>\n",
       "      <th>gross margin percentage</th>\n",
       "      <th>gross income</th>\n",
       "      <th>Rating</th>\n",
       "    </tr>\n",
       "  </thead>\n",
       "  <tbody>\n",
       "    <tr>\n",
       "      <th>0</th>\n",
       "      <td>750-67-8428</td>\n",
       "      <td>A</td>\n",
       "      <td>Yangon</td>\n",
       "      <td>Member</td>\n",
       "      <td>Female</td>\n",
       "      <td>Health and beauty</td>\n",
       "      <td>74.69</td>\n",
       "      <td>7</td>\n",
       "      <td>26.1415</td>\n",
       "      <td>548.9715</td>\n",
       "      <td>1/5/2019</td>\n",
       "      <td>13:08</td>\n",
       "      <td>Ewallet</td>\n",
       "      <td>522.83</td>\n",
       "      <td>4.761905</td>\n",
       "      <td>26.1415</td>\n",
       "      <td>9.1</td>\n",
       "    </tr>\n",
       "    <tr>\n",
       "      <th>1</th>\n",
       "      <td>226-31-3081</td>\n",
       "      <td>C</td>\n",
       "      <td>Naypyitaw</td>\n",
       "      <td>Normal</td>\n",
       "      <td>Female</td>\n",
       "      <td>Electronic accessories</td>\n",
       "      <td>15.28</td>\n",
       "      <td>5</td>\n",
       "      <td>3.8200</td>\n",
       "      <td>80.2200</td>\n",
       "      <td>3/8/2019</td>\n",
       "      <td>10:29</td>\n",
       "      <td>Cash</td>\n",
       "      <td>76.40</td>\n",
       "      <td>4.761905</td>\n",
       "      <td>3.8200</td>\n",
       "      <td>9.6</td>\n",
       "    </tr>\n",
       "    <tr>\n",
       "      <th>2</th>\n",
       "      <td>631-41-3108</td>\n",
       "      <td>A</td>\n",
       "      <td>Yangon</td>\n",
       "      <td>Normal</td>\n",
       "      <td>Male</td>\n",
       "      <td>Home and lifestyle</td>\n",
       "      <td>46.33</td>\n",
       "      <td>7</td>\n",
       "      <td>16.2155</td>\n",
       "      <td>340.5255</td>\n",
       "      <td>3/3/2019</td>\n",
       "      <td>13:23</td>\n",
       "      <td>Credit card</td>\n",
       "      <td>324.31</td>\n",
       "      <td>4.761905</td>\n",
       "      <td>16.2155</td>\n",
       "      <td>7.4</td>\n",
       "    </tr>\n",
       "    <tr>\n",
       "      <th>3</th>\n",
       "      <td>123-19-1176</td>\n",
       "      <td>A</td>\n",
       "      <td>Yangon</td>\n",
       "      <td>Member</td>\n",
       "      <td>Male</td>\n",
       "      <td>Health and beauty</td>\n",
       "      <td>58.22</td>\n",
       "      <td>8</td>\n",
       "      <td>23.2880</td>\n",
       "      <td>489.0480</td>\n",
       "      <td>1/27/2019</td>\n",
       "      <td>20:33</td>\n",
       "      <td>Ewallet</td>\n",
       "      <td>465.76</td>\n",
       "      <td>4.761905</td>\n",
       "      <td>23.2880</td>\n",
       "      <td>8.4</td>\n",
       "    </tr>\n",
       "    <tr>\n",
       "      <th>4</th>\n",
       "      <td>373-73-7910</td>\n",
       "      <td>A</td>\n",
       "      <td>Yangon</td>\n",
       "      <td>Normal</td>\n",
       "      <td>Male</td>\n",
       "      <td>Sports and travel</td>\n",
       "      <td>86.31</td>\n",
       "      <td>7</td>\n",
       "      <td>30.2085</td>\n",
       "      <td>634.3785</td>\n",
       "      <td>2/8/2019</td>\n",
       "      <td>10:37</td>\n",
       "      <td>Ewallet</td>\n",
       "      <td>604.17</td>\n",
       "      <td>4.761905</td>\n",
       "      <td>30.2085</td>\n",
       "      <td>5.3</td>\n",
       "    </tr>\n",
       "  </tbody>\n",
       "</table>\n",
       "</div>"
      ],
      "text/plain": [
       "    Invoice ID Branch       City Customer type  Gender  \\\n",
       "0  750-67-8428      A     Yangon        Member  Female   \n",
       "1  226-31-3081      C  Naypyitaw        Normal  Female   \n",
       "2  631-41-3108      A     Yangon        Normal    Male   \n",
       "3  123-19-1176      A     Yangon        Member    Male   \n",
       "4  373-73-7910      A     Yangon        Normal    Male   \n",
       "\n",
       "             Product line  Unit price  Quantity   Tax 5%     Total       Date  \\\n",
       "0       Health and beauty       74.69         7  26.1415  548.9715   1/5/2019   \n",
       "1  Electronic accessories       15.28         5   3.8200   80.2200   3/8/2019   \n",
       "2      Home and lifestyle       46.33         7  16.2155  340.5255   3/3/2019   \n",
       "3       Health and beauty       58.22         8  23.2880  489.0480  1/27/2019   \n",
       "4       Sports and travel       86.31         7  30.2085  634.3785   2/8/2019   \n",
       "\n",
       "    Time      Payment    cogs  gross margin percentage  gross income  Rating  \n",
       "0  13:08      Ewallet  522.83                 4.761905       26.1415     9.1  \n",
       "1  10:29         Cash   76.40                 4.761905        3.8200     9.6  \n",
       "2  13:23  Credit card  324.31                 4.761905       16.2155     7.4  \n",
       "3  20:33      Ewallet  465.76                 4.761905       23.2880     8.4  \n",
       "4  10:37      Ewallet  604.17                 4.761905       30.2085     5.3  "
      ]
     },
     "execution_count": 3,
     "metadata": {},
     "output_type": "execute_result"
    }
   ],
   "source": [
    "df.head()"
   ]
  },
  {
   "cell_type": "markdown",
   "id": "a8205bd1",
   "metadata": {},
   "source": [
    "Invoice ID.\n",
    "Computer generated sales slip invoice identification number.\n",
    "\n",
    "Branch.\n",
    "Branch of supercenter (3 branches are available identified by A, B and C).\n",
    "\n",
    "City.\n",
    "Location of supercenters.\n",
    "\n",
    "Customer type.\n",
    "Type of customers, recorded by Members for customers using member card and Normal for without member card.\n",
    "\n",
    "Gender.\n",
    "Gender type of customer.\n",
    "\n",
    "Product line.\n",
    "General item categorization groups.\n",
    "\n",
    "Unit price.\n",
    "Price of each product in $.\n",
    "\n",
    "Quantity.\n",
    "Number of products purchased by customer.\n",
    "\n",
    "Tax 5%.\n",
    "5% tax fee for customer buying.\n",
    "\n",
    "Total.\n",
    "Total price including tax."
   ]
  },
  {
   "cell_type": "code",
   "execution_count": 4,
   "id": "a262b914",
   "metadata": {},
   "outputs": [
    {
     "name": "stdout",
     "output_type": "stream",
     "text": [
      "<class 'pandas.core.frame.DataFrame'>\n",
      "RangeIndex: 1000 entries, 0 to 999\n",
      "Data columns (total 17 columns):\n",
      " #   Column                   Non-Null Count  Dtype  \n",
      "---  ------                   --------------  -----  \n",
      " 0   Invoice ID               1000 non-null   object \n",
      " 1   Branch                   1000 non-null   object \n",
      " 2   City                     1000 non-null   object \n",
      " 3   Customer type            1000 non-null   object \n",
      " 4   Gender                   1000 non-null   object \n",
      " 5   Product line             1000 non-null   object \n",
      " 6   Unit price               1000 non-null   float64\n",
      " 7   Quantity                 1000 non-null   int64  \n",
      " 8   Tax 5%                   1000 non-null   float64\n",
      " 9   Total                    1000 non-null   float64\n",
      " 10  Date                     1000 non-null   object \n",
      " 11  Time                     1000 non-null   object \n",
      " 12  Payment                  1000 non-null   object \n",
      " 13  cogs                     1000 non-null   float64\n",
      " 14  gross margin percentage  1000 non-null   float64\n",
      " 15  gross income             1000 non-null   float64\n",
      " 16  Rating                   1000 non-null   float64\n",
      "dtypes: float64(7), int64(1), object(9)\n",
      "memory usage: 132.9+ KB\n"
     ]
    }
   ],
   "source": [
    "df.info()"
   ]
  },
  {
   "cell_type": "code",
   "execution_count": 5,
   "id": "7cb032f3",
   "metadata": {},
   "outputs": [
    {
     "data": {
      "image/png": "[encoded data removed]",
      "text/plain": [
       "<Figure size 432x288 with 1 Axes>"
      ]
     },
     "metadata": {},
     "output_type": "display_data"
    }
   ],
   "source": [
    "df.isnull().sum()\n",
    "df.dtypes.value_counts().plot(kind='pie',autopct='%1.2f%%',explode=[0,0.1,0.1],shadow=True)\n",
    "plt.title('Over all Data Types')\n",
    "plt.show()"
   ]
  },
  {
   "cell_type": "code",
   "execution_count": 6,
   "id": "405386f3",
   "metadata": {},
   "outputs": [
    {
     "data": {
      "text/plain": [
       "(1000, 17)"
      ]
     },
     "execution_count": 6,
     "metadata": {},
     "output_type": "execute_result"
    }
   ],
   "source": [
    "df.shape"
   ]
  },
  {
   "cell_type": "code",
   "execution_count": 7,
   "id": "8cfaf96a",
   "metadata": {},
   "outputs": [
    {
     "data": {
      "text/html": [
       "<div>\n",
       "<style scoped>\n",
       "    .dataframe tbody tr th:only-of-type {\n",
       "        vertical-align: middle;\n",
       "    }\n",
       "\n",
       "    .dataframe tbody tr th {\n",
       "        vertical-align: top;\n",
       "    }\n",
       "\n",
       "    .dataframe thead th {\n",
       "        text-align: right;\n",
       "    }\n",
       "</style>\n",
       "<table border=\"1\" class=\"dataframe\">\n",
       "  <thead>\n",
       "    <tr style=\"text-align: right;\">\n",
       "      <th></th>\n",
       "      <th>Unit price</th>\n",
       "      <th>Quantity</th>\n",
       "      <th>Tax 5%</th>\n",
       "      <th>Total</th>\n",
       "      <th>cogs</th>\n",
       "      <th>gross margin percentage</th>\n",
       "      <th>gross income</th>\n",
       "      <th>Rating</th>\n",
       "    </tr>\n",
       "  </thead>\n",
       "  <tbody>\n",
       "    <tr>\n",
       "      <th>count</th>\n",
       "      <td>1000.000000</td>\n",
       "      <td>1000.000000</td>\n",
       "      <td>1000.000000</td>\n",
       "      <td>1000.000000</td>\n",
       "      <td>1000.00000</td>\n",
       "      <td>1.000000e+03</td>\n",
       "      <td>1000.000000</td>\n",
       "      <td>1000.00000</td>\n",
       "    </tr>\n",
       "    <tr>\n",
       "      <th>mean</th>\n",
       "      <td>55.672130</td>\n",
       "      <td>5.510000</td>\n",
       "      <td>15.379369</td>\n",
       "      <td>322.966749</td>\n",
       "      <td>307.58738</td>\n",
       "      <td>4.761905e+00</td>\n",
       "      <td>15.379369</td>\n",
       "      <td>6.97270</td>\n",
       "    </tr>\n",
       "    <tr>\n",
       "      <th>std</th>\n",
       "      <td>26.494628</td>\n",
       "      <td>2.923431</td>\n",
       "      <td>11.708825</td>\n",
       "      <td>245.885335</td>\n",
       "      <td>234.17651</td>\n",
       "      <td>6.131498e-14</td>\n",
       "      <td>11.708825</td>\n",
       "      <td>1.71858</td>\n",
       "    </tr>\n",
       "    <tr>\n",
       "      <th>min</th>\n",
       "      <td>10.080000</td>\n",
       "      <td>1.000000</td>\n",
       "      <td>0.508500</td>\n",
       "      <td>10.678500</td>\n",
       "      <td>10.17000</td>\n",
       "      <td>4.761905e+00</td>\n",
       "      <td>0.508500</td>\n",
       "      <td>4.00000</td>\n",
       "    </tr>\n",
       "    <tr>\n",
       "      <th>25%</th>\n",
       "      <td>32.875000</td>\n",
       "      <td>3.000000</td>\n",
       "      <td>5.924875</td>\n",
       "      <td>124.422375</td>\n",
       "      <td>118.49750</td>\n",
       "      <td>4.761905e+00</td>\n",
       "      <td>5.924875</td>\n",
       "      <td>5.50000</td>\n",
       "    </tr>\n",
       "    <tr>\n",
       "      <th>50%</th>\n",
       "      <td>55.230000</td>\n",
       "      <td>5.000000</td>\n",
       "      <td>12.088000</td>\n",
       "      <td>253.848000</td>\n",
       "      <td>241.76000</td>\n",
       "      <td>4.761905e+00</td>\n",
       "      <td>12.088000</td>\n",
       "      <td>7.00000</td>\n",
       "    </tr>\n",
       "    <tr>\n",
       "      <th>75%</th>\n",
       "      <td>77.935000</td>\n",
       "      <td>8.000000</td>\n",
       "      <td>22.445250</td>\n",
       "      <td>471.350250</td>\n",
       "      <td>448.90500</td>\n",
       "      <td>4.761905e+00</td>\n",
       "      <td>22.445250</td>\n",
       "      <td>8.50000</td>\n",
       "    </tr>\n",
       "    <tr>\n",
       "      <th>max</th>\n",
       "      <td>99.960000</td>\n",
       "      <td>10.000000</td>\n",
       "      <td>49.650000</td>\n",
       "      <td>1042.650000</td>\n",
       "      <td>993.00000</td>\n",
       "      <td>4.761905e+00</td>\n",
       "      <td>49.650000</td>\n",
       "      <td>10.00000</td>\n",
       "    </tr>\n",
       "  </tbody>\n",
       "</table>\n",
       "</div>"
      ],
      "text/plain": [
       "        Unit price     Quantity       Tax 5%        Total        cogs  \\\n",
       "count  1000.000000  1000.000000  1000.000000  1000.000000  1000.00000   \n",
       "mean     55.672130     5.510000    15.379369   322.966749   307.58738   \n",
       "std      26.494628     2.923431    11.708825   245.885335   234.17651   \n",
       "min      10.080000     1.000000     0.508500    10.678500    10.17000   \n",
       "25%      32.875000     3.000000     5.924875   124.422375   118.49750   \n",
       "50%      55.230000     5.000000    12.088000   253.848000   241.76000   \n",
       "75%      77.935000     8.000000    22.445250   471.350250   448.90500   \n",
       "max      99.960000    10.000000    49.650000  1042.650000   993.00000   \n",
       "\n",
       "       gross margin percentage  gross income      Rating  \n",
       "count             1.000000e+03   1000.000000  1000.00000  \n",
       "mean              4.761905e+00     15.379369     6.97270  \n",
       "std               6.131498e-14     11.708825     1.71858  \n",
       "min               4.761905e+00      0.508500     4.00000  \n",
       "25%               4.761905e+00      5.924875     5.50000  \n",
       "50%               4.761905e+00     12.088000     7.00000  \n",
       "75%               4.761905e+00     22.445250     8.50000  \n",
       "max               4.761905e+00     49.650000    10.00000  "
      ]
     },
     "execution_count": 7,
     "metadata": {},
     "output_type": "execute_result"
    }
   ],
   "source": [
    "df.describe()"
   ]
  },
  {
   "cell_type": "markdown",
   "id": "aab06688",
   "metadata": {},
   "source": [
    "#### Missing value"
   ]
  },
  {
   "cell_type": "code",
   "execution_count": 8,
   "id": "bda509f1",
   "metadata": {},
   "outputs": [
    {
     "data": {
      "text/plain": [
       "Invoice ID                 0\n",
       "Branch                     0\n",
       "City                       0\n",
       "Customer type              0\n",
       "Gender                     0\n",
       "Product line               0\n",
       "Unit price                 0\n",
       "Quantity                   0\n",
       "Tax 5%                     0\n",
       "Total                      0\n",
       "Date                       0\n",
       "Time                       0\n",
       "Payment                    0\n",
       "cogs                       0\n",
       "gross margin percentage    0\n",
       "gross income               0\n",
       "Rating                     0\n",
       "dtype: int64"
      ]
     },
     "execution_count": 8,
     "metadata": {},
     "output_type": "execute_result"
    }
   ],
   "source": [
    "df.isnull().sum()"
   ]
  },
  {
   "cell_type": "code",
   "execution_count": 9,
   "id": "3433e647",
   "metadata": {},
   "outputs": [
    {
     "data": {
      "image/png": "[encoded data removed]",
      "text/plain": [
       "<Figure size 576x648 with 2 Axes>"
      ]
     },
     "metadata": {
      "needs_background": "light"
     },
     "output_type": "display_data"
    }
   ],
   "source": [
    "plt.figure(figsize=(8,9))\n",
    "sns.heatmap(df.isnull())\n",
    "plt.title('Missing values')\n",
    "plt.show()"
   ]
  },
  {
   "cell_type": "markdown",
   "id": "225fc34e",
   "metadata": {},
   "source": [
    "### Segregate the data on the basis of categorical and numerical columns."
   ]
  },
  {
   "cell_type": "code",
   "execution_count": 10,
   "id": "74f8cb6f",
   "metadata": {},
   "outputs": [
    {
     "data": {
      "text/plain": [
       "(1000, 17)"
      ]
     },
     "execution_count": 10,
     "metadata": {},
     "output_type": "execute_result"
    }
   ],
   "source": [
    "df.shape"
   ]
  },
  {
   "cell_type": "code",
   "execution_count": 11,
   "id": "23bf7cdb",
   "metadata": {},
   "outputs": [
    {
     "name": "stdout",
     "output_type": "stream",
     "text": [
      "['Unit price', 'Tax 5%', 'Total', 'cogs', 'gross margin percentage', 'gross income', 'Rating']\n"
     ]
    }
   ],
   "source": [
    "Num=[]\n",
    "for col in df.columns:\n",
    "    if (df[col].dtype==int)or (df[col].dtype==float):\n",
    "        Num.append(col)\n",
    "print (Num)"
   ]
  },
  {
   "cell_type": "code",
   "execution_count": 12,
   "id": "94b6d0a1",
   "metadata": {},
   "outputs": [
    {
     "name": "stdout",
     "output_type": "stream",
     "text": [
      "['Invoice ID', 'Branch', 'City', 'Customer type', 'Gender', 'Product line', 'Date', 'Time', 'Payment']\n"
     ]
    }
   ],
   "source": [
    "categorical=[]\n",
    "for col in df.columns:\n",
    "    if  (df[col].dtype==object):\n",
    "        categorical.append(col)\n",
    "print (categorical)"
   ]
  },
  {
   "cell_type": "markdown",
   "id": "ae284652",
   "metadata": {},
   "source": [
    "### Data Preprocessing"
   ]
  },
  {
   "cell_type": "markdown",
   "id": "6df650f6",
   "metadata": {},
   "source": [
    "##### Count unique values"
   ]
  },
  {
   "cell_type": "code",
   "execution_count": 13,
   "id": "13910ab3",
   "metadata": {},
   "outputs": [
    {
     "name": "stdout",
     "output_type": "stream",
     "text": [
      "Invoice ID: 1000\n",
      "Branch: 3\n",
      "City: 3\n",
      "Customer type: 2\n",
      "Gender: 2\n",
      "Product line: 6\n",
      "Unit price: 943\n",
      "Quantity: 10\n",
      "Tax 5%: 990\n",
      "Total: 990\n",
      "Date: 89\n",
      "Time: 506\n",
      "Payment: 3\n",
      "cogs: 990\n",
      "gross margin percentage: 1\n",
      "gross income: 990\n",
      "Rating: 61\n"
     ]
    }
   ],
   "source": [
    "unique_value = df.columns\n",
    "for col in unique_value:\n",
    "    print(\"{}: {}\".format(col,len(df[col].unique())))"
   ]
  },
  {
   "cell_type": "markdown",
   "id": "6cf24356",
   "metadata": {},
   "source": [
    "From our observation above, The data is quite clean:\n",
    "\n",
    "* Data have 1000 samples without missing any information\n",
    "* Almost data types are correct, however, we may need to convert the date and time later on\n",
    "* The Invoice ID need to be excluded as not to cause overfitting\n",
    "* The gross margin percentage has only 1 value, which does not given us any meaning\n",
    "So we drop Invoice ID and gross margin percentage attributes first"
   ]
  },
  {
   "cell_type": "code",
   "execution_count": 14,
   "id": "370edc71",
   "metadata": {},
   "outputs": [
    {
     "data": {
      "text/html": [
       "<div>\n",
       "<style scoped>\n",
       "    .dataframe tbody tr th:only-of-type {\n",
       "        vertical-align: middle;\n",
       "    }\n",
       "\n",
       "    .dataframe tbody tr th {\n",
       "        vertical-align: top;\n",
       "    }\n",
       "\n",
       "    .dataframe thead th {\n",
       "        text-align: right;\n",
       "    }\n",
       "</style>\n",
       "<table border=\"1\" class=\"dataframe\">\n",
       "  <thead>\n",
       "    <tr style=\"text-align: right;\">\n",
       "      <th></th>\n",
       "      <th>Branch</th>\n",
       "      <th>City</th>\n",
       "      <th>Customer type</th>\n",
       "      <th>Gender</th>\n",
       "      <th>Product line</th>\n",
       "      <th>Unit price</th>\n",
       "      <th>Quantity</th>\n",
       "      <th>Tax 5%</th>\n",
       "      <th>Total</th>\n",
       "      <th>Date</th>\n",
       "      <th>Time</th>\n",
       "      <th>Payment</th>\n",
       "      <th>cogs</th>\n",
       "      <th>gross income</th>\n",
       "      <th>Rating</th>\n",
       "    </tr>\n",
       "  </thead>\n",
       "  <tbody>\n",
       "    <tr>\n",
       "      <th>0</th>\n",
       "      <td>A</td>\n",
       "      <td>Yangon</td>\n",
       "      <td>Member</td>\n",
       "      <td>Female</td>\n",
       "      <td>Health and beauty</td>\n",
       "      <td>74.69</td>\n",
       "      <td>7</td>\n",
       "      <td>26.1415</td>\n",
       "      <td>548.9715</td>\n",
       "      <td>1/5/2019</td>\n",
       "      <td>13:08</td>\n",
       "      <td>Ewallet</td>\n",
       "      <td>522.83</td>\n",
       "      <td>26.1415</td>\n",
       "      <td>9.1</td>\n",
       "    </tr>\n",
       "    <tr>\n",
       "      <th>1</th>\n",
       "      <td>C</td>\n",
       "      <td>Naypyitaw</td>\n",
       "      <td>Normal</td>\n",
       "      <td>Female</td>\n",
       "      <td>Electronic accessories</td>\n",
       "      <td>15.28</td>\n",
       "      <td>5</td>\n",
       "      <td>3.8200</td>\n",
       "      <td>80.2200</td>\n",
       "      <td>3/8/2019</td>\n",
       "      <td>10:29</td>\n",
       "      <td>Cash</td>\n",
       "      <td>76.40</td>\n",
       "      <td>3.8200</td>\n",
       "      <td>9.6</td>\n",
       "    </tr>\n",
       "    <tr>\n",
       "      <th>2</th>\n",
       "      <td>A</td>\n",
       "      <td>Yangon</td>\n",
       "      <td>Normal</td>\n",
       "      <td>Male</td>\n",
       "      <td>Home and lifestyle</td>\n",
       "      <td>46.33</td>\n",
       "      <td>7</td>\n",
       "      <td>16.2155</td>\n",
       "      <td>340.5255</td>\n",
       "      <td>3/3/2019</td>\n",
       "      <td>13:23</td>\n",
       "      <td>Credit card</td>\n",
       "      <td>324.31</td>\n",
       "      <td>16.2155</td>\n",
       "      <td>7.4</td>\n",
       "    </tr>\n",
       "    <tr>\n",
       "      <th>3</th>\n",
       "      <td>A</td>\n",
       "      <td>Yangon</td>\n",
       "      <td>Member</td>\n",
       "      <td>Male</td>\n",
       "      <td>Health and beauty</td>\n",
       "      <td>58.22</td>\n",
       "      <td>8</td>\n",
       "      <td>23.2880</td>\n",
       "      <td>489.0480</td>\n",
       "      <td>1/27/2019</td>\n",
       "      <td>20:33</td>\n",
       "      <td>Ewallet</td>\n",
       "      <td>465.76</td>\n",
       "      <td>23.2880</td>\n",
       "      <td>8.4</td>\n",
       "    </tr>\n",
       "    <tr>\n",
       "      <th>4</th>\n",
       "      <td>A</td>\n",
       "      <td>Yangon</td>\n",
       "      <td>Normal</td>\n",
       "      <td>Male</td>\n",
       "      <td>Sports and travel</td>\n",
       "      <td>86.31</td>\n",
       "      <td>7</td>\n",
       "      <td>30.2085</td>\n",
       "      <td>634.3785</td>\n",
       "      <td>2/8/2019</td>\n",
       "      <td>10:37</td>\n",
       "      <td>Ewallet</td>\n",
       "      <td>604.17</td>\n",
       "      <td>30.2085</td>\n",
       "      <td>5.3</td>\n",
       "    </tr>\n",
       "  </tbody>\n",
       "</table>\n",
       "</div>"
      ],
      "text/plain": [
       "  Branch       City Customer type  Gender            Product line  Unit price  \\\n",
       "0      A     Yangon        Member  Female       Health and beauty       74.69   \n",
       "1      C  Naypyitaw        Normal  Female  Electronic accessories       15.28   \n",
       "2      A     Yangon        Normal    Male      Home and lifestyle       46.33   \n",
       "3      A     Yangon        Member    Male       Health and beauty       58.22   \n",
       "4      A     Yangon        Normal    Male       Sports and travel       86.31   \n",
       "\n",
       "   Quantity   Tax 5%     Total       Date   Time      Payment    cogs  \\\n",
       "0         7  26.1415  548.9715   1/5/2019  13:08      Ewallet  522.83   \n",
       "1         5   3.8200   80.2200   3/8/2019  10:29         Cash   76.40   \n",
       "2         7  16.2155  340.5255   3/3/2019  13:23  Credit card  324.31   \n",
       "3         8  23.2880  489.0480  1/27/2019  20:33      Ewallet  465.76   \n",
       "4         7  30.2085  634.3785   2/8/2019  10:37      Ewallet  604.17   \n",
       "\n",
       "   gross income  Rating  \n",
       "0       26.1415     9.1  \n",
       "1        3.8200     9.6  \n",
       "2       16.2155     7.4  \n",
       "3       23.2880     8.4  \n",
       "4       30.2085     5.3  "
      ]
     },
     "execution_count": 14,
     "metadata": {},
     "output_type": "execute_result"
    }
   ],
   "source": [
    "df = df.drop(columns=['Invoice ID','gross margin percentage'])\n",
    "df.head()"
   ]
  },
  {
   "cell_type": "markdown",
   "id": "a0b675c5",
   "metadata": {},
   "source": [
    "### Data Visualization"
   ]
  },
  {
   "cell_type": "code",
   "execution_count": 15,
   "id": "1f4d9ff4",
   "metadata": {},
   "outputs": [
    {
     "data": {
      "image/png": "[encoded data removed]",
      "text/plain": [
       "<Figure size 1440x1080 with 9 Axes>"
      ]
     },
     "metadata": {
      "needs_background": "light"
     },
     "output_type": "display_data"
    }
   ],
   "source": [
    "df.hist(figsize=(20,15));"
   ]
  },
  {
   "cell_type": "markdown",
   "id": "27d75d92",
   "metadata": {},
   "source": [
    "### Branch"
   ]
  },
  {
   "cell_type": "code",
   "execution_count": 16,
   "id": "66da8e08",
   "metadata": {},
   "outputs": [
    {
     "data": {
      "image/png": "[encoded data removed]",
      "text/plain": [
       "<Figure size 432x288 with 1 Axes>"
      ]
     },
     "metadata": {},
     "output_type": "display_data"
    }
   ],
   "source": [
    "df['Branch'].value_counts().plot(kind='pie',autopct='%1.2f%%',explode=[0,0.1,0.1])\n",
    "plt.title('Total Counts of Branch')\n",
    "plt.show()"
   ]
  },
  {
   "cell_type": "raw",
   "id": "e7180c82",
   "metadata": {},
   "source": [
    "There is 3 defferent different Type of Branch A,B,C.\n",
    "Total count is higher in A branch as compared to B,C."
   ]
  },
  {
   "cell_type": "markdown",
   "id": "46ca1f5c",
   "metadata": {},
   "source": [
    "### Gender"
   ]
  },
  {
   "cell_type": "code",
   "execution_count": 17,
   "id": "832e3e36",
   "metadata": {},
   "outputs": [
    {
     "data": {
      "image/png": "[encoded data removed]",
      "text/plain": [
       "<Figure size 576x576 with 1 Axes>"
      ]
     },
     "metadata": {
      "needs_background": "light"
     },
     "output_type": "display_data"
    }
   ],
   "source": [
    "plt.figure(figsize=(8,8))\n",
    "df.value_counts('Gender').plot(kind='bar')\n",
    "plt.title('County Data');"
   ]
  },
  {
   "cell_type": "code",
   "execution_count": 18,
   "id": "4745ac45",
   "metadata": {},
   "outputs": [
    {
     "data": {
      "image/png": "[encoded data removed]",
      "text/plain": [
       "<Figure size 432x288 with 1 Axes>"
      ]
     },
     "metadata": {},
     "output_type": "display_data"
    }
   ],
   "source": [
    "df['Gender'].value_counts().plot(kind='pie',autopct='%1.2f%%',explode=[0,0.1])\n",
    "plt.title('Total Counts of Gender')\n",
    "plt.show()"
   ]
  },
  {
   "cell_type": "markdown",
   "id": "c7c0acfd",
   "metadata": {},
   "source": [
    "There is a two different type of Total Counts of Gender type 1. Male 2.Female. Female Total count is(50.1) is higher than Male total count (49.9)"
   ]
  },
  {
   "cell_type": "markdown",
   "id": "8dec3dd8",
   "metadata": {},
   "source": [
    "### Product line"
   ]
  },
  {
   "cell_type": "code",
   "execution_count": 19,
   "id": "124a6009",
   "metadata": {},
   "outputs": [
    {
     "data": {
      "image/png": "[encoded data removed]",
      "text/plain": [
       "<Figure size 576x576 with 1 Axes>"
      ]
     },
     "metadata": {
      "needs_background": "light"
     },
     "output_type": "display_data"
    }
   ],
   "source": [
    "plt.figure(figsize=(8,8))\n",
    "df.value_counts('Product line').plot(kind='bar')\n",
    "plt.title('Total Count of Product line');"
   ]
  },
  {
   "cell_type": "code",
   "execution_count": 20,
   "id": "ae8cbd70",
   "metadata": {},
   "outputs": [
    {
     "data": {
      "image/png": "[encoded data removed]",
      "text/plain": [
       "<Figure size 432x288 with 1 Axes>"
      ]
     },
     "metadata": {},
     "output_type": "display_data"
    }
   ],
   "source": [
    "df['Product line'].value_counts().plot(kind='pie',autopct='%1.2f%%',explode=[0,0.1,0.1,0.1,0.1,0.1])\n",
    "plt.title('Total Counts of Product line')\n",
    "plt.show()"
   ]
  },
  {
   "cell_type": "raw",
   "id": "d10a2361",
   "metadata": {},
   "source": [
    "There is 6 different Type of Product line \n",
    "1.Fashion accessories count is 17.8. \n",
    "2.Food and beverages count is 17.4  \n",
    "3.Electronic accessories count is 17.0\n",
    "4.Sports and travel count is 16.6\n",
    "5.Home and lifestyle count is 16.0\n",
    "6.Health and beauty count is 15.2.\n",
    "Fashion accesories is higher than other 5 Product line.\n",
    "and Health and beauty is less than other 5 product line."
   ]
  },
  {
   "cell_type": "markdown",
   "id": "16376c51",
   "metadata": {},
   "source": [
    "### Customer Type"
   ]
  },
  {
   "cell_type": "code",
   "execution_count": 21,
   "id": "b98c9e6c",
   "metadata": {},
   "outputs": [
    {
     "data": {
      "image/png": "[encoded data removed]",
      "text/plain": [
       "<Figure size 576x576 with 1 Axes>"
      ]
     },
     "metadata": {
      "needs_background": "light"
     },
     "output_type": "display_data"
    }
   ],
   "source": [
    "plt.figure(figsize=(8,8))\n",
    "df.value_counts('Customer type').plot(kind='bar')\n",
    "plt.title('Total Count of Customer type');"
   ]
  },
  {
   "cell_type": "code",
   "execution_count": 22,
   "id": "693f06b7",
   "metadata": {},
   "outputs": [
    {
     "data": {
      "image/png": "[encoded data removed]",
      "text/plain": [
       "<Figure size 432x288 with 1 Axes>"
      ]
     },
     "metadata": {},
     "output_type": "display_data"
    }
   ],
   "source": [
    "df['Customer type'].value_counts().plot(kind='pie',autopct='%1.2f%%',explode=[0,0.1])\n",
    "plt.title('Total Counts of Customer type')\n",
    "plt.show()"
   ]
  },
  {
   "cell_type": "markdown",
   "id": "e446fa11",
   "metadata": {},
   "source": [
    "There is a two different type of Total Counts of customer type 1. Member 2. Normal.\n",
    "Member Customer type(50.1) is higher than normal customer type (49.9)"
   ]
  },
  {
   "cell_type": "markdown",
   "id": "97330ebb",
   "metadata": {},
   "source": [
    "### Payment Of total Count"
   ]
  },
  {
   "cell_type": "code",
   "execution_count": 23,
   "id": "80463966",
   "metadata": {},
   "outputs": [
    {
     "data": {
      "image/png": "[encoded data removed]",
      "text/plain": [
       "<Figure size 432x288 with 1 Axes>"
      ]
     },
     "metadata": {},
     "output_type": "display_data"
    }
   ],
   "source": [
    "df['Payment'].value_counts().plot(kind='pie',autopct='%1.2f%%',explode=[0,0.1,0.1])\n",
    "plt.title('Total Counts of Payment')\n",
    "plt.show()"
   ]
  },
  {
   "cell_type": "raw",
   "id": "3073d655",
   "metadata": {},
   "source": [
    "There is 3 different type of Total count of Payment 1.Ewallet 2.credit card 3.Cash.\n",
    "Total count is higher in Ewallet Payment as compared to credit, Cash."
   ]
  },
  {
   "cell_type": "markdown",
   "id": "da818030",
   "metadata": {},
   "source": [
    "### Total Quantity Group"
   ]
  },
  {
   "cell_type": "code",
   "execution_count": 24,
   "id": "cbf52f6d",
   "metadata": {},
   "outputs": [
    {
     "data": {
      "image/png": "[encoded data removed]",
      "text/plain": [
       "<Figure size 720x360 with 1 Axes>"
      ]
     },
     "metadata": {
      "needs_background": "light"
     },
     "output_type": "display_data"
    }
   ],
   "source": [
    "def quantity_group(df, group_name):\n",
    "    plt.figure(figsize=(10,5))\n",
    "    \n",
    "    sns.barplot(x='Quantity',y=group_name,data=df)\n",
    "    plt.title('Mean of quantity respected to')\n",
    "    plt.show()\n",
    "    \n",
    "quantity_group(df,'Branch')"
   ]
  },
  {
   "cell_type": "markdown",
   "id": "e759c13c",
   "metadata": {},
   "source": [
    "From this graph, we can see that Branch C may have more quantity sales than Branch A and Branch B"
   ]
  },
  {
   "cell_type": "code",
   "execution_count": 25,
   "id": "38e716e1",
   "metadata": {},
   "outputs": [
    {
     "data": {
      "image/png": "[encoded data removed]",
      "text/plain": [
       "<Figure size 720x360 with 1 Axes>"
      ]
     },
     "metadata": {
      "needs_background": "light"
     },
     "output_type": "display_data"
    }
   ],
   "source": [
    "quantity_group(df,'Gender')"
   ]
  },
  {
   "cell_type": "markdown",
   "id": "82002db6",
   "metadata": {},
   "source": [
    "the same result has been shown on Gender. Mostly, Female will buy more than Male."
   ]
  },
  {
   "cell_type": "code",
   "execution_count": 26,
   "id": "6906a202",
   "metadata": {},
   "outputs": [
    {
     "data": {
      "image/png": "[encoded data removed]",
      "text/plain": [
       "<Figure size 720x360 with 1 Axes>"
      ]
     },
     "metadata": {
      "needs_background": "light"
     },
     "output_type": "display_data"
    }
   ],
   "source": [
    "quantity_group(df,'Customer type')"
   ]
  },
  {
   "cell_type": "markdown",
   "id": "1c17bee4",
   "metadata": {},
   "source": [
    "It was suprising that the Customer type does not affect much to the Quantity. If you run linear regression on this attribute, you can find that it's t-statistic value is nearly equal 0, and P-value is considerable high. So we can ignore this variable when we create model."
   ]
  },
  {
   "cell_type": "code",
   "execution_count": 27,
   "id": "477961e1",
   "metadata": {},
   "outputs": [
    {
     "data": {
      "image/png": "[encoded data removed]",
      "text/plain": [
       "<Figure size 720x360 with 1 Axes>"
      ]
     },
     "metadata": {
      "needs_background": "light"
     },
     "output_type": "display_data"
    }
   ],
   "source": [
    "quantity_group(df,'Product line')"
   ]
  },
  {
   "cell_type": "markdown",
   "id": "7402e0bc",
   "metadata": {},
   "source": [
    "With this chart, there is a key-point that we can see. All Product line are almost have the same mean of Quantity, except the Fashion accessories. To improve the model, we can create a new attribute called IsFashion which show whether the product line is fashion accessories. Also, because Produce line has many value, this may cause overfitting, so I also remove it."
   ]
  },
  {
   "cell_type": "markdown",
   "id": "ea4083d1",
   "metadata": {},
   "source": [
    "### Count of Rating"
   ]
  },
  {
   "cell_type": "code",
   "execution_count": 28,
   "id": "c40a56de",
   "metadata": {},
   "outputs": [
    {
     "data": {
      "image/png": "[encoded data removed]",
      "text/plain": [
       "<Figure size 1080x576 with 1 Axes>"
      ]
     },
     "metadata": {
      "needs_background": "light"
     },
     "output_type": "display_data"
    }
   ],
   "source": [
    "plt.figure(figsize=(15,8))\n",
    "df.value_counts('Rating').plot(kind='bar')\n",
    "plt.title('Total Count of Customer type')\n",
    "plt.show()"
   ]
  },
  {
   "cell_type": "markdown",
   "id": "341968d7",
   "metadata": {},
   "source": [
    "i can see this graph 6.0 is high than other rating.\n",
    "And 10.0 is Low in other than rating."
   ]
  },
  {
   "cell_type": "code",
   "execution_count": 29,
   "id": "3e0c6f7a",
   "metadata": {},
   "outputs": [],
   "source": [
    "import datetime as dt\n",
    "import calendar"
   ]
  },
  {
   "cell_type": "code",
   "execution_count": 30,
   "id": "91f253bd",
   "metadata": {},
   "outputs": [],
   "source": [
    "df['IsFashion'] = (df['Product line']=='Fashion accessories')\n",
    "df = df.drop(columns='Product line')"
   ]
  },
  {
   "cell_type": "code",
   "execution_count": 31,
   "id": "bf8b0414",
   "metadata": {},
   "outputs": [
    {
     "data": {
      "text/html": [
       "<div>\n",
       "<style scoped>\n",
       "    .dataframe tbody tr th:only-of-type {\n",
       "        vertical-align: middle;\n",
       "    }\n",
       "\n",
       "    .dataframe tbody tr th {\n",
       "        vertical-align: top;\n",
       "    }\n",
       "\n",
       "    .dataframe thead th {\n",
       "        text-align: right;\n",
       "    }\n",
       "</style>\n",
       "<table border=\"1\" class=\"dataframe\">\n",
       "  <thead>\n",
       "    <tr style=\"text-align: right;\">\n",
       "      <th></th>\n",
       "      <th>Branch</th>\n",
       "      <th>City</th>\n",
       "      <th>Customer type</th>\n",
       "      <th>Gender</th>\n",
       "      <th>Unit price</th>\n",
       "      <th>Quantity</th>\n",
       "      <th>Tax 5%</th>\n",
       "      <th>Total</th>\n",
       "      <th>Payment</th>\n",
       "      <th>cogs</th>\n",
       "      <th>gross income</th>\n",
       "      <th>Rating</th>\n",
       "      <th>IsFashion</th>\n",
       "      <th>Hour</th>\n",
       "      <th>Minute</th>\n",
       "      <th>Day</th>\n",
       "      <th>Month</th>\n",
       "    </tr>\n",
       "  </thead>\n",
       "  <tbody>\n",
       "    <tr>\n",
       "      <th>0</th>\n",
       "      <td>A</td>\n",
       "      <td>Yangon</td>\n",
       "      <td>Member</td>\n",
       "      <td>Female</td>\n",
       "      <td>74.69</td>\n",
       "      <td>7</td>\n",
       "      <td>26.1415</td>\n",
       "      <td>548.9715</td>\n",
       "      <td>Ewallet</td>\n",
       "      <td>522.83</td>\n",
       "      <td>26.1415</td>\n",
       "      <td>9.1</td>\n",
       "      <td>False</td>\n",
       "      <td>13</td>\n",
       "      <td>8</td>\n",
       "      <td>5</td>\n",
       "      <td>1</td>\n",
       "    </tr>\n",
       "    <tr>\n",
       "      <th>1</th>\n",
       "      <td>C</td>\n",
       "      <td>Naypyitaw</td>\n",
       "      <td>Normal</td>\n",
       "      <td>Female</td>\n",
       "      <td>15.28</td>\n",
       "      <td>5</td>\n",
       "      <td>3.8200</td>\n",
       "      <td>80.2200</td>\n",
       "      <td>Cash</td>\n",
       "      <td>76.40</td>\n",
       "      <td>3.8200</td>\n",
       "      <td>9.6</td>\n",
       "      <td>False</td>\n",
       "      <td>10</td>\n",
       "      <td>29</td>\n",
       "      <td>8</td>\n",
       "      <td>3</td>\n",
       "    </tr>\n",
       "    <tr>\n",
       "      <th>2</th>\n",
       "      <td>A</td>\n",
       "      <td>Yangon</td>\n",
       "      <td>Normal</td>\n",
       "      <td>Male</td>\n",
       "      <td>46.33</td>\n",
       "      <td>7</td>\n",
       "      <td>16.2155</td>\n",
       "      <td>340.5255</td>\n",
       "      <td>Credit card</td>\n",
       "      <td>324.31</td>\n",
       "      <td>16.2155</td>\n",
       "      <td>7.4</td>\n",
       "      <td>False</td>\n",
       "      <td>13</td>\n",
       "      <td>23</td>\n",
       "      <td>3</td>\n",
       "      <td>3</td>\n",
       "    </tr>\n",
       "    <tr>\n",
       "      <th>3</th>\n",
       "      <td>A</td>\n",
       "      <td>Yangon</td>\n",
       "      <td>Member</td>\n",
       "      <td>Male</td>\n",
       "      <td>58.22</td>\n",
       "      <td>8</td>\n",
       "      <td>23.2880</td>\n",
       "      <td>489.0480</td>\n",
       "      <td>Ewallet</td>\n",
       "      <td>465.76</td>\n",
       "      <td>23.2880</td>\n",
       "      <td>8.4</td>\n",
       "      <td>False</td>\n",
       "      <td>20</td>\n",
       "      <td>33</td>\n",
       "      <td>27</td>\n",
       "      <td>1</td>\n",
       "    </tr>\n",
       "    <tr>\n",
       "      <th>4</th>\n",
       "      <td>A</td>\n",
       "      <td>Yangon</td>\n",
       "      <td>Normal</td>\n",
       "      <td>Male</td>\n",
       "      <td>86.31</td>\n",
       "      <td>7</td>\n",
       "      <td>30.2085</td>\n",
       "      <td>634.3785</td>\n",
       "      <td>Ewallet</td>\n",
       "      <td>604.17</td>\n",
       "      <td>30.2085</td>\n",
       "      <td>5.3</td>\n",
       "      <td>False</td>\n",
       "      <td>10</td>\n",
       "      <td>37</td>\n",
       "      <td>8</td>\n",
       "      <td>2</td>\n",
       "    </tr>\n",
       "  </tbody>\n",
       "</table>\n",
       "</div>"
      ],
      "text/plain": [
       "  Branch       City Customer type  Gender  Unit price  Quantity   Tax 5%  \\\n",
       "0      A     Yangon        Member  Female       74.69         7  26.1415   \n",
       "1      C  Naypyitaw        Normal  Female       15.28         5   3.8200   \n",
       "2      A     Yangon        Normal    Male       46.33         7  16.2155   \n",
       "3      A     Yangon        Member    Male       58.22         8  23.2880   \n",
       "4      A     Yangon        Normal    Male       86.31         7  30.2085   \n",
       "\n",
       "      Total      Payment    cogs  gross income  Rating  IsFashion  Hour  \\\n",
       "0  548.9715      Ewallet  522.83       26.1415     9.1      False    13   \n",
       "1   80.2200         Cash   76.40        3.8200     9.6      False    10   \n",
       "2  340.5255  Credit card  324.31       16.2155     7.4      False    13   \n",
       "3  489.0480      Ewallet  465.76       23.2880     8.4      False    20   \n",
       "4  634.3785      Ewallet  604.17       30.2085     5.3      False    10   \n",
       "\n",
       "   Minute  Day  Month  \n",
       "0       8    5      1  \n",
       "1      29    8      3  \n",
       "2      23    3      3  \n",
       "3      33   27      1  \n",
       "4      37    8      2  "
      ]
     },
     "execution_count": 31,
     "metadata": {},
     "output_type": "execute_result"
    }
   ],
   "source": [
    "df['Time'] = pd.to_datetime(df['Time'])\n",
    "df['Date'] = pd.to_datetime(df['Date'])\n",
    "\n",
    "df['Hour'] = df['Time'].dt.hour\n",
    "df['Minute'] = df['Time'].dt.minute\n",
    "\n",
    "df['Day'] = (df['Date']).dt.day\n",
    "df['Month'] = (df['Date']).dt.month\n",
    "\n",
    "df = df.drop(columns=['Time','Date'])\n",
    "\n",
    "df.head()"
   ]
  },
  {
   "cell_type": "markdown",
   "id": "67e23d59",
   "metadata": {},
   "source": [
    "By using the extracted attribute Hour, we can see the Quantity usually increases in the period of  10th  hour to  11th  hour, and from  15th  hour to  16th  hour. Furthermore, it reachs the peak at  12th  hour."
   ]
  },
  {
   "cell_type": "code",
   "execution_count": 32,
   "id": "24bfcdd9",
   "metadata": {},
   "outputs": [
    {
     "data": {
      "image/png": "[encoded data removed]",
      "text/plain": [
       "<Figure size 720x576 with 1 Axes>"
      ]
     },
     "metadata": {
      "needs_background": "light"
     },
     "output_type": "display_data"
    }
   ],
   "source": [
    "plt.figure(figsize=(10,8))\n",
    "sns.lineplot(data=df,x='Hour',y='Quantity')\n",
    "plt.show()"
   ]
  },
  {
   "cell_type": "markdown",
   "id": "5d77a1fd",
   "metadata": {},
   "source": [
    " we need to check whether or target is balance or imbalance? If the target data is imbalance, we must use some technique (such as SMOTE, down-sampling, etc). Luckily, with the histogram, we can see that the data is quite balance since the mean and median does not separate too much."
   ]
  },
  {
   "cell_type": "markdown",
   "id": "3844d84e",
   "metadata": {},
   "source": [
    "#### Top 10 High Quantity Super Market"
   ]
  },
  {
   "cell_type": "code",
   "execution_count": 33,
   "id": "0c6dbdb4",
   "metadata": {},
   "outputs": [
    {
     "data": {
      "text/html": [
       "<div>\n",
       "<style scoped>\n",
       "    .dataframe tbody tr th:only-of-type {\n",
       "        vertical-align: middle;\n",
       "    }\n",
       "\n",
       "    .dataframe tbody tr th {\n",
       "        vertical-align: top;\n",
       "    }\n",
       "\n",
       "    .dataframe thead th {\n",
       "        text-align: right;\n",
       "    }\n",
       "</style>\n",
       "<table border=\"1\" class=\"dataframe\">\n",
       "  <thead>\n",
       "    <tr style=\"text-align: right;\">\n",
       "      <th></th>\n",
       "      <th>Branch</th>\n",
       "      <th>City</th>\n",
       "      <th>Customer type</th>\n",
       "      <th>Gender</th>\n",
       "      <th>Unit price</th>\n",
       "      <th>Quantity</th>\n",
       "      <th>Tax 5%</th>\n",
       "      <th>Total</th>\n",
       "      <th>Payment</th>\n",
       "      <th>cogs</th>\n",
       "      <th>gross income</th>\n",
       "      <th>Rating</th>\n",
       "      <th>IsFashion</th>\n",
       "      <th>Hour</th>\n",
       "      <th>Minute</th>\n",
       "      <th>Day</th>\n",
       "      <th>Month</th>\n",
       "    </tr>\n",
       "  </thead>\n",
       "  <tbody>\n",
       "    <tr>\n",
       "      <th>761</th>\n",
       "      <td>B</td>\n",
       "      <td>Mandalay</td>\n",
       "      <td>Normal</td>\n",
       "      <td>Male</td>\n",
       "      <td>72.13</td>\n",
       "      <td>10</td>\n",
       "      <td>36.065</td>\n",
       "      <td>757.365</td>\n",
       "      <td>Credit card</td>\n",
       "      <td>721.3</td>\n",
       "      <td>36.065</td>\n",
       "      <td>4.2</td>\n",
       "      <td>False</td>\n",
       "      <td>15</td>\n",
       "      <td>12</td>\n",
       "      <td>31</td>\n",
       "      <td>1</td>\n",
       "    </tr>\n",
       "    <tr>\n",
       "      <th>269</th>\n",
       "      <td>A</td>\n",
       "      <td>Yangon</td>\n",
       "      <td>Member</td>\n",
       "      <td>Female</td>\n",
       "      <td>35.54</td>\n",
       "      <td>10</td>\n",
       "      <td>17.770</td>\n",
       "      <td>373.170</td>\n",
       "      <td>Ewallet</td>\n",
       "      <td>355.4</td>\n",
       "      <td>17.770</td>\n",
       "      <td>7.0</td>\n",
       "      <td>False</td>\n",
       "      <td>13</td>\n",
       "      <td>34</td>\n",
       "      <td>4</td>\n",
       "      <td>1</td>\n",
       "    </tr>\n",
       "    <tr>\n",
       "      <th>797</th>\n",
       "      <td>A</td>\n",
       "      <td>Yangon</td>\n",
       "      <td>Member</td>\n",
       "      <td>Female</td>\n",
       "      <td>24.49</td>\n",
       "      <td>10</td>\n",
       "      <td>12.245</td>\n",
       "      <td>257.145</td>\n",
       "      <td>Cash</td>\n",
       "      <td>244.9</td>\n",
       "      <td>12.245</td>\n",
       "      <td>8.1</td>\n",
       "      <td>False</td>\n",
       "      <td>15</td>\n",
       "      <td>15</td>\n",
       "      <td>22</td>\n",
       "      <td>2</td>\n",
       "    </tr>\n",
       "    <tr>\n",
       "      <th>182</th>\n",
       "      <td>A</td>\n",
       "      <td>Yangon</td>\n",
       "      <td>Member</td>\n",
       "      <td>Male</td>\n",
       "      <td>15.50</td>\n",
       "      <td>10</td>\n",
       "      <td>7.750</td>\n",
       "      <td>162.750</td>\n",
       "      <td>Ewallet</td>\n",
       "      <td>155.0</td>\n",
       "      <td>7.750</td>\n",
       "      <td>8.0</td>\n",
       "      <td>False</td>\n",
       "      <td>10</td>\n",
       "      <td>55</td>\n",
       "      <td>23</td>\n",
       "      <td>3</td>\n",
       "    </tr>\n",
       "    <tr>\n",
       "      <th>565</th>\n",
       "      <td>A</td>\n",
       "      <td>Yangon</td>\n",
       "      <td>Normal</td>\n",
       "      <td>Female</td>\n",
       "      <td>81.21</td>\n",
       "      <td>10</td>\n",
       "      <td>40.605</td>\n",
       "      <td>852.705</td>\n",
       "      <td>Credit card</td>\n",
       "      <td>812.1</td>\n",
       "      <td>40.605</td>\n",
       "      <td>6.3</td>\n",
       "      <td>False</td>\n",
       "      <td>13</td>\n",
       "      <td>1</td>\n",
       "      <td>17</td>\n",
       "      <td>1</td>\n",
       "    </tr>\n",
       "    <tr>\n",
       "      <th>623</th>\n",
       "      <td>B</td>\n",
       "      <td>Mandalay</td>\n",
       "      <td>Normal</td>\n",
       "      <td>Female</td>\n",
       "      <td>83.25</td>\n",
       "      <td>10</td>\n",
       "      <td>41.625</td>\n",
       "      <td>874.125</td>\n",
       "      <td>Credit card</td>\n",
       "      <td>832.5</td>\n",
       "      <td>41.625</td>\n",
       "      <td>4.4</td>\n",
       "      <td>True</td>\n",
       "      <td>11</td>\n",
       "      <td>25</td>\n",
       "      <td>12</td>\n",
       "      <td>1</td>\n",
       "    </tr>\n",
       "    <tr>\n",
       "      <th>278</th>\n",
       "      <td>C</td>\n",
       "      <td>Naypyitaw</td>\n",
       "      <td>Member</td>\n",
       "      <td>Male</td>\n",
       "      <td>70.99</td>\n",
       "      <td>10</td>\n",
       "      <td>35.495</td>\n",
       "      <td>745.395</td>\n",
       "      <td>Cash</td>\n",
       "      <td>709.9</td>\n",
       "      <td>35.495</td>\n",
       "      <td>5.7</td>\n",
       "      <td>True</td>\n",
       "      <td>16</td>\n",
       "      <td>28</td>\n",
       "      <td>20</td>\n",
       "      <td>3</td>\n",
       "    </tr>\n",
       "    <tr>\n",
       "      <th>279</th>\n",
       "      <td>A</td>\n",
       "      <td>Yangon</td>\n",
       "      <td>Member</td>\n",
       "      <td>Male</td>\n",
       "      <td>44.02</td>\n",
       "      <td>10</td>\n",
       "      <td>22.010</td>\n",
       "      <td>462.210</td>\n",
       "      <td>Credit card</td>\n",
       "      <td>440.2</td>\n",
       "      <td>22.010</td>\n",
       "      <td>9.6</td>\n",
       "      <td>False</td>\n",
       "      <td>19</td>\n",
       "      <td>57</td>\n",
       "      <td>20</td>\n",
       "      <td>3</td>\n",
       "    </tr>\n",
       "    <tr>\n",
       "      <th>727</th>\n",
       "      <td>B</td>\n",
       "      <td>Mandalay</td>\n",
       "      <td>Normal</td>\n",
       "      <td>Male</td>\n",
       "      <td>69.74</td>\n",
       "      <td>10</td>\n",
       "      <td>34.870</td>\n",
       "      <td>732.270</td>\n",
       "      <td>Credit card</td>\n",
       "      <td>697.4</td>\n",
       "      <td>34.870</td>\n",
       "      <td>8.9</td>\n",
       "      <td>False</td>\n",
       "      <td>17</td>\n",
       "      <td>49</td>\n",
       "      <td>5</td>\n",
       "      <td>3</td>\n",
       "    </tr>\n",
       "    <tr>\n",
       "      <th>627</th>\n",
       "      <td>B</td>\n",
       "      <td>Mandalay</td>\n",
       "      <td>Member</td>\n",
       "      <td>Male</td>\n",
       "      <td>82.58</td>\n",
       "      <td>10</td>\n",
       "      <td>41.290</td>\n",
       "      <td>867.090</td>\n",
       "      <td>Cash</td>\n",
       "      <td>825.8</td>\n",
       "      <td>41.290</td>\n",
       "      <td>5.0</td>\n",
       "      <td>False</td>\n",
       "      <td>14</td>\n",
       "      <td>41</td>\n",
       "      <td>14</td>\n",
       "      <td>3</td>\n",
       "    </tr>\n",
       "  </tbody>\n",
       "</table>\n",
       "</div>"
      ],
      "text/plain": [
       "    Branch       City Customer type  Gender  Unit price  Quantity  Tax 5%  \\\n",
       "761      B   Mandalay        Normal    Male       72.13        10  36.065   \n",
       "269      A     Yangon        Member  Female       35.54        10  17.770   \n",
       "797      A     Yangon        Member  Female       24.49        10  12.245   \n",
       "182      A     Yangon        Member    Male       15.50        10   7.750   \n",
       "565      A     Yangon        Normal  Female       81.21        10  40.605   \n",
       "623      B   Mandalay        Normal  Female       83.25        10  41.625   \n",
       "278      C  Naypyitaw        Member    Male       70.99        10  35.495   \n",
       "279      A     Yangon        Member    Male       44.02        10  22.010   \n",
       "727      B   Mandalay        Normal    Male       69.74        10  34.870   \n",
       "627      B   Mandalay        Member    Male       82.58        10  41.290   \n",
       "\n",
       "       Total      Payment   cogs  gross income  Rating  IsFashion  Hour  \\\n",
       "761  757.365  Credit card  721.3        36.065     4.2      False    15   \n",
       "269  373.170      Ewallet  355.4        17.770     7.0      False    13   \n",
       "797  257.145         Cash  244.9        12.245     8.1      False    15   \n",
       "182  162.750      Ewallet  155.0         7.750     8.0      False    10   \n",
       "565  852.705  Credit card  812.1        40.605     6.3      False    13   \n",
       "623  874.125  Credit card  832.5        41.625     4.4       True    11   \n",
       "278  745.395         Cash  709.9        35.495     5.7       True    16   \n",
       "279  462.210  Credit card  440.2        22.010     9.6      False    19   \n",
       "727  732.270  Credit card  697.4        34.870     8.9      False    17   \n",
       "627  867.090         Cash  825.8        41.290     5.0      False    14   \n",
       "\n",
       "     Minute  Day  Month  \n",
       "761      12   31      1  \n",
       "269      34    4      1  \n",
       "797      15   22      2  \n",
       "182      55   23      3  \n",
       "565       1   17      1  \n",
       "623      25   12      1  \n",
       "278      28   20      3  \n",
       "279      57   20      3  \n",
       "727      49    5      3  \n",
       "627      41   14      3  "
      ]
     },
     "execution_count": 33,
     "metadata": {},
     "output_type": "execute_result"
    }
   ],
   "source": [
    "d=df.sort_values(by='Quantity',ascending=False)\n",
    "d.head(10)"
   ]
  },
  {
   "cell_type": "markdown",
   "id": "855d3fdf",
   "metadata": {},
   "source": [
    "#### Top 10 Low Quantity Super Markt"
   ]
  },
  {
   "cell_type": "code",
   "execution_count": 34,
   "id": "8673fca9",
   "metadata": {},
   "outputs": [
    {
     "data": {
      "text/html": [
       "<div>\n",
       "<style scoped>\n",
       "    .dataframe tbody tr th:only-of-type {\n",
       "        vertical-align: middle;\n",
       "    }\n",
       "\n",
       "    .dataframe tbody tr th {\n",
       "        vertical-align: top;\n",
       "    }\n",
       "\n",
       "    .dataframe thead th {\n",
       "        text-align: right;\n",
       "    }\n",
       "</style>\n",
       "<table border=\"1\" class=\"dataframe\">\n",
       "  <thead>\n",
       "    <tr style=\"text-align: right;\">\n",
       "      <th></th>\n",
       "      <th>Branch</th>\n",
       "      <th>City</th>\n",
       "      <th>Customer type</th>\n",
       "      <th>Gender</th>\n",
       "      <th>Unit price</th>\n",
       "      <th>Quantity</th>\n",
       "      <th>Tax 5%</th>\n",
       "      <th>Total</th>\n",
       "      <th>Payment</th>\n",
       "      <th>cogs</th>\n",
       "      <th>gross income</th>\n",
       "      <th>Rating</th>\n",
       "      <th>IsFashion</th>\n",
       "      <th>Hour</th>\n",
       "      <th>Minute</th>\n",
       "      <th>Day</th>\n",
       "      <th>Month</th>\n",
       "    </tr>\n",
       "  </thead>\n",
       "  <tbody>\n",
       "    <tr>\n",
       "      <th>321</th>\n",
       "      <td>C</td>\n",
       "      <td>Naypyitaw</td>\n",
       "      <td>Normal</td>\n",
       "      <td>Female</td>\n",
       "      <td>39.42</td>\n",
       "      <td>1</td>\n",
       "      <td>1.9710</td>\n",
       "      <td>41.3910</td>\n",
       "      <td>Cash</td>\n",
       "      <td>39.42</td>\n",
       "      <td>1.9710</td>\n",
       "      <td>8.4</td>\n",
       "      <td>False</td>\n",
       "      <td>15</td>\n",
       "      <td>8</td>\n",
       "      <td>18</td>\n",
       "      <td>1</td>\n",
       "    </tr>\n",
       "    <tr>\n",
       "      <th>947</th>\n",
       "      <td>B</td>\n",
       "      <td>Mandalay</td>\n",
       "      <td>Member</td>\n",
       "      <td>Male</td>\n",
       "      <td>53.78</td>\n",
       "      <td>1</td>\n",
       "      <td>2.6890</td>\n",
       "      <td>56.4690</td>\n",
       "      <td>Ewallet</td>\n",
       "      <td>53.78</td>\n",
       "      <td>2.6890</td>\n",
       "      <td>4.7</td>\n",
       "      <td>True</td>\n",
       "      <td>20</td>\n",
       "      <td>13</td>\n",
       "      <td>3</td>\n",
       "      <td>2</td>\n",
       "    </tr>\n",
       "    <tr>\n",
       "      <th>415</th>\n",
       "      <td>B</td>\n",
       "      <td>Mandalay</td>\n",
       "      <td>Normal</td>\n",
       "      <td>Male</td>\n",
       "      <td>96.11</td>\n",
       "      <td>1</td>\n",
       "      <td>4.8055</td>\n",
       "      <td>100.9155</td>\n",
       "      <td>Ewallet</td>\n",
       "      <td>96.11</td>\n",
       "      <td>4.8055</td>\n",
       "      <td>7.8</td>\n",
       "      <td>False</td>\n",
       "      <td>16</td>\n",
       "      <td>28</td>\n",
       "      <td>25</td>\n",
       "      <td>1</td>\n",
       "    </tr>\n",
       "    <tr>\n",
       "      <th>417</th>\n",
       "      <td>C</td>\n",
       "      <td>Naypyitaw</td>\n",
       "      <td>Member</td>\n",
       "      <td>Female</td>\n",
       "      <td>81.51</td>\n",
       "      <td>1</td>\n",
       "      <td>4.0755</td>\n",
       "      <td>85.5855</td>\n",
       "      <td>Ewallet</td>\n",
       "      <td>81.51</td>\n",
       "      <td>4.0755</td>\n",
       "      <td>9.2</td>\n",
       "      <td>False</td>\n",
       "      <td>10</td>\n",
       "      <td>57</td>\n",
       "      <td>22</td>\n",
       "      <td>1</td>\n",
       "    </tr>\n",
       "    <tr>\n",
       "      <th>88</th>\n",
       "      <td>A</td>\n",
       "      <td>Yangon</td>\n",
       "      <td>Normal</td>\n",
       "      <td>Male</td>\n",
       "      <td>42.47</td>\n",
       "      <td>1</td>\n",
       "      <td>2.1235</td>\n",
       "      <td>44.5935</td>\n",
       "      <td>Cash</td>\n",
       "      <td>42.47</td>\n",
       "      <td>2.1235</td>\n",
       "      <td>5.7</td>\n",
       "      <td>False</td>\n",
       "      <td>16</td>\n",
       "      <td>57</td>\n",
       "      <td>2</td>\n",
       "      <td>1</td>\n",
       "    </tr>\n",
       "    <tr>\n",
       "      <th>886</th>\n",
       "      <td>A</td>\n",
       "      <td>Yangon</td>\n",
       "      <td>Member</td>\n",
       "      <td>Male</td>\n",
       "      <td>87.90</td>\n",
       "      <td>1</td>\n",
       "      <td>4.3950</td>\n",
       "      <td>92.2950</td>\n",
       "      <td>Ewallet</td>\n",
       "      <td>87.90</td>\n",
       "      <td>4.3950</td>\n",
       "      <td>6.7</td>\n",
       "      <td>False</td>\n",
       "      <td>19</td>\n",
       "      <td>42</td>\n",
       "      <td>5</td>\n",
       "      <td>2</td>\n",
       "    </tr>\n",
       "    <tr>\n",
       "      <th>424</th>\n",
       "      <td>C</td>\n",
       "      <td>Naypyitaw</td>\n",
       "      <td>Normal</td>\n",
       "      <td>Male</td>\n",
       "      <td>16.28</td>\n",
       "      <td>1</td>\n",
       "      <td>0.8140</td>\n",
       "      <td>17.0940</td>\n",
       "      <td>Cash</td>\n",
       "      <td>16.28</td>\n",
       "      <td>0.8140</td>\n",
       "      <td>5.0</td>\n",
       "      <td>True</td>\n",
       "      <td>15</td>\n",
       "      <td>36</td>\n",
       "      <td>9</td>\n",
       "      <td>3</td>\n",
       "    </tr>\n",
       "    <tr>\n",
       "      <th>745</th>\n",
       "      <td>C</td>\n",
       "      <td>Naypyitaw</td>\n",
       "      <td>Member</td>\n",
       "      <td>Female</td>\n",
       "      <td>38.42</td>\n",
       "      <td>1</td>\n",
       "      <td>1.9210</td>\n",
       "      <td>40.3410</td>\n",
       "      <td>Cash</td>\n",
       "      <td>38.42</td>\n",
       "      <td>1.9210</td>\n",
       "      <td>8.6</td>\n",
       "      <td>False</td>\n",
       "      <td>16</td>\n",
       "      <td>33</td>\n",
       "      <td>2</td>\n",
       "      <td>2</td>\n",
       "    </tr>\n",
       "    <tr>\n",
       "      <th>143</th>\n",
       "      <td>C</td>\n",
       "      <td>Naypyitaw</td>\n",
       "      <td>Member</td>\n",
       "      <td>Female</td>\n",
       "      <td>30.41</td>\n",
       "      <td>1</td>\n",
       "      <td>1.5205</td>\n",
       "      <td>31.9305</td>\n",
       "      <td>Credit card</td>\n",
       "      <td>30.41</td>\n",
       "      <td>1.5205</td>\n",
       "      <td>8.4</td>\n",
       "      <td>False</td>\n",
       "      <td>10</td>\n",
       "      <td>36</td>\n",
       "      <td>22</td>\n",
       "      <td>2</td>\n",
       "    </tr>\n",
       "    <tr>\n",
       "      <th>841</th>\n",
       "      <td>B</td>\n",
       "      <td>Mandalay</td>\n",
       "      <td>Normal</td>\n",
       "      <td>Male</td>\n",
       "      <td>60.30</td>\n",
       "      <td>1</td>\n",
       "      <td>3.0150</td>\n",
       "      <td>63.3150</td>\n",
       "      <td>Cash</td>\n",
       "      <td>60.30</td>\n",
       "      <td>3.0150</td>\n",
       "      <td>6.0</td>\n",
       "      <td>False</td>\n",
       "      <td>17</td>\n",
       "      <td>38</td>\n",
       "      <td>28</td>\n",
       "      <td>2</td>\n",
       "    </tr>\n",
       "  </tbody>\n",
       "</table>\n",
       "</div>"
      ],
      "text/plain": [
       "    Branch       City Customer type  Gender  Unit price  Quantity  Tax 5%  \\\n",
       "321      C  Naypyitaw        Normal  Female       39.42         1  1.9710   \n",
       "947      B   Mandalay        Member    Male       53.78         1  2.6890   \n",
       "415      B   Mandalay        Normal    Male       96.11         1  4.8055   \n",
       "417      C  Naypyitaw        Member  Female       81.51         1  4.0755   \n",
       "88       A     Yangon        Normal    Male       42.47         1  2.1235   \n",
       "886      A     Yangon        Member    Male       87.90         1  4.3950   \n",
       "424      C  Naypyitaw        Normal    Male       16.28         1  0.8140   \n",
       "745      C  Naypyitaw        Member  Female       38.42         1  1.9210   \n",
       "143      C  Naypyitaw        Member  Female       30.41         1  1.5205   \n",
       "841      B   Mandalay        Normal    Male       60.30         1  3.0150   \n",
       "\n",
       "        Total      Payment   cogs  gross income  Rating  IsFashion  Hour  \\\n",
       "321   41.3910         Cash  39.42        1.9710     8.4      False    15   \n",
       "947   56.4690      Ewallet  53.78        2.6890     4.7       True    20   \n",
       "415  100.9155      Ewallet  96.11        4.8055     7.8      False    16   \n",
       "417   85.5855      Ewallet  81.51        4.0755     9.2      False    10   \n",
       "88    44.5935         Cash  42.47        2.1235     5.7      False    16   \n",
       "886   92.2950      Ewallet  87.90        4.3950     6.7      False    19   \n",
       "424   17.0940         Cash  16.28        0.8140     5.0       True    15   \n",
       "745   40.3410         Cash  38.42        1.9210     8.6      False    16   \n",
       "143   31.9305  Credit card  30.41        1.5205     8.4      False    10   \n",
       "841   63.3150         Cash  60.30        3.0150     6.0      False    17   \n",
       "\n",
       "     Minute  Day  Month  \n",
       "321       8   18      1  \n",
       "947      13    3      2  \n",
       "415      28   25      1  \n",
       "417      57   22      1  \n",
       "88       57    2      1  \n",
       "886      42    5      2  \n",
       "424      36    9      3  \n",
       "745      33    2      2  \n",
       "143      36   22      2  \n",
       "841      38   28      2  "
      ]
     },
     "execution_count": 34,
     "metadata": {},
     "output_type": "execute_result"
    }
   ],
   "source": [
    "d=df.sort_values(by='Quantity',ascending= True)\n",
    "d.head(10)"
   ]
  },
  {
   "cell_type": "code",
   "execution_count": 35,
   "id": "8d09b4a2",
   "metadata": {},
   "outputs": [
    {
     "data": {
      "image/png": "[encoded data removed]",
      "text/plain": [
       "<Figure size 1080x576 with 1 Axes>"
      ]
     },
     "metadata": {
      "needs_background": "light"
     },
     "output_type": "display_data"
    }
   ],
   "source": [
    "plt.figure(figsize=(15,8))\n",
    "df.value_counts('Quantity').plot(kind='bar')\n",
    "plt.title('Total Count of Quantity')\n",
    "plt.show()"
   ]
  },
  {
   "cell_type": "markdown",
   "id": "e4833173",
   "metadata": {},
   "source": [
    "#### Top 10 High Gross Income in Super Market"
   ]
  },
  {
   "cell_type": "code",
   "execution_count": 36,
   "id": "1f24b38c",
   "metadata": {},
   "outputs": [
    {
     "data": {
      "text/html": [
       "<div>\n",
       "<style scoped>\n",
       "    .dataframe tbody tr th:only-of-type {\n",
       "        vertical-align: middle;\n",
       "    }\n",
       "\n",
       "    .dataframe tbody tr th {\n",
       "        vertical-align: top;\n",
       "    }\n",
       "\n",
       "    .dataframe thead th {\n",
       "        text-align: right;\n",
       "    }\n",
       "</style>\n",
       "<table border=\"1\" class=\"dataframe\">\n",
       "  <thead>\n",
       "    <tr style=\"text-align: right;\">\n",
       "      <th></th>\n",
       "      <th>Branch</th>\n",
       "      <th>City</th>\n",
       "      <th>Customer type</th>\n",
       "      <th>Gender</th>\n",
       "      <th>Unit price</th>\n",
       "      <th>Quantity</th>\n",
       "      <th>Tax 5%</th>\n",
       "      <th>Total</th>\n",
       "      <th>Payment</th>\n",
       "      <th>cogs</th>\n",
       "      <th>gross income</th>\n",
       "      <th>Rating</th>\n",
       "      <th>IsFashion</th>\n",
       "      <th>Hour</th>\n",
       "      <th>Minute</th>\n",
       "      <th>Day</th>\n",
       "      <th>Month</th>\n",
       "    </tr>\n",
       "  </thead>\n",
       "  <tbody>\n",
       "    <tr>\n",
       "      <th>350</th>\n",
       "      <td>C</td>\n",
       "      <td>Naypyitaw</td>\n",
       "      <td>Member</td>\n",
       "      <td>Female</td>\n",
       "      <td>99.30</td>\n",
       "      <td>10</td>\n",
       "      <td>49.650</td>\n",
       "      <td>1042.650</td>\n",
       "      <td>Credit card</td>\n",
       "      <td>993.0</td>\n",
       "      <td>49.650</td>\n",
       "      <td>6.6</td>\n",
       "      <td>True</td>\n",
       "      <td>14</td>\n",
       "      <td>53</td>\n",
       "      <td>15</td>\n",
       "      <td>2</td>\n",
       "    </tr>\n",
       "    <tr>\n",
       "      <th>167</th>\n",
       "      <td>A</td>\n",
       "      <td>Yangon</td>\n",
       "      <td>Normal</td>\n",
       "      <td>Male</td>\n",
       "      <td>98.98</td>\n",
       "      <td>10</td>\n",
       "      <td>49.490</td>\n",
       "      <td>1039.290</td>\n",
       "      <td>Credit card</td>\n",
       "      <td>989.8</td>\n",
       "      <td>49.490</td>\n",
       "      <td>8.7</td>\n",
       "      <td>True</td>\n",
       "      <td>16</td>\n",
       "      <td>20</td>\n",
       "      <td>8</td>\n",
       "      <td>2</td>\n",
       "    </tr>\n",
       "    <tr>\n",
       "      <th>557</th>\n",
       "      <td>C</td>\n",
       "      <td>Naypyitaw</td>\n",
       "      <td>Member</td>\n",
       "      <td>Female</td>\n",
       "      <td>98.52</td>\n",
       "      <td>10</td>\n",
       "      <td>49.260</td>\n",
       "      <td>1034.460</td>\n",
       "      <td>Ewallet</td>\n",
       "      <td>985.2</td>\n",
       "      <td>49.260</td>\n",
       "      <td>4.5</td>\n",
       "      <td>False</td>\n",
       "      <td>20</td>\n",
       "      <td>23</td>\n",
       "      <td>30</td>\n",
       "      <td>1</td>\n",
       "    </tr>\n",
       "    <tr>\n",
       "      <th>699</th>\n",
       "      <td>C</td>\n",
       "      <td>Naypyitaw</td>\n",
       "      <td>Normal</td>\n",
       "      <td>Male</td>\n",
       "      <td>97.50</td>\n",
       "      <td>10</td>\n",
       "      <td>48.750</td>\n",
       "      <td>1023.750</td>\n",
       "      <td>Ewallet</td>\n",
       "      <td>975.0</td>\n",
       "      <td>48.750</td>\n",
       "      <td>8.0</td>\n",
       "      <td>False</td>\n",
       "      <td>16</td>\n",
       "      <td>18</td>\n",
       "      <td>12</td>\n",
       "      <td>1</td>\n",
       "    </tr>\n",
       "    <tr>\n",
       "      <th>996</th>\n",
       "      <td>B</td>\n",
       "      <td>Mandalay</td>\n",
       "      <td>Normal</td>\n",
       "      <td>Female</td>\n",
       "      <td>97.38</td>\n",
       "      <td>10</td>\n",
       "      <td>48.690</td>\n",
       "      <td>1022.490</td>\n",
       "      <td>Ewallet</td>\n",
       "      <td>973.8</td>\n",
       "      <td>48.690</td>\n",
       "      <td>4.4</td>\n",
       "      <td>False</td>\n",
       "      <td>17</td>\n",
       "      <td>16</td>\n",
       "      <td>2</td>\n",
       "      <td>3</td>\n",
       "    </tr>\n",
       "    <tr>\n",
       "      <th>792</th>\n",
       "      <td>B</td>\n",
       "      <td>Mandalay</td>\n",
       "      <td>Normal</td>\n",
       "      <td>Female</td>\n",
       "      <td>97.37</td>\n",
       "      <td>10</td>\n",
       "      <td>48.685</td>\n",
       "      <td>1022.385</td>\n",
       "      <td>Credit card</td>\n",
       "      <td>973.7</td>\n",
       "      <td>48.685</td>\n",
       "      <td>4.9</td>\n",
       "      <td>False</td>\n",
       "      <td>13</td>\n",
       "      <td>48</td>\n",
       "      <td>15</td>\n",
       "      <td>1</td>\n",
       "    </tr>\n",
       "    <tr>\n",
       "      <th>422</th>\n",
       "      <td>C</td>\n",
       "      <td>Naypyitaw</td>\n",
       "      <td>Member</td>\n",
       "      <td>Female</td>\n",
       "      <td>97.21</td>\n",
       "      <td>10</td>\n",
       "      <td>48.605</td>\n",
       "      <td>1020.705</td>\n",
       "      <td>Credit card</td>\n",
       "      <td>972.1</td>\n",
       "      <td>48.605</td>\n",
       "      <td>8.7</td>\n",
       "      <td>True</td>\n",
       "      <td>13</td>\n",
       "      <td>0</td>\n",
       "      <td>8</td>\n",
       "      <td>2</td>\n",
       "    </tr>\n",
       "    <tr>\n",
       "      <th>166</th>\n",
       "      <td>C</td>\n",
       "      <td>Naypyitaw</td>\n",
       "      <td>Normal</td>\n",
       "      <td>Male</td>\n",
       "      <td>95.58</td>\n",
       "      <td>10</td>\n",
       "      <td>47.790</td>\n",
       "      <td>1003.590</td>\n",
       "      <td>Cash</td>\n",
       "      <td>955.8</td>\n",
       "      <td>47.790</td>\n",
       "      <td>4.8</td>\n",
       "      <td>False</td>\n",
       "      <td>13</td>\n",
       "      <td>32</td>\n",
       "      <td>16</td>\n",
       "      <td>1</td>\n",
       "    </tr>\n",
       "    <tr>\n",
       "      <th>357</th>\n",
       "      <td>C</td>\n",
       "      <td>Naypyitaw</td>\n",
       "      <td>Normal</td>\n",
       "      <td>Female</td>\n",
       "      <td>95.44</td>\n",
       "      <td>10</td>\n",
       "      <td>47.720</td>\n",
       "      <td>1002.120</td>\n",
       "      <td>Cash</td>\n",
       "      <td>954.4</td>\n",
       "      <td>47.720</td>\n",
       "      <td>5.2</td>\n",
       "      <td>False</td>\n",
       "      <td>13</td>\n",
       "      <td>45</td>\n",
       "      <td>9</td>\n",
       "      <td>1</td>\n",
       "    </tr>\n",
       "    <tr>\n",
       "      <th>429</th>\n",
       "      <td>A</td>\n",
       "      <td>Yangon</td>\n",
       "      <td>Member</td>\n",
       "      <td>Female</td>\n",
       "      <td>90.65</td>\n",
       "      <td>10</td>\n",
       "      <td>45.325</td>\n",
       "      <td>951.825</td>\n",
       "      <td>Ewallet</td>\n",
       "      <td>906.5</td>\n",
       "      <td>45.325</td>\n",
       "      <td>7.3</td>\n",
       "      <td>False</td>\n",
       "      <td>10</td>\n",
       "      <td>53</td>\n",
       "      <td>8</td>\n",
       "      <td>3</td>\n",
       "    </tr>\n",
       "  </tbody>\n",
       "</table>\n",
       "</div>"
      ],
      "text/plain": [
       "    Branch       City Customer type  Gender  Unit price  Quantity  Tax 5%  \\\n",
       "350      C  Naypyitaw        Member  Female       99.30        10  49.650   \n",
       "167      A     Yangon        Normal    Male       98.98        10  49.490   \n",
       "557      C  Naypyitaw        Member  Female       98.52        10  49.260   \n",
       "699      C  Naypyitaw        Normal    Male       97.50        10  48.750   \n",
       "996      B   Mandalay        Normal  Female       97.38        10  48.690   \n",
       "792      B   Mandalay        Normal  Female       97.37        10  48.685   \n",
       "422      C  Naypyitaw        Member  Female       97.21        10  48.605   \n",
       "166      C  Naypyitaw        Normal    Male       95.58        10  47.790   \n",
       "357      C  Naypyitaw        Normal  Female       95.44        10  47.720   \n",
       "429      A     Yangon        Member  Female       90.65        10  45.325   \n",
       "\n",
       "        Total      Payment   cogs  gross income  Rating  IsFashion  Hour  \\\n",
       "350  1042.650  Credit card  993.0        49.650     6.6       True    14   \n",
       "167  1039.290  Credit card  989.8        49.490     8.7       True    16   \n",
       "557  1034.460      Ewallet  985.2        49.260     4.5      False    20   \n",
       "699  1023.750      Ewallet  975.0        48.750     8.0      False    16   \n",
       "996  1022.490      Ewallet  973.8        48.690     4.4      False    17   \n",
       "792  1022.385  Credit card  973.7        48.685     4.9      False    13   \n",
       "422  1020.705  Credit card  972.1        48.605     8.7       True    13   \n",
       "166  1003.590         Cash  955.8        47.790     4.8      False    13   \n",
       "357  1002.120         Cash  954.4        47.720     5.2      False    13   \n",
       "429   951.825      Ewallet  906.5        45.325     7.3      False    10   \n",
       "\n",
       "     Minute  Day  Month  \n",
       "350      53   15      2  \n",
       "167      20    8      2  \n",
       "557      23   30      1  \n",
       "699      18   12      1  \n",
       "996      16    2      3  \n",
       "792      48   15      1  \n",
       "422       0    8      2  \n",
       "166      32   16      1  \n",
       "357      45    9      1  \n",
       "429      53    8      3  "
      ]
     },
     "execution_count": 36,
     "metadata": {},
     "output_type": "execute_result"
    }
   ],
   "source": [
    "d1=df.sort_values(by='gross income',ascending = False)\n",
    "d1.head(10)"
   ]
  },
  {
   "cell_type": "markdown",
   "id": "2679520d",
   "metadata": {},
   "source": [
    "#### Top 10 Low Gross Income in Super Market"
   ]
  },
  {
   "cell_type": "code",
   "execution_count": 37,
   "id": "efd10e24",
   "metadata": {},
   "outputs": [
    {
     "data": {
      "text/html": [
       "<div>\n",
       "<style scoped>\n",
       "    .dataframe tbody tr th:only-of-type {\n",
       "        vertical-align: middle;\n",
       "    }\n",
       "\n",
       "    .dataframe tbody tr th {\n",
       "        vertical-align: top;\n",
       "    }\n",
       "\n",
       "    .dataframe thead th {\n",
       "        text-align: right;\n",
       "    }\n",
       "</style>\n",
       "<table border=\"1\" class=\"dataframe\">\n",
       "  <thead>\n",
       "    <tr style=\"text-align: right;\">\n",
       "      <th></th>\n",
       "      <th>Branch</th>\n",
       "      <th>City</th>\n",
       "      <th>Customer type</th>\n",
       "      <th>Gender</th>\n",
       "      <th>Unit price</th>\n",
       "      <th>Quantity</th>\n",
       "      <th>Tax 5%</th>\n",
       "      <th>Total</th>\n",
       "      <th>Payment</th>\n",
       "      <th>cogs</th>\n",
       "      <th>gross income</th>\n",
       "      <th>Rating</th>\n",
       "      <th>IsFashion</th>\n",
       "      <th>Hour</th>\n",
       "      <th>Minute</th>\n",
       "      <th>Day</th>\n",
       "      <th>Month</th>\n",
       "    </tr>\n",
       "  </thead>\n",
       "  <tbody>\n",
       "    <tr>\n",
       "      <th>822</th>\n",
       "      <td>C</td>\n",
       "      <td>Naypyitaw</td>\n",
       "      <td>Member</td>\n",
       "      <td>Male</td>\n",
       "      <td>10.17</td>\n",
       "      <td>1</td>\n",
       "      <td>0.5085</td>\n",
       "      <td>10.6785</td>\n",
       "      <td>Cash</td>\n",
       "      <td>10.17</td>\n",
       "      <td>0.5085</td>\n",
       "      <td>5.9</td>\n",
       "      <td>False</td>\n",
       "      <td>14</td>\n",
       "      <td>15</td>\n",
       "      <td>7</td>\n",
       "      <td>2</td>\n",
       "    </tr>\n",
       "    <tr>\n",
       "      <th>629</th>\n",
       "      <td>A</td>\n",
       "      <td>Yangon</td>\n",
       "      <td>Normal</td>\n",
       "      <td>Female</td>\n",
       "      <td>12.09</td>\n",
       "      <td>1</td>\n",
       "      <td>0.6045</td>\n",
       "      <td>12.6945</td>\n",
       "      <td>Credit card</td>\n",
       "      <td>12.09</td>\n",
       "      <td>0.6045</td>\n",
       "      <td>8.2</td>\n",
       "      <td>True</td>\n",
       "      <td>18</td>\n",
       "      <td>19</td>\n",
       "      <td>26</td>\n",
       "      <td>1</td>\n",
       "    </tr>\n",
       "    <tr>\n",
       "      <th>223</th>\n",
       "      <td>C</td>\n",
       "      <td>Naypyitaw</td>\n",
       "      <td>Member</td>\n",
       "      <td>Female</td>\n",
       "      <td>12.54</td>\n",
       "      <td>1</td>\n",
       "      <td>0.6270</td>\n",
       "      <td>13.1670</td>\n",
       "      <td>Cash</td>\n",
       "      <td>12.54</td>\n",
       "      <td>0.6270</td>\n",
       "      <td>8.2</td>\n",
       "      <td>True</td>\n",
       "      <td>12</td>\n",
       "      <td>38</td>\n",
       "      <td>21</td>\n",
       "      <td>2</td>\n",
       "    </tr>\n",
       "    <tr>\n",
       "      <th>443</th>\n",
       "      <td>C</td>\n",
       "      <td>Naypyitaw</td>\n",
       "      <td>Normal</td>\n",
       "      <td>Male</td>\n",
       "      <td>12.78</td>\n",
       "      <td>1</td>\n",
       "      <td>0.6390</td>\n",
       "      <td>13.4190</td>\n",
       "      <td>Ewallet</td>\n",
       "      <td>12.78</td>\n",
       "      <td>0.6390</td>\n",
       "      <td>9.5</td>\n",
       "      <td>True</td>\n",
       "      <td>14</td>\n",
       "      <td>11</td>\n",
       "      <td>8</td>\n",
       "      <td>1</td>\n",
       "    </tr>\n",
       "    <tr>\n",
       "      <th>402</th>\n",
       "      <td>C</td>\n",
       "      <td>Naypyitaw</td>\n",
       "      <td>Member</td>\n",
       "      <td>Male</td>\n",
       "      <td>13.98</td>\n",
       "      <td>1</td>\n",
       "      <td>0.6990</td>\n",
       "      <td>14.6790</td>\n",
       "      <td>Ewallet</td>\n",
       "      <td>13.98</td>\n",
       "      <td>0.6990</td>\n",
       "      <td>9.8</td>\n",
       "      <td>False</td>\n",
       "      <td>13</td>\n",
       "      <td>38</td>\n",
       "      <td>4</td>\n",
       "      <td>2</td>\n",
       "    </tr>\n",
       "    <tr>\n",
       "      <th>282</th>\n",
       "      <td>A</td>\n",
       "      <td>Yangon</td>\n",
       "      <td>Normal</td>\n",
       "      <td>Female</td>\n",
       "      <td>15.34</td>\n",
       "      <td>1</td>\n",
       "      <td>0.7670</td>\n",
       "      <td>16.1070</td>\n",
       "      <td>Cash</td>\n",
       "      <td>15.34</td>\n",
       "      <td>0.7670</td>\n",
       "      <td>6.5</td>\n",
       "      <td>False</td>\n",
       "      <td>11</td>\n",
       "      <td>9</td>\n",
       "      <td>6</td>\n",
       "      <td>1</td>\n",
       "    </tr>\n",
       "    <tr>\n",
       "      <th>53</th>\n",
       "      <td>C</td>\n",
       "      <td>Naypyitaw</td>\n",
       "      <td>Member</td>\n",
       "      <td>Male</td>\n",
       "      <td>15.43</td>\n",
       "      <td>1</td>\n",
       "      <td>0.7715</td>\n",
       "      <td>16.2015</td>\n",
       "      <td>Credit card</td>\n",
       "      <td>15.43</td>\n",
       "      <td>0.7715</td>\n",
       "      <td>6.1</td>\n",
       "      <td>True</td>\n",
       "      <td>15</td>\n",
       "      <td>46</td>\n",
       "      <td>25</td>\n",
       "      <td>1</td>\n",
       "    </tr>\n",
       "    <tr>\n",
       "      <th>962</th>\n",
       "      <td>A</td>\n",
       "      <td>Yangon</td>\n",
       "      <td>Normal</td>\n",
       "      <td>Female</td>\n",
       "      <td>15.50</td>\n",
       "      <td>1</td>\n",
       "      <td>0.7750</td>\n",
       "      <td>16.2750</td>\n",
       "      <td>Credit card</td>\n",
       "      <td>15.50</td>\n",
       "      <td>0.7750</td>\n",
       "      <td>7.4</td>\n",
       "      <td>True</td>\n",
       "      <td>15</td>\n",
       "      <td>23</td>\n",
       "      <td>19</td>\n",
       "      <td>3</td>\n",
       "    </tr>\n",
       "    <tr>\n",
       "      <th>424</th>\n",
       "      <td>C</td>\n",
       "      <td>Naypyitaw</td>\n",
       "      <td>Normal</td>\n",
       "      <td>Male</td>\n",
       "      <td>16.28</td>\n",
       "      <td>1</td>\n",
       "      <td>0.8140</td>\n",
       "      <td>17.0940</td>\n",
       "      <td>Cash</td>\n",
       "      <td>16.28</td>\n",
       "      <td>0.8140</td>\n",
       "      <td>5.0</td>\n",
       "      <td>True</td>\n",
       "      <td>15</td>\n",
       "      <td>36</td>\n",
       "      <td>9</td>\n",
       "      <td>3</td>\n",
       "    </tr>\n",
       "    <tr>\n",
       "      <th>808</th>\n",
       "      <td>B</td>\n",
       "      <td>Mandalay</td>\n",
       "      <td>Normal</td>\n",
       "      <td>Female</td>\n",
       "      <td>17.75</td>\n",
       "      <td>1</td>\n",
       "      <td>0.8875</td>\n",
       "      <td>18.6375</td>\n",
       "      <td>Cash</td>\n",
       "      <td>17.75</td>\n",
       "      <td>0.8875</td>\n",
       "      <td>8.6</td>\n",
       "      <td>False</td>\n",
       "      <td>10</td>\n",
       "      <td>38</td>\n",
       "      <td>14</td>\n",
       "      <td>1</td>\n",
       "    </tr>\n",
       "  </tbody>\n",
       "</table>\n",
       "</div>"
      ],
      "text/plain": [
       "    Branch       City Customer type  Gender  Unit price  Quantity  Tax 5%  \\\n",
       "822      C  Naypyitaw        Member    Male       10.17         1  0.5085   \n",
       "629      A     Yangon        Normal  Female       12.09         1  0.6045   \n",
       "223      C  Naypyitaw        Member  Female       12.54         1  0.6270   \n",
       "443      C  Naypyitaw        Normal    Male       12.78         1  0.6390   \n",
       "402      C  Naypyitaw        Member    Male       13.98         1  0.6990   \n",
       "282      A     Yangon        Normal  Female       15.34         1  0.7670   \n",
       "53       C  Naypyitaw        Member    Male       15.43         1  0.7715   \n",
       "962      A     Yangon        Normal  Female       15.50         1  0.7750   \n",
       "424      C  Naypyitaw        Normal    Male       16.28         1  0.8140   \n",
       "808      B   Mandalay        Normal  Female       17.75         1  0.8875   \n",
       "\n",
       "       Total      Payment   cogs  gross income  Rating  IsFashion  Hour  \\\n",
       "822  10.6785         Cash  10.17        0.5085     5.9      False    14   \n",
       "629  12.6945  Credit card  12.09        0.6045     8.2       True    18   \n",
       "223  13.1670         Cash  12.54        0.6270     8.2       True    12   \n",
       "443  13.4190      Ewallet  12.78        0.6390     9.5       True    14   \n",
       "402  14.6790      Ewallet  13.98        0.6990     9.8      False    13   \n",
       "282  16.1070         Cash  15.34        0.7670     6.5      False    11   \n",
       "53   16.2015  Credit card  15.43        0.7715     6.1       True    15   \n",
       "962  16.2750  Credit card  15.50        0.7750     7.4       True    15   \n",
       "424  17.0940         Cash  16.28        0.8140     5.0       True    15   \n",
       "808  18.6375         Cash  17.75        0.8875     8.6      False    10   \n",
       "\n",
       "     Minute  Day  Month  \n",
       "822      15    7      2  \n",
       "629      19   26      1  \n",
       "223      38   21      2  \n",
       "443      11    8      1  \n",
       "402      38    4      2  \n",
       "282       9    6      1  \n",
       "53       46   25      1  \n",
       "962      23   19      3  \n",
       "424      36    9      3  \n",
       "808      38   14      1  "
      ]
     },
     "execution_count": 37,
     "metadata": {},
     "output_type": "execute_result"
    }
   ],
   "source": [
    "d1=df.sort_values(by='gross income',ascending = True)\n",
    "d1.head(10)"
   ]
  },
  {
   "cell_type": "markdown",
   "id": "02509e31",
   "metadata": {},
   "source": [
    "#### Top 10 High Rating in Super Market"
   ]
  },
  {
   "cell_type": "code",
   "execution_count": 38,
   "id": "6bf483e3",
   "metadata": {},
   "outputs": [
    {
     "data": {
      "text/html": [
       "<div>\n",
       "<style scoped>\n",
       "    .dataframe tbody tr th:only-of-type {\n",
       "        vertical-align: middle;\n",
       "    }\n",
       "\n",
       "    .dataframe tbody tr th {\n",
       "        vertical-align: top;\n",
       "    }\n",
       "\n",
       "    .dataframe thead th {\n",
       "        text-align: right;\n",
       "    }\n",
       "</style>\n",
       "<table border=\"1\" class=\"dataframe\">\n",
       "  <thead>\n",
       "    <tr style=\"text-align: right;\">\n",
       "      <th></th>\n",
       "      <th>Branch</th>\n",
       "      <th>City</th>\n",
       "      <th>Customer type</th>\n",
       "      <th>Gender</th>\n",
       "      <th>Unit price</th>\n",
       "      <th>Quantity</th>\n",
       "      <th>Tax 5%</th>\n",
       "      <th>Total</th>\n",
       "      <th>Payment</th>\n",
       "      <th>cogs</th>\n",
       "      <th>gross income</th>\n",
       "      <th>Rating</th>\n",
       "      <th>IsFashion</th>\n",
       "      <th>Hour</th>\n",
       "      <th>Minute</th>\n",
       "      <th>Day</th>\n",
       "      <th>Month</th>\n",
       "    </tr>\n",
       "  </thead>\n",
       "  <tbody>\n",
       "    <tr>\n",
       "      <th>387</th>\n",
       "      <td>A</td>\n",
       "      <td>Yangon</td>\n",
       "      <td>Normal</td>\n",
       "      <td>Female</td>\n",
       "      <td>32.32</td>\n",
       "      <td>10</td>\n",
       "      <td>16.1600</td>\n",
       "      <td>339.3600</td>\n",
       "      <td>Credit card</td>\n",
       "      <td>323.20</td>\n",
       "      <td>16.1600</td>\n",
       "      <td>10.0</td>\n",
       "      <td>False</td>\n",
       "      <td>16</td>\n",
       "      <td>49</td>\n",
       "      <td>20</td>\n",
       "      <td>2</td>\n",
       "    </tr>\n",
       "    <tr>\n",
       "      <th>159</th>\n",
       "      <td>B</td>\n",
       "      <td>Mandalay</td>\n",
       "      <td>Normal</td>\n",
       "      <td>Male</td>\n",
       "      <td>93.39</td>\n",
       "      <td>6</td>\n",
       "      <td>28.0170</td>\n",
       "      <td>588.3570</td>\n",
       "      <td>Ewallet</td>\n",
       "      <td>560.34</td>\n",
       "      <td>28.0170</td>\n",
       "      <td>10.0</td>\n",
       "      <td>False</td>\n",
       "      <td>19</td>\n",
       "      <td>18</td>\n",
       "      <td>27</td>\n",
       "      <td>3</td>\n",
       "    </tr>\n",
       "    <tr>\n",
       "      <th>853</th>\n",
       "      <td>B</td>\n",
       "      <td>Mandalay</td>\n",
       "      <td>Normal</td>\n",
       "      <td>Female</td>\n",
       "      <td>52.79</td>\n",
       "      <td>10</td>\n",
       "      <td>26.3950</td>\n",
       "      <td>554.2950</td>\n",
       "      <td>Ewallet</td>\n",
       "      <td>527.90</td>\n",
       "      <td>26.3950</td>\n",
       "      <td>10.0</td>\n",
       "      <td>False</td>\n",
       "      <td>11</td>\n",
       "      <td>58</td>\n",
       "      <td>25</td>\n",
       "      <td>2</td>\n",
       "    </tr>\n",
       "    <tr>\n",
       "      <th>62</th>\n",
       "      <td>B</td>\n",
       "      <td>Mandalay</td>\n",
       "      <td>Member</td>\n",
       "      <td>Female</td>\n",
       "      <td>55.07</td>\n",
       "      <td>9</td>\n",
       "      <td>24.7815</td>\n",
       "      <td>520.4115</td>\n",
       "      <td>Ewallet</td>\n",
       "      <td>495.63</td>\n",
       "      <td>24.7815</td>\n",
       "      <td>10.0</td>\n",
       "      <td>False</td>\n",
       "      <td>13</td>\n",
       "      <td>40</td>\n",
       "      <td>3</td>\n",
       "      <td>2</td>\n",
       "    </tr>\n",
       "    <tr>\n",
       "      <th>60</th>\n",
       "      <td>C</td>\n",
       "      <td>Naypyitaw</td>\n",
       "      <td>Member</td>\n",
       "      <td>Female</td>\n",
       "      <td>24.74</td>\n",
       "      <td>3</td>\n",
       "      <td>3.7110</td>\n",
       "      <td>77.9310</td>\n",
       "      <td>Credit card</td>\n",
       "      <td>74.22</td>\n",
       "      <td>3.7110</td>\n",
       "      <td>10.0</td>\n",
       "      <td>False</td>\n",
       "      <td>17</td>\n",
       "      <td>47</td>\n",
       "      <td>15</td>\n",
       "      <td>2</td>\n",
       "    </tr>\n",
       "    <tr>\n",
       "      <th>382</th>\n",
       "      <td>B</td>\n",
       "      <td>Mandalay</td>\n",
       "      <td>Normal</td>\n",
       "      <td>Female</td>\n",
       "      <td>99.69</td>\n",
       "      <td>5</td>\n",
       "      <td>24.9225</td>\n",
       "      <td>523.3725</td>\n",
       "      <td>Cash</td>\n",
       "      <td>498.45</td>\n",
       "      <td>24.9225</td>\n",
       "      <td>9.9</td>\n",
       "      <td>False</td>\n",
       "      <td>12</td>\n",
       "      <td>9</td>\n",
       "      <td>14</td>\n",
       "      <td>1</td>\n",
       "    </tr>\n",
       "    <tr>\n",
       "      <th>194</th>\n",
       "      <td>A</td>\n",
       "      <td>Yangon</td>\n",
       "      <td>Normal</td>\n",
       "      <td>Male</td>\n",
       "      <td>32.71</td>\n",
       "      <td>5</td>\n",
       "      <td>8.1775</td>\n",
       "      <td>171.7275</td>\n",
       "      <td>Credit card</td>\n",
       "      <td>163.55</td>\n",
       "      <td>8.1775</td>\n",
       "      <td>9.9</td>\n",
       "      <td>False</td>\n",
       "      <td>11</td>\n",
       "      <td>30</td>\n",
       "      <td>19</td>\n",
       "      <td>3</td>\n",
       "    </tr>\n",
       "    <tr>\n",
       "      <th>179</th>\n",
       "      <td>C</td>\n",
       "      <td>Naypyitaw</td>\n",
       "      <td>Member</td>\n",
       "      <td>Male</td>\n",
       "      <td>86.80</td>\n",
       "      <td>3</td>\n",
       "      <td>13.0200</td>\n",
       "      <td>273.4200</td>\n",
       "      <td>Ewallet</td>\n",
       "      <td>260.40</td>\n",
       "      <td>13.0200</td>\n",
       "      <td>9.9</td>\n",
       "      <td>False</td>\n",
       "      <td>16</td>\n",
       "      <td>47</td>\n",
       "      <td>28</td>\n",
       "      <td>1</td>\n",
       "    </tr>\n",
       "    <tr>\n",
       "      <th>86</th>\n",
       "      <td>C</td>\n",
       "      <td>Naypyitaw</td>\n",
       "      <td>Normal</td>\n",
       "      <td>Male</td>\n",
       "      <td>76.52</td>\n",
       "      <td>5</td>\n",
       "      <td>19.1300</td>\n",
       "      <td>401.7300</td>\n",
       "      <td>Cash</td>\n",
       "      <td>382.60</td>\n",
       "      <td>19.1300</td>\n",
       "      <td>9.9</td>\n",
       "      <td>True</td>\n",
       "      <td>10</td>\n",
       "      <td>23</td>\n",
       "      <td>25</td>\n",
       "      <td>3</td>\n",
       "    </tr>\n",
       "    <tr>\n",
       "      <th>23</th>\n",
       "      <td>A</td>\n",
       "      <td>Yangon</td>\n",
       "      <td>Normal</td>\n",
       "      <td>Male</td>\n",
       "      <td>34.56</td>\n",
       "      <td>5</td>\n",
       "      <td>8.6400</td>\n",
       "      <td>181.4400</td>\n",
       "      <td>Ewallet</td>\n",
       "      <td>172.80</td>\n",
       "      <td>8.6400</td>\n",
       "      <td>9.9</td>\n",
       "      <td>False</td>\n",
       "      <td>11</td>\n",
       "      <td>15</td>\n",
       "      <td>17</td>\n",
       "      <td>2</td>\n",
       "    </tr>\n",
       "  </tbody>\n",
       "</table>\n",
       "</div>"
      ],
      "text/plain": [
       "    Branch       City Customer type  Gender  Unit price  Quantity   Tax 5%  \\\n",
       "387      A     Yangon        Normal  Female       32.32        10  16.1600   \n",
       "159      B   Mandalay        Normal    Male       93.39         6  28.0170   \n",
       "853      B   Mandalay        Normal  Female       52.79        10  26.3950   \n",
       "62       B   Mandalay        Member  Female       55.07         9  24.7815   \n",
       "60       C  Naypyitaw        Member  Female       24.74         3   3.7110   \n",
       "382      B   Mandalay        Normal  Female       99.69         5  24.9225   \n",
       "194      A     Yangon        Normal    Male       32.71         5   8.1775   \n",
       "179      C  Naypyitaw        Member    Male       86.80         3  13.0200   \n",
       "86       C  Naypyitaw        Normal    Male       76.52         5  19.1300   \n",
       "23       A     Yangon        Normal    Male       34.56         5   8.6400   \n",
       "\n",
       "        Total      Payment    cogs  gross income  Rating  IsFashion  Hour  \\\n",
       "387  339.3600  Credit card  323.20       16.1600    10.0      False    16   \n",
       "159  588.3570      Ewallet  560.34       28.0170    10.0      False    19   \n",
       "853  554.2950      Ewallet  527.90       26.3950    10.0      False    11   \n",
       "62   520.4115      Ewallet  495.63       24.7815    10.0      False    13   \n",
       "60    77.9310  Credit card   74.22        3.7110    10.0      False    17   \n",
       "382  523.3725         Cash  498.45       24.9225     9.9      False    12   \n",
       "194  171.7275  Credit card  163.55        8.1775     9.9      False    11   \n",
       "179  273.4200      Ewallet  260.40       13.0200     9.9      False    16   \n",
       "86   401.7300         Cash  382.60       19.1300     9.9       True    10   \n",
       "23   181.4400      Ewallet  172.80        8.6400     9.9      False    11   \n",
       "\n",
       "     Minute  Day  Month  \n",
       "387      49   20      2  \n",
       "159      18   27      3  \n",
       "853      58   25      2  \n",
       "62       40    3      2  \n",
       "60       47   15      2  \n",
       "382       9   14      1  \n",
       "194      30   19      3  \n",
       "179      47   28      1  \n",
       "86       23   25      3  \n",
       "23       15   17      2  "
      ]
     },
     "execution_count": 38,
     "metadata": {},
     "output_type": "execute_result"
    }
   ],
   "source": [
    "d2=df.sort_values(by='Rating',ascending = False)\n",
    "d2.head(10)"
   ]
  },
  {
   "cell_type": "markdown",
   "id": "efc396ac",
   "metadata": {},
   "source": [
    "#### Top 10 Low Rating in Super Market"
   ]
  },
  {
   "cell_type": "code",
   "execution_count": 39,
   "id": "cdcc05d2",
   "metadata": {},
   "outputs": [
    {
     "data": {
      "text/html": [
       "<div>\n",
       "<style scoped>\n",
       "    .dataframe tbody tr th:only-of-type {\n",
       "        vertical-align: middle;\n",
       "    }\n",
       "\n",
       "    .dataframe tbody tr th {\n",
       "        vertical-align: top;\n",
       "    }\n",
       "\n",
       "    .dataframe thead th {\n",
       "        text-align: right;\n",
       "    }\n",
       "</style>\n",
       "<table border=\"1\" class=\"dataframe\">\n",
       "  <thead>\n",
       "    <tr style=\"text-align: right;\">\n",
       "      <th></th>\n",
       "      <th>Branch</th>\n",
       "      <th>City</th>\n",
       "      <th>Customer type</th>\n",
       "      <th>Gender</th>\n",
       "      <th>Unit price</th>\n",
       "      <th>Quantity</th>\n",
       "      <th>Tax 5%</th>\n",
       "      <th>Total</th>\n",
       "      <th>Payment</th>\n",
       "      <th>cogs</th>\n",
       "      <th>gross income</th>\n",
       "      <th>Rating</th>\n",
       "      <th>IsFashion</th>\n",
       "      <th>Hour</th>\n",
       "      <th>Minute</th>\n",
       "      <th>Day</th>\n",
       "      <th>Month</th>\n",
       "    </tr>\n",
       "  </thead>\n",
       "  <tbody>\n",
       "    <tr>\n",
       "      <th>848</th>\n",
       "      <td>C</td>\n",
       "      <td>Naypyitaw</td>\n",
       "      <td>Member</td>\n",
       "      <td>Female</td>\n",
       "      <td>72.88</td>\n",
       "      <td>9</td>\n",
       "      <td>32.7960</td>\n",
       "      <td>688.7160</td>\n",
       "      <td>Cash</td>\n",
       "      <td>655.92</td>\n",
       "      <td>32.7960</td>\n",
       "      <td>4.0</td>\n",
       "      <td>False</td>\n",
       "      <td>19</td>\n",
       "      <td>38</td>\n",
       "      <td>8</td>\n",
       "      <td>1</td>\n",
       "    </tr>\n",
       "    <tr>\n",
       "      <th>672</th>\n",
       "      <td>B</td>\n",
       "      <td>Mandalay</td>\n",
       "      <td>Normal</td>\n",
       "      <td>Female</td>\n",
       "      <td>73.41</td>\n",
       "      <td>3</td>\n",
       "      <td>11.0115</td>\n",
       "      <td>231.2415</td>\n",
       "      <td>Ewallet</td>\n",
       "      <td>220.23</td>\n",
       "      <td>11.0115</td>\n",
       "      <td>4.0</td>\n",
       "      <td>False</td>\n",
       "      <td>13</td>\n",
       "      <td>10</td>\n",
       "      <td>2</td>\n",
       "      <td>3</td>\n",
       "    </tr>\n",
       "    <tr>\n",
       "      <th>72</th>\n",
       "      <td>B</td>\n",
       "      <td>Mandalay</td>\n",
       "      <td>Member</td>\n",
       "      <td>Female</td>\n",
       "      <td>48.52</td>\n",
       "      <td>3</td>\n",
       "      <td>7.2780</td>\n",
       "      <td>152.8380</td>\n",
       "      <td>Ewallet</td>\n",
       "      <td>145.56</td>\n",
       "      <td>7.2780</td>\n",
       "      <td>4.0</td>\n",
       "      <td>False</td>\n",
       "      <td>18</td>\n",
       "      <td>17</td>\n",
       "      <td>5</td>\n",
       "      <td>3</td>\n",
       "    </tr>\n",
       "    <tr>\n",
       "      <th>618</th>\n",
       "      <td>A</td>\n",
       "      <td>Yangon</td>\n",
       "      <td>Member</td>\n",
       "      <td>Male</td>\n",
       "      <td>98.53</td>\n",
       "      <td>6</td>\n",
       "      <td>29.5590</td>\n",
       "      <td>620.7390</td>\n",
       "      <td>Credit card</td>\n",
       "      <td>591.18</td>\n",
       "      <td>29.5590</td>\n",
       "      <td>4.0</td>\n",
       "      <td>False</td>\n",
       "      <td>11</td>\n",
       "      <td>22</td>\n",
       "      <td>23</td>\n",
       "      <td>1</td>\n",
       "    </tr>\n",
       "    <tr>\n",
       "      <th>876</th>\n",
       "      <td>C</td>\n",
       "      <td>Naypyitaw</td>\n",
       "      <td>Member</td>\n",
       "      <td>Male</td>\n",
       "      <td>52.35</td>\n",
       "      <td>1</td>\n",
       "      <td>2.6175</td>\n",
       "      <td>54.9675</td>\n",
       "      <td>Cash</td>\n",
       "      <td>52.35</td>\n",
       "      <td>2.6175</td>\n",
       "      <td>4.0</td>\n",
       "      <td>True</td>\n",
       "      <td>17</td>\n",
       "      <td>49</td>\n",
       "      <td>12</td>\n",
       "      <td>2</td>\n",
       "    </tr>\n",
       "    <tr>\n",
       "      <th>85</th>\n",
       "      <td>C</td>\n",
       "      <td>Naypyitaw</td>\n",
       "      <td>Normal</td>\n",
       "      <td>Female</td>\n",
       "      <td>83.06</td>\n",
       "      <td>7</td>\n",
       "      <td>29.0710</td>\n",
       "      <td>610.4910</td>\n",
       "      <td>Ewallet</td>\n",
       "      <td>581.42</td>\n",
       "      <td>29.0710</td>\n",
       "      <td>4.0</td>\n",
       "      <td>False</td>\n",
       "      <td>14</td>\n",
       "      <td>31</td>\n",
       "      <td>5</td>\n",
       "      <td>3</td>\n",
       "    </tr>\n",
       "    <tr>\n",
       "      <th>790</th>\n",
       "      <td>A</td>\n",
       "      <td>Yangon</td>\n",
       "      <td>Normal</td>\n",
       "      <td>Male</td>\n",
       "      <td>46.41</td>\n",
       "      <td>1</td>\n",
       "      <td>2.3205</td>\n",
       "      <td>48.7305</td>\n",
       "      <td>Credit card</td>\n",
       "      <td>46.41</td>\n",
       "      <td>2.3205</td>\n",
       "      <td>4.0</td>\n",
       "      <td>True</td>\n",
       "      <td>20</td>\n",
       "      <td>6</td>\n",
       "      <td>3</td>\n",
       "      <td>3</td>\n",
       "    </tr>\n",
       "    <tr>\n",
       "      <th>379</th>\n",
       "      <td>B</td>\n",
       "      <td>Mandalay</td>\n",
       "      <td>Normal</td>\n",
       "      <td>Female</td>\n",
       "      <td>23.65</td>\n",
       "      <td>4</td>\n",
       "      <td>4.7300</td>\n",
       "      <td>99.3300</td>\n",
       "      <td>Credit card</td>\n",
       "      <td>94.60</td>\n",
       "      <td>4.7300</td>\n",
       "      <td>4.0</td>\n",
       "      <td>False</td>\n",
       "      <td>13</td>\n",
       "      <td>32</td>\n",
       "      <td>30</td>\n",
       "      <td>1</td>\n",
       "    </tr>\n",
       "    <tr>\n",
       "      <th>328</th>\n",
       "      <td>B</td>\n",
       "      <td>Mandalay</td>\n",
       "      <td>Member</td>\n",
       "      <td>Male</td>\n",
       "      <td>51.13</td>\n",
       "      <td>4</td>\n",
       "      <td>10.2260</td>\n",
       "      <td>214.7460</td>\n",
       "      <td>Credit card</td>\n",
       "      <td>204.52</td>\n",
       "      <td>10.2260</td>\n",
       "      <td>4.0</td>\n",
       "      <td>False</td>\n",
       "      <td>10</td>\n",
       "      <td>11</td>\n",
       "      <td>25</td>\n",
       "      <td>1</td>\n",
       "    </tr>\n",
       "    <tr>\n",
       "      <th>643</th>\n",
       "      <td>C</td>\n",
       "      <td>Naypyitaw</td>\n",
       "      <td>Member</td>\n",
       "      <td>Female</td>\n",
       "      <td>72.52</td>\n",
       "      <td>8</td>\n",
       "      <td>29.0080</td>\n",
       "      <td>609.1680</td>\n",
       "      <td>Credit card</td>\n",
       "      <td>580.16</td>\n",
       "      <td>29.0080</td>\n",
       "      <td>4.0</td>\n",
       "      <td>False</td>\n",
       "      <td>19</td>\n",
       "      <td>26</td>\n",
       "      <td>30</td>\n",
       "      <td>3</td>\n",
       "    </tr>\n",
       "  </tbody>\n",
       "</table>\n",
       "</div>"
      ],
      "text/plain": [
       "    Branch       City Customer type  Gender  Unit price  Quantity   Tax 5%  \\\n",
       "848      C  Naypyitaw        Member  Female       72.88         9  32.7960   \n",
       "672      B   Mandalay        Normal  Female       73.41         3  11.0115   \n",
       "72       B   Mandalay        Member  Female       48.52         3   7.2780   \n",
       "618      A     Yangon        Member    Male       98.53         6  29.5590   \n",
       "876      C  Naypyitaw        Member    Male       52.35         1   2.6175   \n",
       "85       C  Naypyitaw        Normal  Female       83.06         7  29.0710   \n",
       "790      A     Yangon        Normal    Male       46.41         1   2.3205   \n",
       "379      B   Mandalay        Normal  Female       23.65         4   4.7300   \n",
       "328      B   Mandalay        Member    Male       51.13         4  10.2260   \n",
       "643      C  Naypyitaw        Member  Female       72.52         8  29.0080   \n",
       "\n",
       "        Total      Payment    cogs  gross income  Rating  IsFashion  Hour  \\\n",
       "848  688.7160         Cash  655.92       32.7960     4.0      False    19   \n",
       "672  231.2415      Ewallet  220.23       11.0115     4.0      False    13   \n",
       "72   152.8380      Ewallet  145.56        7.2780     4.0      False    18   \n",
       "618  620.7390  Credit card  591.18       29.5590     4.0      False    11   \n",
       "876   54.9675         Cash   52.35        2.6175     4.0       True    17   \n",
       "85   610.4910      Ewallet  581.42       29.0710     4.0      False    14   \n",
       "790   48.7305  Credit card   46.41        2.3205     4.0       True    20   \n",
       "379   99.3300  Credit card   94.60        4.7300     4.0      False    13   \n",
       "328  214.7460  Credit card  204.52       10.2260     4.0      False    10   \n",
       "643  609.1680  Credit card  580.16       29.0080     4.0      False    19   \n",
       "\n",
       "     Minute  Day  Month  \n",
       "848      38    8      1  \n",
       "672      10    2      3  \n",
       "72       17    5      3  \n",
       "618      22   23      1  \n",
       "876      49   12      2  \n",
       "85       31    5      3  \n",
       "790       6    3      3  \n",
       "379      32   30      1  \n",
       "328      11   25      1  \n",
       "643      26   30      3  "
      ]
     },
     "execution_count": 39,
     "metadata": {},
     "output_type": "execute_result"
    }
   ],
   "source": [
    "d2=df.sort_values(by='Rating',ascending = True)\n",
    "d2.head(10)"
   ]
  },
  {
   "cell_type": "markdown",
   "id": "e6eb1b9c",
   "metadata": {},
   "source": [
    "### BOXPLOT"
   ]
  },
  {
   "cell_type": "code",
   "execution_count": 40,
   "id": "f64915c1",
   "metadata": {},
   "outputs": [
    {
     "data": {
      "text/html": [
       "<div>\n",
       "<style scoped>\n",
       "    .dataframe tbody tr th:only-of-type {\n",
       "        vertical-align: middle;\n",
       "    }\n",
       "\n",
       "    .dataframe tbody tr th {\n",
       "        vertical-align: top;\n",
       "    }\n",
       "\n",
       "    .dataframe thead th {\n",
       "        text-align: right;\n",
       "    }\n",
       "</style>\n",
       "<table border=\"1\" class=\"dataframe\">\n",
       "  <thead>\n",
       "    <tr style=\"text-align: right;\">\n",
       "      <th></th>\n",
       "      <th>Unit price</th>\n",
       "      <th>Quantity</th>\n",
       "      <th>Tax 5%</th>\n",
       "      <th>Total</th>\n",
       "      <th>cogs</th>\n",
       "      <th>gross income</th>\n",
       "      <th>Rating</th>\n",
       "      <th>Hour</th>\n",
       "      <th>Minute</th>\n",
       "      <th>Day</th>\n",
       "      <th>Month</th>\n",
       "    </tr>\n",
       "  </thead>\n",
       "  <tbody>\n",
       "    <tr>\n",
       "      <th>count</th>\n",
       "      <td>1000.000000</td>\n",
       "      <td>1000.000000</td>\n",
       "      <td>1000.000000</td>\n",
       "      <td>1000.000000</td>\n",
       "      <td>1000.00000</td>\n",
       "      <td>1000.000000</td>\n",
       "      <td>1000.00000</td>\n",
       "      <td>1000.000000</td>\n",
       "      <td>1000.00000</td>\n",
       "      <td>1000.000000</td>\n",
       "      <td>1000.000000</td>\n",
       "    </tr>\n",
       "    <tr>\n",
       "      <th>mean</th>\n",
       "      <td>55.672130</td>\n",
       "      <td>5.510000</td>\n",
       "      <td>15.379369</td>\n",
       "      <td>322.966749</td>\n",
       "      <td>307.58738</td>\n",
       "      <td>15.379369</td>\n",
       "      <td>6.97270</td>\n",
       "      <td>14.910000</td>\n",
       "      <td>30.09800</td>\n",
       "      <td>15.256000</td>\n",
       "      <td>1.993000</td>\n",
       "    </tr>\n",
       "    <tr>\n",
       "      <th>std</th>\n",
       "      <td>26.494628</td>\n",
       "      <td>2.923431</td>\n",
       "      <td>11.708825</td>\n",
       "      <td>245.885335</td>\n",
       "      <td>234.17651</td>\n",
       "      <td>11.708825</td>\n",
       "      <td>1.71858</td>\n",
       "      <td>3.186857</td>\n",
       "      <td>16.88068</td>\n",
       "      <td>8.693563</td>\n",
       "      <td>0.835254</td>\n",
       "    </tr>\n",
       "    <tr>\n",
       "      <th>min</th>\n",
       "      <td>10.080000</td>\n",
       "      <td>1.000000</td>\n",
       "      <td>0.508500</td>\n",
       "      <td>10.678500</td>\n",
       "      <td>10.17000</td>\n",
       "      <td>0.508500</td>\n",
       "      <td>4.00000</td>\n",
       "      <td>10.000000</td>\n",
       "      <td>0.00000</td>\n",
       "      <td>1.000000</td>\n",
       "      <td>1.000000</td>\n",
       "    </tr>\n",
       "    <tr>\n",
       "      <th>25%</th>\n",
       "      <td>32.875000</td>\n",
       "      <td>3.000000</td>\n",
       "      <td>5.924875</td>\n",
       "      <td>124.422375</td>\n",
       "      <td>118.49750</td>\n",
       "      <td>5.924875</td>\n",
       "      <td>5.50000</td>\n",
       "      <td>12.000000</td>\n",
       "      <td>16.00000</td>\n",
       "      <td>8.000000</td>\n",
       "      <td>1.000000</td>\n",
       "    </tr>\n",
       "    <tr>\n",
       "      <th>50%</th>\n",
       "      <td>55.230000</td>\n",
       "      <td>5.000000</td>\n",
       "      <td>12.088000</td>\n",
       "      <td>253.848000</td>\n",
       "      <td>241.76000</td>\n",
       "      <td>12.088000</td>\n",
       "      <td>7.00000</td>\n",
       "      <td>15.000000</td>\n",
       "      <td>30.00000</td>\n",
       "      <td>15.000000</td>\n",
       "      <td>2.000000</td>\n",
       "    </tr>\n",
       "    <tr>\n",
       "      <th>75%</th>\n",
       "      <td>77.935000</td>\n",
       "      <td>8.000000</td>\n",
       "      <td>22.445250</td>\n",
       "      <td>471.350250</td>\n",
       "      <td>448.90500</td>\n",
       "      <td>22.445250</td>\n",
       "      <td>8.50000</td>\n",
       "      <td>18.000000</td>\n",
       "      <td>44.00000</td>\n",
       "      <td>23.000000</td>\n",
       "      <td>3.000000</td>\n",
       "    </tr>\n",
       "    <tr>\n",
       "      <th>max</th>\n",
       "      <td>99.960000</td>\n",
       "      <td>10.000000</td>\n",
       "      <td>49.650000</td>\n",
       "      <td>1042.650000</td>\n",
       "      <td>993.00000</td>\n",
       "      <td>49.650000</td>\n",
       "      <td>10.00000</td>\n",
       "      <td>20.000000</td>\n",
       "      <td>59.00000</td>\n",
       "      <td>31.000000</td>\n",
       "      <td>3.000000</td>\n",
       "    </tr>\n",
       "  </tbody>\n",
       "</table>\n",
       "</div>"
      ],
      "text/plain": [
       "        Unit price     Quantity       Tax 5%        Total        cogs  \\\n",
       "count  1000.000000  1000.000000  1000.000000  1000.000000  1000.00000   \n",
       "mean     55.672130     5.510000    15.379369   322.966749   307.58738   \n",
       "std      26.494628     2.923431    11.708825   245.885335   234.17651   \n",
       "min      10.080000     1.000000     0.508500    10.678500    10.17000   \n",
       "25%      32.875000     3.000000     5.924875   124.422375   118.49750   \n",
       "50%      55.230000     5.000000    12.088000   253.848000   241.76000   \n",
       "75%      77.935000     8.000000    22.445250   471.350250   448.90500   \n",
       "max      99.960000    10.000000    49.650000  1042.650000   993.00000   \n",
       "\n",
       "       gross income      Rating         Hour      Minute          Day  \\\n",
       "count   1000.000000  1000.00000  1000.000000  1000.00000  1000.000000   \n",
       "mean      15.379369     6.97270    14.910000    30.09800    15.256000   \n",
       "std       11.708825     1.71858     3.186857    16.88068     8.693563   \n",
       "min        0.508500     4.00000    10.000000     0.00000     1.000000   \n",
       "25%        5.924875     5.50000    12.000000    16.00000     8.000000   \n",
       "50%       12.088000     7.00000    15.000000    30.00000    15.000000   \n",
       "75%       22.445250     8.50000    18.000000    44.00000    23.000000   \n",
       "max       49.650000    10.00000    20.000000    59.00000    31.000000   \n",
       "\n",
       "             Month  \n",
       "count  1000.000000  \n",
       "mean      1.993000  \n",
       "std       0.835254  \n",
       "min       1.000000  \n",
       "25%       1.000000  \n",
       "50%       2.000000  \n",
       "75%       3.000000  \n",
       "max       3.000000  "
      ]
     },
     "execution_count": 40,
     "metadata": {},
     "output_type": "execute_result"
    }
   ],
   "source": [
    "df.describe()"
   ]
  },
  {
   "cell_type": "code",
   "execution_count": 41,
   "id": "fe9e9651",
   "metadata": {},
   "outputs": [
    {
     "data": {
      "image/png": "[encoded data removed]",
      "text/plain": [
       "<Figure size 2880x2304 with 11 Axes>"
      ]
     },
     "metadata": {
      "needs_background": "light"
     },
     "output_type": "display_data"
    }
   ],
   "source": [
    "def outliers(df):\n",
    "    num_col = df.select_dtypes(['float64','int64']).columns\n",
    "    Ncol = len(num_col)//3+1\n",
    "\n",
    "    fig, ax = plt.subplots(Ncol,3,figsize=(40,8*Ncol))\n",
    "    for i, col in enumerate(num_col):\n",
    "        sns.boxplot(data=df,x=col,ax=ax[i//3][i%3])\n",
    "\n",
    "    for i in range(len(num_col),3*Ncol):\n",
    "        fig.delaxes(ax[i//3][i%3])\n",
    "\n",
    "    plt.show()\n",
    "    \n",
    "outliers(df)"
   ]
  },
  {
   "cell_type": "markdown",
   "id": "7cc34ece",
   "metadata": {},
   "source": [
    "From the graphs above, we can see that Tax 5%, cogs, Total and gross income have outliers. So now I will remove outlier."
   ]
  },
  {
   "cell_type": "markdown",
   "id": "a76e75ce",
   "metadata": {},
   "source": [
    "### Remove outliers"
   ]
  },
  {
   "cell_type": "code",
   "execution_count": 42,
   "id": "0f3f4058",
   "metadata": {},
   "outputs": [
    {
     "data": {
      "image/png": "[encoded data removed]",
      "text/plain": [
       "<Figure size 2880x2304 with 11 Axes>"
      ]
     },
     "metadata": {
      "needs_background": "light"
     },
     "output_type": "display_data"
    }
   ],
   "source": [
    "def remove_outlier(df, col_name):\n",
    "    q = df[col_name].quantile([0.25,0.50,0.75])\n",
    "    IQR = q[0.75]-q[0.25]\n",
    "    lower = q[0.50]-1.5*IQR\n",
    "    upper = q[0.50]+1.5*IQR\n",
    "    return df[(df[col_name]>=lower) & (df[col_name]<=upper)]\n",
    "\n",
    "df = remove_outlier(df,'Tax 5%')\n",
    "df = remove_outlier(df,'cogs')\n",
    "df = remove_outlier(df,'Total')\n",
    "df = remove_outlier(df,'gross income')\n",
    "outliers(df)"
   ]
  },
  {
   "cell_type": "code",
   "execution_count": 43,
   "id": "b6b9a183",
   "metadata": {},
   "outputs": [],
   "source": [
    "df = df.drop(columns='IsFashion')"
   ]
  },
  {
   "cell_type": "code",
   "execution_count": 44,
   "id": "258f2913",
   "metadata": {},
   "outputs": [
    {
     "data": {
      "text/html": [
       "<div>\n",
       "<style scoped>\n",
       "    .dataframe tbody tr th:only-of-type {\n",
       "        vertical-align: middle;\n",
       "    }\n",
       "\n",
       "    .dataframe tbody tr th {\n",
       "        vertical-align: top;\n",
       "    }\n",
       "\n",
       "    .dataframe thead th {\n",
       "        text-align: right;\n",
       "    }\n",
       "</style>\n",
       "<table border=\"1\" class=\"dataframe\">\n",
       "  <thead>\n",
       "    <tr style=\"text-align: right;\">\n",
       "      <th></th>\n",
       "      <th>Branch</th>\n",
       "      <th>City</th>\n",
       "      <th>Customer type</th>\n",
       "      <th>Gender</th>\n",
       "      <th>Unit price</th>\n",
       "      <th>Quantity</th>\n",
       "      <th>Tax 5%</th>\n",
       "      <th>Total</th>\n",
       "      <th>Payment</th>\n",
       "      <th>cogs</th>\n",
       "      <th>gross income</th>\n",
       "      <th>Rating</th>\n",
       "      <th>Hour</th>\n",
       "      <th>Minute</th>\n",
       "      <th>Day</th>\n",
       "      <th>Month</th>\n",
       "    </tr>\n",
       "  </thead>\n",
       "  <tbody>\n",
       "    <tr>\n",
       "      <th>0</th>\n",
       "      <td>A</td>\n",
       "      <td>Yangon</td>\n",
       "      <td>Member</td>\n",
       "      <td>Female</td>\n",
       "      <td>74.69</td>\n",
       "      <td>7</td>\n",
       "      <td>26.1415</td>\n",
       "      <td>548.9715</td>\n",
       "      <td>Ewallet</td>\n",
       "      <td>522.83</td>\n",
       "      <td>26.1415</td>\n",
       "      <td>9.1</td>\n",
       "      <td>13</td>\n",
       "      <td>8</td>\n",
       "      <td>5</td>\n",
       "      <td>1</td>\n",
       "    </tr>\n",
       "    <tr>\n",
       "      <th>1</th>\n",
       "      <td>C</td>\n",
       "      <td>Naypyitaw</td>\n",
       "      <td>Normal</td>\n",
       "      <td>Female</td>\n",
       "      <td>15.28</td>\n",
       "      <td>5</td>\n",
       "      <td>3.8200</td>\n",
       "      <td>80.2200</td>\n",
       "      <td>Cash</td>\n",
       "      <td>76.40</td>\n",
       "      <td>3.8200</td>\n",
       "      <td>9.6</td>\n",
       "      <td>10</td>\n",
       "      <td>29</td>\n",
       "      <td>8</td>\n",
       "      <td>3</td>\n",
       "    </tr>\n",
       "    <tr>\n",
       "      <th>2</th>\n",
       "      <td>A</td>\n",
       "      <td>Yangon</td>\n",
       "      <td>Normal</td>\n",
       "      <td>Male</td>\n",
       "      <td>46.33</td>\n",
       "      <td>7</td>\n",
       "      <td>16.2155</td>\n",
       "      <td>340.5255</td>\n",
       "      <td>Credit card</td>\n",
       "      <td>324.31</td>\n",
       "      <td>16.2155</td>\n",
       "      <td>7.4</td>\n",
       "      <td>13</td>\n",
       "      <td>23</td>\n",
       "      <td>3</td>\n",
       "      <td>3</td>\n",
       "    </tr>\n",
       "    <tr>\n",
       "      <th>3</th>\n",
       "      <td>A</td>\n",
       "      <td>Yangon</td>\n",
       "      <td>Member</td>\n",
       "      <td>Male</td>\n",
       "      <td>58.22</td>\n",
       "      <td>8</td>\n",
       "      <td>23.2880</td>\n",
       "      <td>489.0480</td>\n",
       "      <td>Ewallet</td>\n",
       "      <td>465.76</td>\n",
       "      <td>23.2880</td>\n",
       "      <td>8.4</td>\n",
       "      <td>20</td>\n",
       "      <td>33</td>\n",
       "      <td>27</td>\n",
       "      <td>1</td>\n",
       "    </tr>\n",
       "    <tr>\n",
       "      <th>6</th>\n",
       "      <td>A</td>\n",
       "      <td>Yangon</td>\n",
       "      <td>Member</td>\n",
       "      <td>Female</td>\n",
       "      <td>68.84</td>\n",
       "      <td>6</td>\n",
       "      <td>20.6520</td>\n",
       "      <td>433.6920</td>\n",
       "      <td>Ewallet</td>\n",
       "      <td>413.04</td>\n",
       "      <td>20.6520</td>\n",
       "      <td>5.8</td>\n",
       "      <td>14</td>\n",
       "      <td>36</td>\n",
       "      <td>25</td>\n",
       "      <td>2</td>\n",
       "    </tr>\n",
       "    <tr>\n",
       "      <th>...</th>\n",
       "      <td>...</td>\n",
       "      <td>...</td>\n",
       "      <td>...</td>\n",
       "      <td>...</td>\n",
       "      <td>...</td>\n",
       "      <td>...</td>\n",
       "      <td>...</td>\n",
       "      <td>...</td>\n",
       "      <td>...</td>\n",
       "      <td>...</td>\n",
       "      <td>...</td>\n",
       "      <td>...</td>\n",
       "      <td>...</td>\n",
       "      <td>...</td>\n",
       "      <td>...</td>\n",
       "      <td>...</td>\n",
       "    </tr>\n",
       "    <tr>\n",
       "      <th>993</th>\n",
       "      <td>B</td>\n",
       "      <td>Mandalay</td>\n",
       "      <td>Normal</td>\n",
       "      <td>Male</td>\n",
       "      <td>17.49</td>\n",
       "      <td>10</td>\n",
       "      <td>8.7450</td>\n",
       "      <td>183.6450</td>\n",
       "      <td>Ewallet</td>\n",
       "      <td>174.90</td>\n",
       "      <td>8.7450</td>\n",
       "      <td>6.6</td>\n",
       "      <td>18</td>\n",
       "      <td>35</td>\n",
       "      <td>22</td>\n",
       "      <td>2</td>\n",
       "    </tr>\n",
       "    <tr>\n",
       "      <th>994</th>\n",
       "      <td>C</td>\n",
       "      <td>Naypyitaw</td>\n",
       "      <td>Member</td>\n",
       "      <td>Female</td>\n",
       "      <td>60.95</td>\n",
       "      <td>1</td>\n",
       "      <td>3.0475</td>\n",
       "      <td>63.9975</td>\n",
       "      <td>Ewallet</td>\n",
       "      <td>60.95</td>\n",
       "      <td>3.0475</td>\n",
       "      <td>5.9</td>\n",
       "      <td>11</td>\n",
       "      <td>40</td>\n",
       "      <td>18</td>\n",
       "      <td>2</td>\n",
       "    </tr>\n",
       "    <tr>\n",
       "      <th>995</th>\n",
       "      <td>C</td>\n",
       "      <td>Naypyitaw</td>\n",
       "      <td>Normal</td>\n",
       "      <td>Male</td>\n",
       "      <td>40.35</td>\n",
       "      <td>1</td>\n",
       "      <td>2.0175</td>\n",
       "      <td>42.3675</td>\n",
       "      <td>Ewallet</td>\n",
       "      <td>40.35</td>\n",
       "      <td>2.0175</td>\n",
       "      <td>6.2</td>\n",
       "      <td>13</td>\n",
       "      <td>46</td>\n",
       "      <td>29</td>\n",
       "      <td>1</td>\n",
       "    </tr>\n",
       "    <tr>\n",
       "      <th>997</th>\n",
       "      <td>A</td>\n",
       "      <td>Yangon</td>\n",
       "      <td>Member</td>\n",
       "      <td>Male</td>\n",
       "      <td>31.84</td>\n",
       "      <td>1</td>\n",
       "      <td>1.5920</td>\n",
       "      <td>33.4320</td>\n",
       "      <td>Cash</td>\n",
       "      <td>31.84</td>\n",
       "      <td>1.5920</td>\n",
       "      <td>7.7</td>\n",
       "      <td>13</td>\n",
       "      <td>22</td>\n",
       "      <td>9</td>\n",
       "      <td>2</td>\n",
       "    </tr>\n",
       "    <tr>\n",
       "      <th>998</th>\n",
       "      <td>A</td>\n",
       "      <td>Yangon</td>\n",
       "      <td>Normal</td>\n",
       "      <td>Male</td>\n",
       "      <td>65.82</td>\n",
       "      <td>1</td>\n",
       "      <td>3.2910</td>\n",
       "      <td>69.1110</td>\n",
       "      <td>Cash</td>\n",
       "      <td>65.82</td>\n",
       "      <td>3.2910</td>\n",
       "      <td>4.1</td>\n",
       "      <td>15</td>\n",
       "      <td>33</td>\n",
       "      <td>22</td>\n",
       "      <td>2</td>\n",
       "    </tr>\n",
       "  </tbody>\n",
       "</table>\n",
       "<p>846 rows × 16 columns</p>\n",
       "</div>"
      ],
      "text/plain": [
       "    Branch       City Customer type  Gender  Unit price  Quantity   Tax 5%  \\\n",
       "0        A     Yangon        Member  Female       74.69         7  26.1415   \n",
       "1        C  Naypyitaw        Normal  Female       15.28         5   3.8200   \n",
       "2        A     Yangon        Normal    Male       46.33         7  16.2155   \n",
       "3        A     Yangon        Member    Male       58.22         8  23.2880   \n",
       "6        A     Yangon        Member  Female       68.84         6  20.6520   \n",
       "..     ...        ...           ...     ...         ...       ...      ...   \n",
       "993      B   Mandalay        Normal    Male       17.49        10   8.7450   \n",
       "994      C  Naypyitaw        Member  Female       60.95         1   3.0475   \n",
       "995      C  Naypyitaw        Normal    Male       40.35         1   2.0175   \n",
       "997      A     Yangon        Member    Male       31.84         1   1.5920   \n",
       "998      A     Yangon        Normal    Male       65.82         1   3.2910   \n",
       "\n",
       "        Total      Payment    cogs  gross income  Rating  Hour  Minute  Day  \\\n",
       "0    548.9715      Ewallet  522.83       26.1415     9.1    13       8    5   \n",
       "1     80.2200         Cash   76.40        3.8200     9.6    10      29    8   \n",
       "2    340.5255  Credit card  324.31       16.2155     7.4    13      23    3   \n",
       "3    489.0480      Ewallet  465.76       23.2880     8.4    20      33   27   \n",
       "6    433.6920      Ewallet  413.04       20.6520     5.8    14      36   25   \n",
       "..        ...          ...     ...           ...     ...   ...     ...  ...   \n",
       "993  183.6450      Ewallet  174.90        8.7450     6.6    18      35   22   \n",
       "994   63.9975      Ewallet   60.95        3.0475     5.9    11      40   18   \n",
       "995   42.3675      Ewallet   40.35        2.0175     6.2    13      46   29   \n",
       "997   33.4320         Cash   31.84        1.5920     7.7    13      22    9   \n",
       "998   69.1110         Cash   65.82        3.2910     4.1    15      33   22   \n",
       "\n",
       "     Month  \n",
       "0        1  \n",
       "1        3  \n",
       "2        3  \n",
       "3        1  \n",
       "6        2  \n",
       "..     ...  \n",
       "993      2  \n",
       "994      2  \n",
       "995      1  \n",
       "997      2  \n",
       "998      2  \n",
       "\n",
       "[846 rows x 16 columns]"
      ]
     },
     "execution_count": 44,
     "metadata": {},
     "output_type": "execute_result"
    }
   ],
   "source": [
    "df"
   ]
  },
  {
   "cell_type": "code",
   "execution_count": 45,
   "id": "2259c6b2",
   "metadata": {},
   "outputs": [
    {
     "data": {
      "image/png": "[encoded data removed]",
      "text/plain": [
       "<Figure size 1080x864 with 2 Axes>"
      ]
     },
     "metadata": {
      "needs_background": "light"
     },
     "output_type": "display_data"
    }
   ],
   "source": [
    "corr = df.corr(method='pearson')\n",
    "plt.figure(figsize=(15,12))\n",
    "sns.heatmap(corr,annot=True,cmap='YlGnBu')\n",
    "plt.show()"
   ]
  },
  {
   "cell_type": "code",
   "execution_count": 46,
   "id": "c755ea7d",
   "metadata": {},
   "outputs": [
    {
     "data": {
      "text/plain": [
       "<Figure size 720x576 with 0 Axes>"
      ]
     },
     "metadata": {},
     "output_type": "display_data"
    },
    {
     "data": {
      "image/png": "[encoded data removed]",
      "text/plain": [
       "<Figure size 720x720 with 20 Axes>"
      ]
     },
     "metadata": {
      "needs_background": "light"
     },
     "output_type": "display_data"
    }
   ],
   "source": [
    "plt.figure(figsize=(10,8))\n",
    "sns.pairplot(data=df,vars=['Total','cogs','gross income','Tax 5%'])\n",
    "plt.show()"
   ]
  },
  {
   "cell_type": "markdown",
   "id": "a60c0e5f",
   "metadata": {},
   "source": [
    "From the heatmap above, we can see that the Total, cogs, Tax 5%, gross income are perfectly correlated. This is very considerable, so let drop 3 of 4 attributes above (I choose cogs, gross income and Tax 5%)."
   ]
  },
  {
   "cell_type": "code",
   "execution_count": 47,
   "id": "02bd02f8",
   "metadata": {},
   "outputs": [
    {
     "data": {
      "text/html": [
       "<div>\n",
       "<style scoped>\n",
       "    .dataframe tbody tr th:only-of-type {\n",
       "        vertical-align: middle;\n",
       "    }\n",
       "\n",
       "    .dataframe tbody tr th {\n",
       "        vertical-align: top;\n",
       "    }\n",
       "\n",
       "    .dataframe thead th {\n",
       "        text-align: right;\n",
       "    }\n",
       "</style>\n",
       "<table border=\"1\" class=\"dataframe\">\n",
       "  <thead>\n",
       "    <tr style=\"text-align: right;\">\n",
       "      <th></th>\n",
       "      <th>Branch</th>\n",
       "      <th>City</th>\n",
       "      <th>Customer type</th>\n",
       "      <th>Gender</th>\n",
       "      <th>Unit price</th>\n",
       "      <th>Quantity</th>\n",
       "      <th>Total</th>\n",
       "      <th>Payment</th>\n",
       "      <th>Rating</th>\n",
       "      <th>Hour</th>\n",
       "      <th>Minute</th>\n",
       "      <th>Day</th>\n",
       "      <th>Month</th>\n",
       "    </tr>\n",
       "  </thead>\n",
       "  <tbody>\n",
       "    <tr>\n",
       "      <th>0</th>\n",
       "      <td>A</td>\n",
       "      <td>Yangon</td>\n",
       "      <td>Member</td>\n",
       "      <td>Female</td>\n",
       "      <td>74.69</td>\n",
       "      <td>7</td>\n",
       "      <td>548.9715</td>\n",
       "      <td>Ewallet</td>\n",
       "      <td>9.1</td>\n",
       "      <td>13</td>\n",
       "      <td>8</td>\n",
       "      <td>5</td>\n",
       "      <td>1</td>\n",
       "    </tr>\n",
       "    <tr>\n",
       "      <th>1</th>\n",
       "      <td>C</td>\n",
       "      <td>Naypyitaw</td>\n",
       "      <td>Normal</td>\n",
       "      <td>Female</td>\n",
       "      <td>15.28</td>\n",
       "      <td>5</td>\n",
       "      <td>80.2200</td>\n",
       "      <td>Cash</td>\n",
       "      <td>9.6</td>\n",
       "      <td>10</td>\n",
       "      <td>29</td>\n",
       "      <td>8</td>\n",
       "      <td>3</td>\n",
       "    </tr>\n",
       "    <tr>\n",
       "      <th>2</th>\n",
       "      <td>A</td>\n",
       "      <td>Yangon</td>\n",
       "      <td>Normal</td>\n",
       "      <td>Male</td>\n",
       "      <td>46.33</td>\n",
       "      <td>7</td>\n",
       "      <td>340.5255</td>\n",
       "      <td>Credit card</td>\n",
       "      <td>7.4</td>\n",
       "      <td>13</td>\n",
       "      <td>23</td>\n",
       "      <td>3</td>\n",
       "      <td>3</td>\n",
       "    </tr>\n",
       "    <tr>\n",
       "      <th>3</th>\n",
       "      <td>A</td>\n",
       "      <td>Yangon</td>\n",
       "      <td>Member</td>\n",
       "      <td>Male</td>\n",
       "      <td>58.22</td>\n",
       "      <td>8</td>\n",
       "      <td>489.0480</td>\n",
       "      <td>Ewallet</td>\n",
       "      <td>8.4</td>\n",
       "      <td>20</td>\n",
       "      <td>33</td>\n",
       "      <td>27</td>\n",
       "      <td>1</td>\n",
       "    </tr>\n",
       "    <tr>\n",
       "      <th>6</th>\n",
       "      <td>A</td>\n",
       "      <td>Yangon</td>\n",
       "      <td>Member</td>\n",
       "      <td>Female</td>\n",
       "      <td>68.84</td>\n",
       "      <td>6</td>\n",
       "      <td>433.6920</td>\n",
       "      <td>Ewallet</td>\n",
       "      <td>5.8</td>\n",
       "      <td>14</td>\n",
       "      <td>36</td>\n",
       "      <td>25</td>\n",
       "      <td>2</td>\n",
       "    </tr>\n",
       "  </tbody>\n",
       "</table>\n",
       "</div>"
      ],
      "text/plain": [
       "  Branch       City Customer type  Gender  Unit price  Quantity     Total  \\\n",
       "0      A     Yangon        Member  Female       74.69         7  548.9715   \n",
       "1      C  Naypyitaw        Normal  Female       15.28         5   80.2200   \n",
       "2      A     Yangon        Normal    Male       46.33         7  340.5255   \n",
       "3      A     Yangon        Member    Male       58.22         8  489.0480   \n",
       "6      A     Yangon        Member  Female       68.84         6  433.6920   \n",
       "\n",
       "       Payment  Rating  Hour  Minute  Day  Month  \n",
       "0      Ewallet     9.1    13       8    5      1  \n",
       "1         Cash     9.6    10      29    8      3  \n",
       "2  Credit card     7.4    13      23    3      3  \n",
       "3      Ewallet     8.4    20      33   27      1  \n",
       "6      Ewallet     5.8    14      36   25      2  "
      ]
     },
     "execution_count": 47,
     "metadata": {},
     "output_type": "execute_result"
    }
   ],
   "source": [
    "df = df.drop(columns=['cogs','gross income','Tax 5%'])\n",
    "df.head()"
   ]
  },
  {
   "cell_type": "markdown",
   "id": "cee35c1e",
   "metadata": {},
   "source": [
    "### Relationship of cities and branches"
   ]
  },
  {
   "cell_type": "code",
   "execution_count": 48,
   "id": "e2eb537f",
   "metadata": {},
   "outputs": [
    {
     "data": {
      "image/png": "[encoded data removed]",
      "text/plain": [
       "<Figure size 720x576 with 1 Axes>"
      ]
     },
     "metadata": {
      "needs_background": "light"
     },
     "output_type": "display_data"
    }
   ],
   "source": [
    "plt.figure(figsize=(10,8))\n",
    "sns.scatterplot(data=df,x='City',y='Branch')\n",
    "plt.show()"
   ]
  },
  {
   "cell_type": "markdown",
   "id": "31ca93ce",
   "metadata": {},
   "source": [
    "As a result, there is also a relationship between city and branch. Each branch is located at a specific city. So, we can also remove 1 of those two (I remove City in this case)."
   ]
  },
  {
   "cell_type": "code",
   "execution_count": 49,
   "id": "72dcc042",
   "metadata": {},
   "outputs": [
    {
     "data": {
      "text/html": [
       "<div>\n",
       "<style scoped>\n",
       "    .dataframe tbody tr th:only-of-type {\n",
       "        vertical-align: middle;\n",
       "    }\n",
       "\n",
       "    .dataframe tbody tr th {\n",
       "        vertical-align: top;\n",
       "    }\n",
       "\n",
       "    .dataframe thead th {\n",
       "        text-align: right;\n",
       "    }\n",
       "</style>\n",
       "<table border=\"1\" class=\"dataframe\">\n",
       "  <thead>\n",
       "    <tr style=\"text-align: right;\">\n",
       "      <th></th>\n",
       "      <th>Branch</th>\n",
       "      <th>Customer type</th>\n",
       "      <th>Gender</th>\n",
       "      <th>Unit price</th>\n",
       "      <th>Quantity</th>\n",
       "      <th>Total</th>\n",
       "      <th>Payment</th>\n",
       "      <th>Rating</th>\n",
       "      <th>Hour</th>\n",
       "      <th>Minute</th>\n",
       "      <th>Day</th>\n",
       "      <th>Month</th>\n",
       "    </tr>\n",
       "  </thead>\n",
       "  <tbody>\n",
       "    <tr>\n",
       "      <th>0</th>\n",
       "      <td>A</td>\n",
       "      <td>Member</td>\n",
       "      <td>Female</td>\n",
       "      <td>74.69</td>\n",
       "      <td>7</td>\n",
       "      <td>548.9715</td>\n",
       "      <td>Ewallet</td>\n",
       "      <td>9.1</td>\n",
       "      <td>13</td>\n",
       "      <td>8</td>\n",
       "      <td>5</td>\n",
       "      <td>1</td>\n",
       "    </tr>\n",
       "    <tr>\n",
       "      <th>1</th>\n",
       "      <td>C</td>\n",
       "      <td>Normal</td>\n",
       "      <td>Female</td>\n",
       "      <td>15.28</td>\n",
       "      <td>5</td>\n",
       "      <td>80.2200</td>\n",
       "      <td>Cash</td>\n",
       "      <td>9.6</td>\n",
       "      <td>10</td>\n",
       "      <td>29</td>\n",
       "      <td>8</td>\n",
       "      <td>3</td>\n",
       "    </tr>\n",
       "    <tr>\n",
       "      <th>2</th>\n",
       "      <td>A</td>\n",
       "      <td>Normal</td>\n",
       "      <td>Male</td>\n",
       "      <td>46.33</td>\n",
       "      <td>7</td>\n",
       "      <td>340.5255</td>\n",
       "      <td>Credit card</td>\n",
       "      <td>7.4</td>\n",
       "      <td>13</td>\n",
       "      <td>23</td>\n",
       "      <td>3</td>\n",
       "      <td>3</td>\n",
       "    </tr>\n",
       "    <tr>\n",
       "      <th>3</th>\n",
       "      <td>A</td>\n",
       "      <td>Member</td>\n",
       "      <td>Male</td>\n",
       "      <td>58.22</td>\n",
       "      <td>8</td>\n",
       "      <td>489.0480</td>\n",
       "      <td>Ewallet</td>\n",
       "      <td>8.4</td>\n",
       "      <td>20</td>\n",
       "      <td>33</td>\n",
       "      <td>27</td>\n",
       "      <td>1</td>\n",
       "    </tr>\n",
       "    <tr>\n",
       "      <th>6</th>\n",
       "      <td>A</td>\n",
       "      <td>Member</td>\n",
       "      <td>Female</td>\n",
       "      <td>68.84</td>\n",
       "      <td>6</td>\n",
       "      <td>433.6920</td>\n",
       "      <td>Ewallet</td>\n",
       "      <td>5.8</td>\n",
       "      <td>14</td>\n",
       "      <td>36</td>\n",
       "      <td>25</td>\n",
       "      <td>2</td>\n",
       "    </tr>\n",
       "  </tbody>\n",
       "</table>\n",
       "</div>"
      ],
      "text/plain": [
       "  Branch Customer type  Gender  Unit price  Quantity     Total      Payment  \\\n",
       "0      A        Member  Female       74.69         7  548.9715      Ewallet   \n",
       "1      C        Normal  Female       15.28         5   80.2200         Cash   \n",
       "2      A        Normal    Male       46.33         7  340.5255  Credit card   \n",
       "3      A        Member    Male       58.22         8  489.0480      Ewallet   \n",
       "6      A        Member  Female       68.84         6  433.6920      Ewallet   \n",
       "\n",
       "   Rating  Hour  Minute  Day  Month  \n",
       "0     9.1    13       8    5      1  \n",
       "1     9.6    10      29    8      3  \n",
       "2     7.4    13      23    3      3  \n",
       "3     8.4    20      33   27      1  \n",
       "6     5.8    14      36   25      2  "
      ]
     },
     "execution_count": 49,
     "metadata": {},
     "output_type": "execute_result"
    }
   ],
   "source": [
    "df = df.drop(columns=\"City\")\n",
    "df.head()"
   ]
  },
  {
   "cell_type": "code",
   "execution_count": 50,
   "id": "a66eebc0",
   "metadata": {},
   "outputs": [
    {
     "name": "stdout",
     "output_type": "stream",
     "text": [
      "<class 'pandas.core.frame.DataFrame'>\n",
      "Int64Index: 846 entries, 0 to 998\n",
      "Data columns (total 12 columns):\n",
      " #   Column         Non-Null Count  Dtype  \n",
      "---  ------         --------------  -----  \n",
      " 0   Branch         846 non-null    object \n",
      " 1   Customer type  846 non-null    object \n",
      " 2   Gender         846 non-null    object \n",
      " 3   Unit price     846 non-null    float64\n",
      " 4   Quantity       846 non-null    int64  \n",
      " 5   Total          846 non-null    float64\n",
      " 6   Payment        846 non-null    object \n",
      " 7   Rating         846 non-null    float64\n",
      " 8   Hour           846 non-null    int64  \n",
      " 9   Minute         846 non-null    int64  \n",
      " 10  Day            846 non-null    int64  \n",
      " 11  Month          846 non-null    int64  \n",
      "dtypes: float64(3), int64(5), object(4)\n",
      "memory usage: 85.9+ KB\n"
     ]
    }
   ],
   "source": [
    "df.info()"
   ]
  },
  {
   "cell_type": "code",
   "execution_count": 51,
   "id": "046d5d81",
   "metadata": {},
   "outputs": [],
   "source": [
    "list_1=list(df.columns)"
   ]
  },
  {
   "cell_type": "code",
   "execution_count": 52,
   "id": "d79e84b6",
   "metadata": {},
   "outputs": [],
   "source": [
    "list_cate=[]\n",
    "for i in list_1: \n",
    "    if df[i].dtype=='object':\n",
    "        list_cate.append(i)"
   ]
  },
  {
   "cell_type": "code",
   "execution_count": 53,
   "id": "65d4f75b",
   "metadata": {},
   "outputs": [],
   "source": [
    "from sklearn.preprocessing import LabelEncoder"
   ]
  },
  {
   "cell_type": "code",
   "execution_count": 54,
   "id": "2b5e5373",
   "metadata": {},
   "outputs": [],
   "source": [
    "le=LabelEncoder()"
   ]
  },
  {
   "cell_type": "code",
   "execution_count": 55,
   "id": "e4270a16",
   "metadata": {},
   "outputs": [],
   "source": [
    "for i in list_cate:\n",
    "    df[i]=le.fit_transform(df[i])"
   ]
  },
  {
   "cell_type": "code",
   "execution_count": 56,
   "id": "0367abfb",
   "metadata": {},
   "outputs": [
    {
     "data": {
      "text/html": [
       "<div>\n",
       "<style scoped>\n",
       "    .dataframe tbody tr th:only-of-type {\n",
       "        vertical-align: middle;\n",
       "    }\n",
       "\n",
       "    .dataframe tbody tr th {\n",
       "        vertical-align: top;\n",
       "    }\n",
       "\n",
       "    .dataframe thead th {\n",
       "        text-align: right;\n",
       "    }\n",
       "</style>\n",
       "<table border=\"1\" class=\"dataframe\">\n",
       "  <thead>\n",
       "    <tr style=\"text-align: right;\">\n",
       "      <th></th>\n",
       "      <th>Branch</th>\n",
       "      <th>Customer type</th>\n",
       "      <th>Gender</th>\n",
       "      <th>Unit price</th>\n",
       "      <th>Quantity</th>\n",
       "      <th>Total</th>\n",
       "      <th>Payment</th>\n",
       "      <th>Rating</th>\n",
       "      <th>Hour</th>\n",
       "      <th>Minute</th>\n",
       "      <th>Day</th>\n",
       "      <th>Month</th>\n",
       "    </tr>\n",
       "  </thead>\n",
       "  <tbody>\n",
       "    <tr>\n",
       "      <th>0</th>\n",
       "      <td>0</td>\n",
       "      <td>0</td>\n",
       "      <td>0</td>\n",
       "      <td>74.69</td>\n",
       "      <td>7</td>\n",
       "      <td>548.9715</td>\n",
       "      <td>2</td>\n",
       "      <td>9.1</td>\n",
       "      <td>13</td>\n",
       "      <td>8</td>\n",
       "      <td>5</td>\n",
       "      <td>1</td>\n",
       "    </tr>\n",
       "    <tr>\n",
       "      <th>1</th>\n",
       "      <td>2</td>\n",
       "      <td>1</td>\n",
       "      <td>0</td>\n",
       "      <td>15.28</td>\n",
       "      <td>5</td>\n",
       "      <td>80.2200</td>\n",
       "      <td>0</td>\n",
       "      <td>9.6</td>\n",
       "      <td>10</td>\n",
       "      <td>29</td>\n",
       "      <td>8</td>\n",
       "      <td>3</td>\n",
       "    </tr>\n",
       "    <tr>\n",
       "      <th>2</th>\n",
       "      <td>0</td>\n",
       "      <td>1</td>\n",
       "      <td>1</td>\n",
       "      <td>46.33</td>\n",
       "      <td>7</td>\n",
       "      <td>340.5255</td>\n",
       "      <td>1</td>\n",
       "      <td>7.4</td>\n",
       "      <td>13</td>\n",
       "      <td>23</td>\n",
       "      <td>3</td>\n",
       "      <td>3</td>\n",
       "    </tr>\n",
       "    <tr>\n",
       "      <th>3</th>\n",
       "      <td>0</td>\n",
       "      <td>0</td>\n",
       "      <td>1</td>\n",
       "      <td>58.22</td>\n",
       "      <td>8</td>\n",
       "      <td>489.0480</td>\n",
       "      <td>2</td>\n",
       "      <td>8.4</td>\n",
       "      <td>20</td>\n",
       "      <td>33</td>\n",
       "      <td>27</td>\n",
       "      <td>1</td>\n",
       "    </tr>\n",
       "    <tr>\n",
       "      <th>6</th>\n",
       "      <td>0</td>\n",
       "      <td>0</td>\n",
       "      <td>0</td>\n",
       "      <td>68.84</td>\n",
       "      <td>6</td>\n",
       "      <td>433.6920</td>\n",
       "      <td>2</td>\n",
       "      <td>5.8</td>\n",
       "      <td>14</td>\n",
       "      <td>36</td>\n",
       "      <td>25</td>\n",
       "      <td>2</td>\n",
       "    </tr>\n",
       "    <tr>\n",
       "      <th>...</th>\n",
       "      <td>...</td>\n",
       "      <td>...</td>\n",
       "      <td>...</td>\n",
       "      <td>...</td>\n",
       "      <td>...</td>\n",
       "      <td>...</td>\n",
       "      <td>...</td>\n",
       "      <td>...</td>\n",
       "      <td>...</td>\n",
       "      <td>...</td>\n",
       "      <td>...</td>\n",
       "      <td>...</td>\n",
       "    </tr>\n",
       "    <tr>\n",
       "      <th>993</th>\n",
       "      <td>1</td>\n",
       "      <td>1</td>\n",
       "      <td>1</td>\n",
       "      <td>17.49</td>\n",
       "      <td>10</td>\n",
       "      <td>183.6450</td>\n",
       "      <td>2</td>\n",
       "      <td>6.6</td>\n",
       "      <td>18</td>\n",
       "      <td>35</td>\n",
       "      <td>22</td>\n",
       "      <td>2</td>\n",
       "    </tr>\n",
       "    <tr>\n",
       "      <th>994</th>\n",
       "      <td>2</td>\n",
       "      <td>0</td>\n",
       "      <td>0</td>\n",
       "      <td>60.95</td>\n",
       "      <td>1</td>\n",
       "      <td>63.9975</td>\n",
       "      <td>2</td>\n",
       "      <td>5.9</td>\n",
       "      <td>11</td>\n",
       "      <td>40</td>\n",
       "      <td>18</td>\n",
       "      <td>2</td>\n",
       "    </tr>\n",
       "    <tr>\n",
       "      <th>995</th>\n",
       "      <td>2</td>\n",
       "      <td>1</td>\n",
       "      <td>1</td>\n",
       "      <td>40.35</td>\n",
       "      <td>1</td>\n",
       "      <td>42.3675</td>\n",
       "      <td>2</td>\n",
       "      <td>6.2</td>\n",
       "      <td>13</td>\n",
       "      <td>46</td>\n",
       "      <td>29</td>\n",
       "      <td>1</td>\n",
       "    </tr>\n",
       "    <tr>\n",
       "      <th>997</th>\n",
       "      <td>0</td>\n",
       "      <td>0</td>\n",
       "      <td>1</td>\n",
       "      <td>31.84</td>\n",
       "      <td>1</td>\n",
       "      <td>33.4320</td>\n",
       "      <td>0</td>\n",
       "      <td>7.7</td>\n",
       "      <td>13</td>\n",
       "      <td>22</td>\n",
       "      <td>9</td>\n",
       "      <td>2</td>\n",
       "    </tr>\n",
       "    <tr>\n",
       "      <th>998</th>\n",
       "      <td>0</td>\n",
       "      <td>1</td>\n",
       "      <td>1</td>\n",
       "      <td>65.82</td>\n",
       "      <td>1</td>\n",
       "      <td>69.1110</td>\n",
       "      <td>0</td>\n",
       "      <td>4.1</td>\n",
       "      <td>15</td>\n",
       "      <td>33</td>\n",
       "      <td>22</td>\n",
       "      <td>2</td>\n",
       "    </tr>\n",
       "  </tbody>\n",
       "</table>\n",
       "<p>846 rows × 12 columns</p>\n",
       "</div>"
      ],
      "text/plain": [
       "     Branch  Customer type  Gender  Unit price  Quantity     Total  Payment  \\\n",
       "0         0              0       0       74.69         7  548.9715        2   \n",
       "1         2              1       0       15.28         5   80.2200        0   \n",
       "2         0              1       1       46.33         7  340.5255        1   \n",
       "3         0              0       1       58.22         8  489.0480        2   \n",
       "6         0              0       0       68.84         6  433.6920        2   \n",
       "..      ...            ...     ...         ...       ...       ...      ...   \n",
       "993       1              1       1       17.49        10  183.6450        2   \n",
       "994       2              0       0       60.95         1   63.9975        2   \n",
       "995       2              1       1       40.35         1   42.3675        2   \n",
       "997       0              0       1       31.84         1   33.4320        0   \n",
       "998       0              1       1       65.82         1   69.1110        0   \n",
       "\n",
       "     Rating  Hour  Minute  Day  Month  \n",
       "0       9.1    13       8    5      1  \n",
       "1       9.6    10      29    8      3  \n",
       "2       7.4    13      23    3      3  \n",
       "3       8.4    20      33   27      1  \n",
       "6       5.8    14      36   25      2  \n",
       "..      ...   ...     ...  ...    ...  \n",
       "993     6.6    18      35   22      2  \n",
       "994     5.9    11      40   18      2  \n",
       "995     6.2    13      46   29      1  \n",
       "997     7.7    13      22    9      2  \n",
       "998     4.1    15      33   22      2  \n",
       "\n",
       "[846 rows x 12 columns]"
      ]
     },
     "execution_count": 56,
     "metadata": {},
     "output_type": "execute_result"
    }
   ],
   "source": [
    "df"
   ]
  },
  {
   "cell_type": "code",
   "execution_count": 57,
   "id": "6e78262f",
   "metadata": {},
   "outputs": [
    {
     "name": "stdout",
     "output_type": "stream",
     "text": [
      "<class 'pandas.core.frame.DataFrame'>\n",
      "Int64Index: 846 entries, 0 to 998\n",
      "Data columns (total 12 columns):\n",
      " #   Column         Non-Null Count  Dtype  \n",
      "---  ------         --------------  -----  \n",
      " 0   Branch         846 non-null    int32  \n",
      " 1   Customer type  846 non-null    int32  \n",
      " 2   Gender         846 non-null    int32  \n",
      " 3   Unit price     846 non-null    float64\n",
      " 4   Quantity       846 non-null    int64  \n",
      " 5   Total          846 non-null    float64\n",
      " 6   Payment        846 non-null    int32  \n",
      " 7   Rating         846 non-null    float64\n",
      " 8   Hour           846 non-null    int64  \n",
      " 9   Minute         846 non-null    int64  \n",
      " 10  Day            846 non-null    int64  \n",
      " 11  Month          846 non-null    int64  \n",
      "dtypes: float64(3), int32(4), int64(5)\n",
      "memory usage: 72.7 KB\n"
     ]
    }
   ],
   "source": [
    "df.info()"
   ]
  },
  {
   "cell_type": "code",
   "execution_count": 58,
   "id": "95b68b37",
   "metadata": {},
   "outputs": [],
   "source": [
    "y=df['Quantity']\n",
    "X=df.drop('Quantity',axis=1)"
   ]
  },
  {
   "cell_type": "code",
   "execution_count": 59,
   "id": "e0ec6f51",
   "metadata": {},
   "outputs": [],
   "source": [
    "from sklearn.model_selection import train_test_split"
   ]
  },
  {
   "cell_type": "code",
   "execution_count": 60,
   "id": "0defdd4f",
   "metadata": {},
   "outputs": [],
   "source": [
    "X_train, X_test, y_train, y_test = train_test_split(X,y, test_size=0.25, random_state=42)"
   ]
  },
  {
   "cell_type": "code",
   "execution_count": 61,
   "id": "1b2dd0b4",
   "metadata": {},
   "outputs": [
    {
     "name": "stdout",
     "output_type": "stream",
     "text": [
      "(846, 11)\n",
      "(846,)\n"
     ]
    }
   ],
   "source": [
    "print(X.shape)\n",
    "print(y.shape)"
   ]
  },
  {
   "cell_type": "code",
   "execution_count": 62,
   "id": "5cbe6a1f",
   "metadata": {},
   "outputs": [
    {
     "name": "stdout",
     "output_type": "stream",
     "text": [
      "Length of Training Data: 634\n",
      "Length of Testing Data: 212\n"
     ]
    }
   ],
   "source": [
    "print(\"Length of Training Data: {}\".format(len(X_train)))\n",
    "print(\"Length of Testing Data: {}\".format(len(X_test)))"
   ]
  },
  {
   "cell_type": "code",
   "execution_count": 63,
   "id": "c946ba2c",
   "metadata": {},
   "outputs": [],
   "source": [
    "from sklearn.preprocessing import RobustScaler, StandardScaler"
   ]
  },
  {
   "cell_type": "code",
   "execution_count": 64,
   "id": "c0f183e6",
   "metadata": {},
   "outputs": [],
   "source": [
    "scaler = RobustScaler()"
   ]
  },
  {
   "cell_type": "code",
   "execution_count": 65,
   "id": "4f9716a5",
   "metadata": {},
   "outputs": [],
   "source": [
    "X_train = scaler.fit_transform(X_train)\n",
    "X_test = scaler.fit_transform(X_test) "
   ]
  },
  {
   "cell_type": "markdown",
   "id": "2d2ec37f",
   "metadata": {},
   "source": [
    "Even that we have create IsFashion and Hour which has relationship to Quantity, however, its \"linear relationship\" is very small. So we only use Total and Unit price to test with Linear regression model."
   ]
  },
  {
   "cell_type": "markdown",
   "id": "f6a56943",
   "metadata": {},
   "source": [
    "### Linear Regression"
   ]
  },
  {
   "cell_type": "code",
   "execution_count": 66,
   "id": "8613dcd9",
   "metadata": {},
   "outputs": [],
   "source": [
    "from sklearn.linear_model import LinearRegression"
   ]
  },
  {
   "cell_type": "code",
   "execution_count": 67,
   "id": "4522854f",
   "metadata": {},
   "outputs": [],
   "source": [
    "LR = LinearRegression()"
   ]
  },
  {
   "cell_type": "code",
   "execution_count": 68,
   "id": "d284d8f2",
   "metadata": {},
   "outputs": [
    {
     "data": {
      "text/plain": [
       "LinearRegression()"
      ]
     },
     "execution_count": 68,
     "metadata": {},
     "output_type": "execute_result"
    }
   ],
   "source": [
    "LR.fit(X_train, y_train)"
   ]
  },
  {
   "cell_type": "code",
   "execution_count": 69,
   "id": "f39395a2",
   "metadata": {},
   "outputs": [],
   "source": [
    "y_predict = LR.predict(X_test)"
   ]
  },
  {
   "cell_type": "code",
   "execution_count": 70,
   "id": "0589f6af",
   "metadata": {},
   "outputs": [
    {
     "data": {
      "text/plain": [
       "array([9.89110404, 4.79485137, 8.56236296, 9.11867136, 4.68982839])"
      ]
     },
     "execution_count": 70,
     "metadata": {},
     "output_type": "execute_result"
    }
   ],
   "source": [
    "y_predict[0:5]"
   ]
  },
  {
   "cell_type": "code",
   "execution_count": 71,
   "id": "74a5e3ca",
   "metadata": {},
   "outputs": [
    {
     "data": {
      "text/plain": [
       "46     9\n",
       "303    4\n",
       "376    9\n",
       "123    8\n",
       "243    4\n",
       "Name: Quantity, dtype: int64"
      ]
     },
     "execution_count": 71,
     "metadata": {},
     "output_type": "execute_result"
    }
   ],
   "source": [
    "y_test[0:5]"
   ]
  },
  {
   "cell_type": "markdown",
   "id": "1ea7af63",
   "metadata": {},
   "source": [
    "### Model Evaluation"
   ]
  },
  {
   "cell_type": "code",
   "execution_count": 72,
   "id": "68a3c7e5",
   "metadata": {},
   "outputs": [],
   "source": [
    "from sklearn.metrics import mean_squared_error, r2_score"
   ]
  },
  {
   "cell_type": "code",
   "execution_count": 73,
   "id": "5be1e2d1",
   "metadata": {},
   "outputs": [
    {
     "name": "stdout",
     "output_type": "stream",
     "text": [
      "Train score: 0.8058369161252767\n",
      "Test score: 0.7515932593693596\n"
     ]
    }
   ],
   "source": [
    "# score the model on the train set\n",
    "print('Train score:',LR.score(X_train,y_train))\n",
    "\n",
    "# score the model on the test set\n",
    "print('Test score:',LR.score(X_test,y_test))\n"
   ]
  },
  {
   "cell_type": "code",
   "execution_count": 74,
   "id": "7a33ec42",
   "metadata": {},
   "outputs": [
    {
     "name": "stdout",
     "output_type": "stream",
     "text": [
      "Overall model accuracy: 0.7515932593693596\n",
      "Mean Squared Error: 1.9331940654396522\n"
     ]
    }
   ],
   "source": [
    "# calculate the overall accuracy of the model\n",
    "print('Overall model accuracy:',r2_score(y_test,y_predict))\n",
    "\n",
    "# compute the mean squared error of the model\n",
    "print('Mean Squared Error:',mean_squared_error(y_test,y_predict))"
   ]
  },
  {
   "cell_type": "code",
   "execution_count": 75,
   "id": "942c03d3",
   "metadata": {},
   "outputs": [],
   "source": [
    "r2= r2_score(y_test,y_predict)"
   ]
  },
  {
   "cell_type": "code",
   "execution_count": 76,
   "id": "9e69e820",
   "metadata": {},
   "outputs": [
    {
     "data": {
      "text/plain": [
       "0.7495182627292469"
      ]
     },
     "execution_count": 76,
     "metadata": {},
     "output_type": "execute_result"
    }
   ],
   "source": [
    "# Adjusted R2 score\n",
    "1-(1-r2)*(len(df)-1)/(len(df)-7-1)"
   ]
  },
  {
   "cell_type": "code",
   "execution_count": 77,
   "id": "ad3ed47e",
   "metadata": {},
   "outputs": [
    {
     "data": {
      "text/plain": [
       "array([-1.34322052e-01, -5.80335512e-02, -5.46832955e-02, -3.60588077e+00,\n",
       "        4.26685764e+00, -2.72169275e-02,  5.79656771e-02, -3.63932991e-02,\n",
       "        3.28830740e-03, -6.36785002e-02, -3.94672205e-02])"
      ]
     },
     "execution_count": 77,
     "metadata": {},
     "output_type": "execute_result"
    }
   ],
   "source": [
    "LR.coef_"
   ]
  },
  {
   "cell_type": "code",
   "execution_count": 78,
   "id": "b1886f70",
   "metadata": {},
   "outputs": [],
   "source": [
    "residuals = y_test.values-y_predict"
   ]
  },
  {
   "cell_type": "code",
   "execution_count": 79,
   "id": "2c35f0a3",
   "metadata": {},
   "outputs": [
    {
     "data": {
      "text/plain": [
       "array([-8.91104040e-01, -7.94851367e-01,  4.37637038e-01, -1.11867136e+00,\n",
       "       -6.89828388e-01, -1.69861968e+00,  6.56956744e-01,  2.91497268e+00,\n",
       "       -8.71570252e-01,  7.77615212e-01, -4.09415690e-01, -1.16453154e+00,\n",
       "        7.94513214e-01, -4.02575558e+00, -1.51996582e+00, -2.41703166e-01,\n",
       "        2.54622978e+00, -6.18050694e-01,  2.80009591e-01, -1.10318061e+00,\n",
       "        1.11115203e-01, -3.01780940e+00, -1.95412575e+00,  7.04576281e-01,\n",
       "       -1.23045350e+00, -9.06937423e-01,  2.86428934e-01, -7.58531993e-01,\n",
       "       -5.03030117e-01, -1.91231379e+00, -3.64190670e-03, -9.36420505e-01,\n",
       "       -9.67498129e-01,  1.55708496e-01, -3.26702604e+00,  1.74095129e+00,\n",
       "       -1.42254059e+00, -1.03657777e+00, -2.31985276e+00, -1.46276071e+00,\n",
       "       -1.20588542e+00, -1.86248378e+00, -4.30005651e-01, -1.58627222e+00,\n",
       "       -6.55481597e-01, -1.64118801e+00, -1.70945141e-01, -1.31909603e+00,\n",
       "       -5.38616294e-01, -1.11506630e+00,  2.61986432e+00, -7.22594348e-01,\n",
       "        1.10083397e+00,  2.12738387e+00, -9.99866186e-01, -9.73831226e-01,\n",
       "        7.39756962e-01, -5.62424136e-01,  7.16337940e-01, -8.65013353e-01,\n",
       "        2.33988621e+00,  1.63801022e+00, -8.08163667e-01, -1.16107620e+00,\n",
       "       -5.96793255e-01,  1.25489591e+00, -3.01303842e+00, -5.19527013e-01,\n",
       "       -7.43716471e-01, -3.52386789e+00, -8.52920423e-01,  1.32633382e-01,\n",
       "       -1.53019118e-01,  1.15973615e+00,  1.06780788e+00, -2.53135320e+00,\n",
       "       -2.90470307e+00,  2.65404780e-01, -6.34181605e-01, -2.04468085e-01,\n",
       "       -1.59159633e+00, -2.42559981e-01, -1.79511238e+00, -4.98858124e-01,\n",
       "        2.65047174e+00,  4.41778940e-01, -1.24087300e+00, -7.54061158e-01,\n",
       "       -1.54434396e+00, -7.95935371e-01, -3.55671449e+00, -8.88522561e-01,\n",
       "       -1.00899143e+00,  9.34422477e-01,  2.29505856e-01, -8.24915754e-01,\n",
       "       -1.19132527e+00,  2.21336791e-01, -1.24459785e+00, -8.78512505e-01,\n",
       "       -8.06569781e-01,  5.94153944e-01,  1.59809220e+00, -1.23257953e+00,\n",
       "       -1.01368537e-01,  1.55611765e+00, -7.74091861e-01, -8.00809267e-01,\n",
       "       -1.23676233e+00,  1.09883124e+00, -1.09307685e+00,  2.43381282e+00,\n",
       "        3.00329920e-01, -1.95343775e+00, -1.89683752e+00, -9.23312759e-01,\n",
       "        6.61169869e-01, -1.67452607e+00, -2.36314671e-01, -9.48168249e-01,\n",
       "       -9.34006761e-01, -9.77164640e-01, -3.31097899e-02, -8.02193575e-01,\n",
       "       -5.00156295e-01, -6.10234144e-01, -1.57374885e+00, -7.68198977e-02,\n",
       "       -5.55303973e-01,  1.54778794e-01, -8.25842395e-01,  1.82654789e-01,\n",
       "       -6.28724331e-01,  1.98004720e+00, -1.85241357e+00,  1.08516412e-01,\n",
       "       -1.19435903e+00,  1.97152371e+00,  2.70470879e-01, -1.29651595e+00,\n",
       "       -1.19814618e-01,  1.33223186e+00,  2.19882787e+00, -8.13003309e-01,\n",
       "       -6.88545433e-01,  2.52578100e-01,  2.08762008e+00,  7.64444669e-02,\n",
       "       -3.88534659e+00, -5.69936982e-01, -7.19583337e-01, -2.43759529e-01,\n",
       "       -2.07219347e-01,  1.63969589e+00,  1.76233746e+00,  1.52789650e+00,\n",
       "       -3.64694454e+00, -1.61755336e+00, -5.44595041e-01, -8.67043229e-01,\n",
       "       -1.22554608e+00, -2.66254298e-01, -7.34703787e-01, -8.73784331e-02,\n",
       "       -6.38890094e-01, -9.77518571e-01, -5.45573743e-01, -8.21097229e-01,\n",
       "       -4.29396809e-01, -4.67050442e-01, -1.52889499e+00, -8.12776261e-01,\n",
       "       -5.80857783e-01,  1.90532866e+00,  1.17930907e+00, -2.18335393e+00,\n",
       "        1.86088713e+00, -9.67416786e-01,  1.07371055e+00, -1.66578899e+00,\n",
       "       -1.13217590e-01, -9.78901681e-01, -2.19896603e+00, -1.12881558e+00,\n",
       "       -7.69416882e-01, -7.92627045e-01,  1.82484635e-01, -4.71221453e-01,\n",
       "        2.17915488e+00, -1.19623274e+00, -7.71785860e-01,  1.67798612e+00,\n",
       "        1.52581469e+00, -1.24884401e+00, -3.63389126e+00, -2.54877835e+00,\n",
       "       -1.00804592e+00, -6.40295237e-01, -4.15878914e-01, -8.83019668e-01,\n",
       "       -2.29207048e+00,  2.95997920e-01, -7.32806510e-01, -6.75193460e-02,\n",
       "       -1.07022908e+00,  1.53543234e+00, -5.51772191e-01, -1.87233533e+00,\n",
       "        1.39915451e+00, -4.77624666e-01, -6.74449829e-02,  1.91079899e+00])"
      ]
     },
     "execution_count": 79,
     "metadata": {},
     "output_type": "execute_result"
    }
   ],
   "source": [
    "residuals"
   ]
  },
  {
   "cell_type": "code",
   "execution_count": 85,
   "id": "3986cc4c",
   "metadata": {},
   "outputs": [],
   "source": [
    "import statsmodels.api as sm"
   ]
  },
  {
   "cell_type": "code",
   "execution_count": 86,
   "id": "131c53ce",
   "metadata": {},
   "outputs": [
    {
     "name": "stdout",
     "output_type": "stream",
     "text": [
      "                                 OLS Regression Results                                \n",
      "=======================================================================================\n",
      "Dep. Variable:               Quantity   R-squared (uncentered):                   0.731\n",
      "Model:                            OLS   Adj. R-squared (uncentered):              0.726\n",
      "Method:                 Least Squares   F-statistic:                              153.8\n",
      "Date:                Fri, 28 Oct 2022   Prob (F-statistic):                   2.20e-169\n",
      "Time:                        16:08:51   Log-Likelihood:                         -1580.1\n",
      "No. Observations:                 634   AIC:                                      3182.\n",
      "Df Residuals:                     623   BIC:                                      3231.\n",
      "Df Model:                          11                                                  \n",
      "Covariance Type:            nonrobust                                                  \n",
      "==============================================================================\n",
      "                 coef    std err          t      P>|t|      [0.025      0.975]\n",
      "------------------------------------------------------------------------------\n",
      "x1             0.1842      0.291      0.634      0.526      -0.386       0.755\n",
      "x2             2.9299      0.195     15.027      0.000       2.547       3.313\n",
      "x3             3.0495      0.196     15.593      0.000       2.665       3.433\n",
      "x4            -3.8607      0.236    -16.380      0.000      -4.324      -3.398\n",
      "x5             5.2647      0.212     24.776      0.000       4.847       5.682\n",
      "x6            -0.2190      0.285     -0.768      0.443      -0.779       0.341\n",
      "x7             0.0073      0.197      0.037      0.971      -0.379       0.394\n",
      "x8            -0.3039      0.220     -1.382      0.168      -0.736       0.128\n",
      "x9            -0.1142      0.199     -0.573      0.567      -0.506       0.277\n",
      "x10           -0.0956      0.205     -0.467      0.641      -0.498       0.306\n",
      "x11           -0.0423      0.287     -0.148      0.883      -0.605       0.521\n",
      "==============================================================================\n",
      "Omnibus:                        6.056   Durbin-Watson:                   1.428\n",
      "Prob(Omnibus):                  0.048   Jarque-Bera (JB):                4.399\n",
      "Skew:                           0.063   Prob(JB):                        0.111\n",
      "Kurtosis:                       2.612   Cond. No.                         2.20\n",
      "==============================================================================\n",
      "\n",
      "Notes:\n",
      "[1] R² is computed without centering (uncentered) since the model does not contain a constant.\n",
      "[2] Standard Errors assume that the covariance matrix of the errors is correctly specified.\n"
     ]
    }
   ],
   "source": [
    "model = sm.OLS(y_train, X_train)\n",
    "result=model.fit()\n",
    "print(result.summary())"
   ]
  },
  {
   "cell_type": "markdown",
   "id": "44896fac",
   "metadata": {},
   "source": [
    "### Lasso"
   ]
  },
  {
   "cell_type": "code",
   "execution_count": 87,
   "id": "9a47af0f",
   "metadata": {},
   "outputs": [],
   "source": [
    "from sklearn.linear_model import Lasso"
   ]
  },
  {
   "cell_type": "code",
   "execution_count": 88,
   "id": "68b0b8cf",
   "metadata": {},
   "outputs": [],
   "source": [
    "# Train the model\n",
    "lasso = Lasso(alpha =0.0001)\n",
    "lasso.fit(X_train, y_train)\n",
    "y_pred1 = lasso.predict(X_test)"
   ]
  },
  {
   "cell_type": "code",
   "execution_count": 89,
   "id": "7e4395cc",
   "metadata": {},
   "outputs": [],
   "source": [
    "r2=r2_score(y_test,y_pred1)\n",
    "r2=r2_score(y_test,y_pred1)"
   ]
  },
  {
   "cell_type": "code",
   "execution_count": 90,
   "id": "398acbd0",
   "metadata": {},
   "outputs": [],
   "source": [
    "r2=r2_score(y_test,y_pred1)"
   ]
  },
  {
   "cell_type": "code",
   "execution_count": 91,
   "id": "650c0c29",
   "metadata": {},
   "outputs": [
    {
     "data": {
      "text/plain": [
       "0.7517300481167383"
      ]
     },
     "execution_count": 91,
     "metadata": {},
     "output_type": "execute_result"
    }
   ],
   "source": [
    "r2"
   ]
  },
  {
   "cell_type": "code",
   "execution_count": 92,
   "id": "3f4c4c7f",
   "metadata": {},
   "outputs": [
    {
     "name": "stdout",
     "output_type": "stream",
     "text": [
      "Train score: 0.8058368498744752\n",
      "Test score: 0.7517300481167383\n",
      "Overall model accuracy: 0.7517300481167383\n",
      "Mean Squared Error: 1.9321295243004704\n"
     ]
    }
   ],
   "source": [
    "# score the model on the train set\n",
    "print('Train score:',lasso.score(X_train,y_train))\n",
    "\n",
    "# score the model on the test set\n",
    "print('Test score:',lasso.score(X_test,y_test))\n",
    "\n",
    "# calculate the overall accuracy of the model\n",
    "print('Overall model accuracy:',r2_score(y_test,y_pred1))\n",
    "\n",
    "# compute the mean squared error of the model\n",
    "print('Mean Squared Error:',mean_squared_error(y_test,y_pred1))"
   ]
  },
  {
   "cell_type": "markdown",
   "id": "360c6bb9",
   "metadata": {},
   "source": [
    "### Ridge"
   ]
  },
  {
   "cell_type": "code",
   "execution_count": 93,
   "id": "64cf08f4",
   "metadata": {},
   "outputs": [],
   "source": [
    "from sklearn.linear_model import Ridge"
   ]
  },
  {
   "cell_type": "code",
   "execution_count": 94,
   "id": "f71b725d",
   "metadata": {},
   "outputs": [],
   "source": [
    "# Train the model\n",
    "Ridge = Ridge(alpha = 0.03)\n",
    "Ridge.fit(X_train,y_train)\n",
    "y_pred2 = Ridge.predict(X_test)"
   ]
  },
  {
   "cell_type": "code",
   "execution_count": 95,
   "id": "6c2d86af",
   "metadata": {},
   "outputs": [],
   "source": [
    "r2=r2_score(y_test,y_pred2)"
   ]
  },
  {
   "cell_type": "code",
   "execution_count": 96,
   "id": "f1f09780",
   "metadata": {},
   "outputs": [
    {
     "data": {
      "text/plain": [
       "0.7516414942044517"
      ]
     },
     "execution_count": 96,
     "metadata": {},
     "output_type": "execute_result"
    }
   ],
   "source": [
    "r2"
   ]
  },
  {
   "cell_type": "code",
   "execution_count": 97,
   "id": "bb05667f",
   "metadata": {},
   "outputs": [
    {
     "name": "stdout",
     "output_type": "stream",
     "text": [
      "Train score: 0.8058368636504941\n",
      "Test score: 0.7516414942044517\n",
      "Overall model accuracy: 0.7516414942044517\n",
      "Mean Squared Error: 1.9328186839314423\n"
     ]
    }
   ],
   "source": [
    "# score the model on the train set\n",
    "print('Train score:',Ridge.score(X_train,y_train))\n",
    "\n",
    "# score the model on the test set\n",
    "print('Test score:',Ridge.score(X_test,y_test))\n",
    "\n",
    "# calculate the overall accuracy of the model\n",
    "print('Overall model accuracy:',r2_score(y_test,y_pred2))\n",
    "\n",
    "# compute the mean squared error of the model\n",
    "print('Mean Squared Error:',mean_squared_error(y_test,y_pred2))"
   ]
  },
  {
   "cell_type": "markdown",
   "id": "5b45f6e3",
   "metadata": {},
   "source": [
    "### Decision Tree"
   ]
  },
  {
   "cell_type": "code",
   "execution_count": 98,
   "id": "47b84ba2",
   "metadata": {},
   "outputs": [],
   "source": [
    "from sklearn.tree import DecisionTreeClassifier\n",
    "from sklearn.tree import DecisionTreeRegressor"
   ]
  },
  {
   "cell_type": "code",
   "execution_count": 99,
   "id": "5e47d77b",
   "metadata": {},
   "outputs": [],
   "source": [
    "classifier = DecisionTreeClassifier(max_depth=3)"
   ]
  },
  {
   "cell_type": "code",
   "execution_count": 100,
   "id": "c00de792",
   "metadata": {},
   "outputs": [
    {
     "data": {
      "text/plain": [
       "DecisionTreeClassifier(max_depth=3)"
      ]
     },
     "execution_count": 100,
     "metadata": {},
     "output_type": "execute_result"
    }
   ],
   "source": [
    "classifier.fit(X_train, y_train)"
   ]
  },
  {
   "cell_type": "code",
   "execution_count": 101,
   "id": "5e9b3e8b",
   "metadata": {},
   "outputs": [],
   "source": [
    "y_pred = classifier.predict(X_test)"
   ]
  },
  {
   "cell_type": "code",
   "execution_count": 102,
   "id": "70d6853e",
   "metadata": {},
   "outputs": [],
   "source": [
    "from sklearn.metrics import accuracy_score"
   ]
  },
  {
   "cell_type": "code",
   "execution_count": 103,
   "id": "1a643c2b",
   "metadata": {},
   "outputs": [
    {
     "data": {
      "text/plain": [
       "0.24528301886792453"
      ]
     },
     "execution_count": 103,
     "metadata": {},
     "output_type": "execute_result"
    }
   ],
   "source": [
    "accuracy_score(y_test, y_pred)"
   ]
  },
  {
   "cell_type": "code",
   "execution_count": 104,
   "id": "679caa4e",
   "metadata": {},
   "outputs": [],
   "source": [
    "from sklearn.metrics import classification_report"
   ]
  },
  {
   "cell_type": "code",
   "execution_count": 105,
   "id": "93df8a27",
   "metadata": {},
   "outputs": [
    {
     "name": "stdout",
     "output_type": "stream",
     "text": [
      "classification_report:-\n",
      "               precision    recall  f1-score   support\n",
      "\n",
      "           1       0.79      0.45      0.58        33\n",
      "           2       0.28      0.23      0.25        22\n",
      "           3       0.20      0.17      0.18        24\n",
      "           4       0.17      0.40      0.24        25\n",
      "           5       0.16      0.52      0.24        21\n",
      "           6       0.00      0.00      0.00        21\n",
      "           7       0.00      0.00      0.00        18\n",
      "           8       0.00      0.00      0.00        23\n",
      "           9       0.00      0.00      0.00        13\n",
      "          10       0.28      0.58      0.38        12\n",
      "\n",
      "    accuracy                           0.25       212\n",
      "   macro avg       0.19      0.24      0.19       212\n",
      "weighted avg       0.23      0.25      0.21       212\n",
      "\n"
     ]
    }
   ],
   "source": [
    "print('classification_report:-\\n', classification_report(y_test, y_pred))"
   ]
  },
  {
   "cell_type": "markdown",
   "id": "090dbfb5",
   "metadata": {},
   "source": [
    "### Random Forest`"
   ]
  },
  {
   "cell_type": "code",
   "execution_count": 106,
   "id": "d31e6eaf",
   "metadata": {},
   "outputs": [],
   "source": [
    "from sklearn.ensemble import RandomForestClassifier"
   ]
  },
  {
   "cell_type": "code",
   "execution_count": 107,
   "id": "eccc2748",
   "metadata": {},
   "outputs": [],
   "source": [
    "classifier= RandomForestClassifier(n_estimators=12)"
   ]
  },
  {
   "cell_type": "code",
   "execution_count": 108,
   "id": "217573f1",
   "metadata": {},
   "outputs": [
    {
     "data": {
      "text/plain": [
       "RandomForestClassifier(n_estimators=12)"
      ]
     },
     "execution_count": 108,
     "metadata": {},
     "output_type": "execute_result"
    }
   ],
   "source": [
    "classifier.fit(X_train,y_train)"
   ]
  },
  {
   "cell_type": "markdown",
   "id": "c199b21e",
   "metadata": {},
   "source": [
    "### Randomized searchCV"
   ]
  },
  {
   "cell_type": "code",
   "execution_count": 109,
   "id": "482af8fa",
   "metadata": {},
   "outputs": [],
   "source": [
    "from scipy.stats import randint\n",
    "from sklearn.model_selection import RandomizedSearchCV"
   ]
  },
  {
   "cell_type": "code",
   "execution_count": 110,
   "id": "f101cb99",
   "metadata": {},
   "outputs": [],
   "source": [
    "data = {\"max_depth\": [3, None],\n",
    "            \"max_features\": randint(1, 9),\n",
    "            \"min_samples_leaf\": randint(1, 9),\n",
    "            \"criterion\": [\"gini\", \"entropy\"]}"
   ]
  },
  {
   "cell_type": "code",
   "execution_count": 111,
   "id": "d5e7b74f",
   "metadata": {},
   "outputs": [],
   "source": [
    "Classifier = RandomForestClassifier()"
   ]
  },
  {
   "cell_type": "code",
   "execution_count": 112,
   "id": "c6b92368",
   "metadata": {},
   "outputs": [
    {
     "data": {
      "text/plain": [
       "RandomForestClassifier()"
      ]
     },
     "execution_count": 112,
     "metadata": {},
     "output_type": "execute_result"
    }
   ],
   "source": [
    "Classifier"
   ]
  },
  {
   "cell_type": "code",
   "execution_count": 117,
   "id": "8e0b47b3",
   "metadata": {},
   "outputs": [
    {
     "data": {
      "text/plain": [
       "RandomizedSearchCV(cv=4, estimator=RandomForestClassifier(),\n",
       "                   param_distributions={'criterion': ['gini', 'entropy'],\n",
       "                                        'max_depth': [3, None],\n",
       "                                        'max_features': <scipy.stats._distn_infrastructure.rv_frozen object at 0x000001CEBD758A30>,\n",
       "                                        'min_samples_leaf': <scipy.stats._distn_infrastructure.rv_frozen object at 0x000001CEBD743400>})"
      ]
     },
     "execution_count": 117,
     "metadata": {},
     "output_type": "execute_result"
    }
   ],
   "source": [
    "Classifier_cv = RandomizedSearchCV(Classifier, data, cv = 4)\n",
    "Classifier_cv.fit(X, y)\n"
   ]
  },
  {
   "cell_type": "code",
   "execution_count": 118,
   "id": "220ffe7b",
   "metadata": {},
   "outputs": [
    {
     "data": {
      "text/plain": [
       "{'criterion': 'entropy',\n",
       " 'max_depth': None,\n",
       " 'max_features': 8,\n",
       " 'min_samples_leaf': 3}"
      ]
     },
     "execution_count": 118,
     "metadata": {},
     "output_type": "execute_result"
    }
   ],
   "source": [
    "Classifier_cv.best_params_"
   ]
  },
  {
   "cell_type": "code",
   "execution_count": 119,
   "id": "5610bda5",
   "metadata": {},
   "outputs": [
    {
     "name": "stdout",
     "output_type": "stream",
     "text": [
      "Best score is : 0.7600655012071895\n"
     ]
    }
   ],
   "source": [
    "print(\"Best score is :\",(Classifier_cv.best_score_))"
   ]
  },
  {
   "cell_type": "raw",
   "id": "fba9f561",
   "metadata": {},
   "source": [
    "CONCLUSION :\n",
    "\n",
    "Accuracies Of Different Models Are:\n",
    "   * LASSO REGRESSION : 0.75%.\n",
    "   * RIDGE REGRESSION : 0.75%\n",
    "   * DECISION TREE    : 0.24%\n",
    "   * RANDOM FOREST    : 0.76%\n",
    "Data visualization and statistical methods, we can create a simple linear regression model but high performance. From our 4 tested models, RANDOM FOREST still achieve the best performance with 0.76%."
   ]
  },
  {
   "cell_type": "markdown",
   "id": "a5475278",
   "metadata": {},
   "source": [
    "## THE END"
   ]
  }
 ],
 "metadata": {
  "kernelspec": {
   "display_name": "Python 3 (ipykernel)",
   "language": "python",
   "name": "python3"
  },
  "language_info": {
   "codemirror_mode": {
    "name": "ipython",
    "version": 3
   },
   "file_extension": ".py",
   "mimetype": "text/x-python",
   "name": "python",
   "nbconvert_exporter": "python",
   "pygments_lexer": "ipython3",
   "version": "3.9.12"
  }
 },
 "nbformat": 4,
 "nbformat_minor": 5
}
